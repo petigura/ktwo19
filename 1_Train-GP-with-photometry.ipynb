{
 "cells": [
  {
   "cell_type": "code",
   "execution_count": 1,
   "metadata": {},
   "outputs": [
    {
     "name": "stderr",
     "output_type": "stream",
     "text": [
      "/Users/petigura/anaconda2/lib/python2.7/site-packages/scipy/stats/_continuous_distns.py:17: RuntimeWarning: numpy.dtype size changed, may indicate binary incompatibility. Expected 96, got 88\n",
      "  from . import _stats\n"
     ]
    },
    {
     "ename": "ImportError",
     "evalue": "cannot import name select_autoescape",
     "output_type": "error",
     "traceback": [
      "\u001b[0;31m---------------------------------------------------------------------------\u001b[0m",
      "\u001b[0;31mImportError\u001b[0m                               Traceback (most recent call last)",
      "\u001b[0;32m<ipython-input-1-54bff921e170>\u001b[0m in \u001b[0;36m<module>\u001b[0;34m()\u001b[0m\n\u001b[1;32m      2\u001b[0m \u001b[0;32mimport\u001b[0m \u001b[0mpandas\u001b[0m \u001b[0;32mas\u001b[0m \u001b[0mpd\u001b[0m\u001b[0;34m\u001b[0m\u001b[0m\n\u001b[1;32m      3\u001b[0m \u001b[0;32mimport\u001b[0m \u001b[0mos\u001b[0m\u001b[0;34m\u001b[0m\u001b[0m\n\u001b[0;32m----> 4\u001b[0;31m \u001b[0;32mimport\u001b[0m \u001b[0mradvel\u001b[0m\u001b[0;34m\u001b[0m\u001b[0m\n\u001b[0m\u001b[1;32m      5\u001b[0m \u001b[0;32mfrom\u001b[0m \u001b[0mradvel\u001b[0m\u001b[0;34m.\u001b[0m\u001b[0mplot\u001b[0m \u001b[0;32mimport\u001b[0m \u001b[0morbit_plots\u001b[0m\u001b[0;34m,\u001b[0m \u001b[0mmcmc_plots\u001b[0m\u001b[0;34m\u001b[0m\u001b[0m\n\u001b[1;32m      6\u001b[0m \u001b[0;32mfrom\u001b[0m \u001b[0mscipy\u001b[0m \u001b[0;32mimport\u001b[0m \u001b[0moptimize\u001b[0m\u001b[0;34m\u001b[0m\u001b[0m\n",
      "\u001b[0;32m/Users/petigura/anaconda2/lib/python2.7/site-packages/radvel/__init__.pyc\u001b[0m in \u001b[0;36m<module>\u001b[0;34m()\u001b[0m\n\u001b[1;32m      5\u001b[0m \u001b[0;32mfrom\u001b[0m \u001b[0;34m.\u001b[0m\u001b[0mprior\u001b[0m \u001b[0;32mimport\u001b[0m \u001b[0;34m*\u001b[0m\u001b[0;34m\u001b[0m\u001b[0m\n\u001b[1;32m      6\u001b[0m \u001b[0;32mfrom\u001b[0m \u001b[0;34m.\u001b[0m\u001b[0mutils\u001b[0m \u001b[0;32mimport\u001b[0m \u001b[0;34m*\u001b[0m\u001b[0;34m\u001b[0m\u001b[0m\n\u001b[0;32m----> 7\u001b[0;31m \u001b[0;32mfrom\u001b[0m \u001b[0;34m.\u001b[0m\u001b[0mreport\u001b[0m \u001b[0;32mimport\u001b[0m \u001b[0;34m*\u001b[0m\u001b[0;34m\u001b[0m\u001b[0m\n\u001b[0m\u001b[1;32m      8\u001b[0m \u001b[0;32mfrom\u001b[0m \u001b[0;34m.\u001b[0m\u001b[0mplot\u001b[0m \u001b[0;32mimport\u001b[0m \u001b[0;34m*\u001b[0m\u001b[0;34m\u001b[0m\u001b[0m\n\u001b[1;32m      9\u001b[0m \u001b[0;32mfrom\u001b[0m \u001b[0;34m.\u001b[0m\u001b[0mfitting\u001b[0m \u001b[0;32mimport\u001b[0m \u001b[0;34m*\u001b[0m\u001b[0;34m\u001b[0m\u001b[0m\n",
      "\u001b[0;32m/Users/petigura/anaconda2/lib/python2.7/site-packages/radvel/report.py\u001b[0m in \u001b[0;36m<module>\u001b[0;34m()\u001b[0m\n\u001b[1;32m      6\u001b[0m \u001b[0;32mimport\u001b[0m \u001b[0mshutil\u001b[0m\u001b[0;34m\u001b[0m\u001b[0m\n\u001b[1;32m      7\u001b[0m \u001b[0;32mfrom\u001b[0m \u001b[0moperator\u001b[0m \u001b[0;32mimport\u001b[0m \u001b[0mitemgetter\u001b[0m\u001b[0;34m\u001b[0m\u001b[0m\n\u001b[0;32m----> 8\u001b[0;31m \u001b[0;32mfrom\u001b[0m \u001b[0mjinja2\u001b[0m \u001b[0;32mimport\u001b[0m \u001b[0mEnvironment\u001b[0m\u001b[0;34m,\u001b[0m \u001b[0mPackageLoader\u001b[0m\u001b[0;34m,\u001b[0m \u001b[0mselect_autoescape\u001b[0m\u001b[0;34m\u001b[0m\u001b[0m\n\u001b[0m\u001b[1;32m      9\u001b[0m \u001b[0;34m\u001b[0m\u001b[0m\n\u001b[1;32m     10\u001b[0m \u001b[0;32mimport\u001b[0m \u001b[0mradvel\u001b[0m\u001b[0;34m\u001b[0m\u001b[0m\n",
      "\u001b[0;31mImportError\u001b[0m: cannot import name select_autoescape"
     ]
    }
   ],
   "source": [
    "import numpy as np\n",
    "import pandas as pd\n",
    "import os\n",
    "import radvel\n",
    "from radvel.plot import orbit_plots, mcmc_plots\n",
    "from scipy import optimize\n",
    "import ktwo19\n",
    "import ktwo19.io\n",
    "%pylab osx"
   ]
  },
  {
   "cell_type": "code",
   "execution_count": 2,
   "metadata": {},
   "outputs": [
    {
     "data": {
      "text/plain": [
       "[<matplotlib.lines.Line2D at 0x102879110>]"
      ]
     },
     "execution_count": 2,
     "metadata": {},
     "output_type": "execute_result"
    }
   ],
   "source": [
    "df = pd.read_csv('data/photometry/ktwo-everest.tsv',sep='\\t')\n",
    "def masktransits(df):\n",
    "    tc1 = 813.3837 + 2456000 - 2454833\n",
    "    per1 = 7.9194\n",
    "    tphase = np.mod(df.t - tc1 + 0.5 * per1,per1) - 0.5*per1\n",
    "    df['mask'] = df['mask'] | np.array((np.abs(tphase) < 0.15))\n",
    "    tc2 = 817.2755 + 2456000 - 2454833 \n",
    "    per2 = 11.90715\n",
    "    tphase = np.mod(df.t - tc2 + 0.5 * per2,per2) - 0.5*per2\n",
    "    df['mask'] = df['mask'] | np.array((np.abs(tphase) < 0.15))\n",
    "    df = df.query('mask==0')\n",
    "    return df \n",
    "    \n",
    "plot(df.t,df.f,'.')"
   ]
  },
  {
   "cell_type": "code",
   "execution_count": 3,
   "metadata": {},
   "outputs": [
    {
     "data": {
      "text/plain": [
       "9.2999753544474508e-05"
      ]
     },
     "execution_count": 3,
     "metadata": {},
     "output_type": "execute_result"
    }
   ],
   "source": [
    "# Compute scatter in photmetry\n",
    "sigma_diff = 1.48 * df.f.diff().abs().median() \n",
    "sigma_phot = sigma_diff / np.sqrt(2)\n",
    "sigma_phot"
   ]
  },
  {
   "cell_type": "code",
   "execution_count": 4,
   "metadata": {},
   "outputs": [
    {
     "name": "stderr",
     "output_type": "stream",
     "text": [
      "/Users/petigura/anaconda2/lib/python2.7/site-packages/ipykernel_launcher.py:44: OptimizeWarning: Unknown solver options: xatol\n",
      "/Users/petigura/anaconda2/lib/python2.7/site-packages/scipy/optimize/optimize.py:1927: RuntimeWarning: invalid value encountered in double_scalars\n",
      "  tmp2 = (x - v) * (fx - fw)\n",
      "/Users/petigura/anaconda2/lib/python2.7/site-packages/scipy/optimize/optimize.py:1932: RuntimeWarning: invalid value encountered in absolute\n",
      "  tmp2 = numpy.abs(tmp2)\n"
     ]
    },
    {
     "name": "stdout",
     "output_type": "stream",
     "text": [
      "parameter                     value      vary\n",
      "per1                         7.9207      False\n",
      "tc1                         1980.38      False\n",
      "secosw1                           0      False\n",
      "sesinw1                           0      False\n",
      "k1                                0      False\n",
      "dvdt                              0      False\n",
      "curv                              0      False\n",
      "gp_amp                         0.01       True\n",
      "gp_explength               0.254081       True\n",
      "gp_per                  1.41906e+08       True\n",
      "gp_perlength                10.7517       True\n",
      "gamma_phot                 0.984895       True\n",
      "jit_phot                      0.001       True\n",
      "\n",
      "Priors\n",
      "------\n",
      "Jeffrey's prior on gp_amp, min=0.00025, max=0.01\n",
      "Jeffrey's prior on jit_phot, min=1e-06, max=0.001\n",
      "\n"
     ]
    }
   ],
   "source": [
    "hnames = [\n",
    "    'gp_amp', # eta_1; GP variability amplitude\n",
    "    'gp_explength', # eta_2; GP non-periodic characteristic length\n",
    "    'gp_per', # eta_3; GP variability period\n",
    "    'gp_perlength', # eta_4; GP periodic characteristic length\n",
    "]\n",
    "\n",
    "nplanets=1\n",
    "params = radvel.Parameters(nplanets,basis='per tc secosw sesinw k')\n",
    "params['per1'] = radvel.Parameter(value=7.9207019469,vary=False)\n",
    "params['tc1'] = radvel.Parameter(value=1980.3770766406,vary=False)\n",
    "params['sesinw1'] = radvel.Parameter(value=0.,vary=False) # fix eccentricity = 0\n",
    "params['secosw1'] = radvel.Parameter(value=0.,vary=False)\n",
    "params['k1'] = radvel.Parameter(value=0,vary=False)\n",
    "params['dvdt'] = radvel.Parameter(value=0,vary=False)\n",
    "params['curv'] = radvel.Parameter(value=0,vary=False)\n",
    "\n",
    "\n",
    "params['gp_amp'] = radvel.Parameter(value=0.001)\n",
    "params['gp_explength'] = radvel.Parameter(value=10)\n",
    "params['gp_per'] = radvel.Parameter(value=20.4,vary=True)\n",
    "params['gp_perlength'] = radvel.Parameter(value=0.4)\n",
    "\n",
    "photmodel = radvel.model.RVModel(params)\n",
    "\n",
    "dftrain = df.iloc[::10]\n",
    "like = radvel.likelihood.GPLikelihood(\n",
    "    photmodel, dftrain.t, dftrain.f, sigma_phot, hnames, suffix='_phot',kernel_name=\"QuasiPer\"\n",
    ")\n",
    "\n",
    "# Add in instrument parameters\n",
    "like.params['gamma_phot'] = radvel.Parameter(value=np.mean(dftrain.f),vary=True)\n",
    "like.params['jit_phot'] = radvel.Parameter(value=0.001,vary=True)\n",
    "\n",
    "gppost = radvel.posterior.Posterior(like)\n",
    "gppost.priors += [radvel.prior.Jeffreys('gp_amp', 250e-6, 0.01)]\n",
    "gppost.priors += [radvel.prior.Jeffreys('jit_phot', 1e-6, 1e-3)]\n",
    "#gppost.priors += [radvel.prior.Gaussian('gp_explength', gp_explength_mean, gp_explength_unc)]\n",
    "#gppost.priors += [radvel.prior.Gaussian('gp_per', gp_per_mean, gp_per_unc)]\n",
    "#gppost.priors += [radvel.prior.Gaussian('gp_perlength', gp_perlength_mean, gp_perlength_unc)]\n",
    "\n",
    "res = optimize.minimize(\n",
    "    gppost.neglogprob_array, gppost.get_vary_params(), method='Powell',\n",
    "    options=dict(maxiter=200, maxfev=100000, xatol=1e-8)\n",
    ")\n",
    "\n",
    "print(gppost)\n"
   ]
  },
  {
   "cell_type": "code",
   "execution_count": 5,
   "metadata": {
    "collapsed": true
   },
   "outputs": [],
   "source": [
    "clf()\n",
    "\n",
    "like = radvel.likelihood.GPLikelihood(\n",
    "    photmodel, df.t, df.f, sigma_phot, hnames, suffix='_phot',kernel_name=\"QuasiPer\"\n",
    ")\n",
    "\n",
    "like.params['gamma_phot'] = radvel.Parameter(value=np.mean(dftrain.f),vary=True)\n",
    "like.params['jit_phot'] = radvel.Parameter(value=0.001,vary=True)\n",
    "\n",
    "gppost2 = radvel.posterior.Posterior(like)\n",
    "import copy\n",
    "gppost2.params = copy.deepcopy(gppost.params)\n",
    "\n",
    "\n"
   ]
  },
  {
   "cell_type": "code",
   "execution_count": 21,
   "metadata": {
    "collapsed": true
   },
   "outputs": [],
   "source": [
    "hnames = [\n",
    "    'gp_amp', # eta_1; GP variability amplitude\n",
    "    'gp_explength', # eta_2; GP non-periodic characteristic length\n",
    "    'gp_per', # eta_3; GP variability period\n",
    "    'gp_perlength', # eta_4; GP periodic characteristic length\n",
    "]\n",
    "\n",
    "nplanets=1\n",
    "params = radvel.Parameters(nplanets,basis='per tc secosw sesinw k')\n",
    "params['per1'] = radvel.Parameter(value=7.9207019469,vary=False)\n",
    "params['tc1'] = radvel.Parameter(value=1980.3770766406,vary=False)\n",
    "params['sesinw1'] = radvel.Parameter(value=0.,vary=False) # fix eccentricity = 0\n",
    "params['secosw1'] = radvel.Parameter(value=0.,vary=False)\n",
    "params['k1'] = radvel.Parameter(value=0,vary=False)\n",
    "params['dvdt'] = radvel.Parameter(value=0,vary=False)\n",
    "params['curv'] = radvel.Parameter(value=0,vary=False)\n",
    "\n",
    "\n",
    "params['gp_amp'] = radvel.Parameter(value=0.004243)\n",
    "params['gp_explength'] = radvel.Parameter(value=33.984398)\n",
    "params['gp_per'] = radvel.Parameter(value=20.387807,vary=True)\n",
    "params['gp_perlength'] = radvel.Parameter(value=0.485900)\n",
    "\n",
    "\n",
    "\n",
    "photmodel = radvel.model.RVModel(params)\n",
    "\n",
    "\n",
    ",close all\n",
    "fig = figure(figsize=(8,3))\n",
    "\n",
    "df = pd.read_csv('data/photometry/ktwo-everest.tsv',sep='\\t')\n",
    "df = df.query('mask==0 and not (2015 < t < 2017)')\n",
    "dfm = masktransits(df)\n",
    "like = radvel.likelihood.GPLikelihood(\n",
    "    photmodel, dfm.t, dfm.f, sigma_phot, hnames, suffix='_phot',kernel_name=\"QuasiPer\"\n",
    ")\n",
    "\n",
    "# Add in instrument parameters\n",
    "like.params['gamma_phot'] = radvel.Parameter(value=1.001307,vary=True)\n",
    "like.params['jit_phot'] = radvel.Parameter(value=0.000679,vary=True)\n",
    "\n",
    "gppost2 = radvel.posterior.Posterior(like)\n",
    "\n",
    "plot(df.t,df.f,'.',ms=2,color='k',label='photometry')\n",
    "\n",
    "t = np.linspace(df.t.iloc[0],df.t.iloc[-1],1000)\n",
    "mu_pred, std_pred  = gppost2.likelihood.predict(t)\n",
    "plot(t,mu_pred + gppost2.params['gamma_phot'].value,'r',label='GP')\n",
    "fig.set_tight_layout(True)\n",
    "xlabel('BJD - 2454833')\n",
    "ylabel('Normalized Flux')\n",
    "fill_between(t,mu_pred + gppost2.params['gamma_phot'].value + std_pred ,mu_pred + gppost2.params['gamma_phot'].value - std_pred,color='r',alpha=0.3)\n",
    "grid()\n",
    "legend()\n",
    "fig.savefig('fig_photometry-gp.pdf')\n",
    "\n"
   ]
  },
  {
   "cell_type": "code",
   "execution_count": null,
   "metadata": {},
   "outputs": [
    {
     "name": "stderr",
     "output_type": "stream",
     "text": [
      "/Users/petigura/anaconda2/lib/python2.7/site-packages/emcee/ensemble.py:335: RuntimeWarning: invalid value encountered in subtract\n",
      "  lnpdiff = (self.dim - 1.) * np.log(zz) + newlnprob - lnprob0\n",
      "/Users/petigura/anaconda2/lib/python2.7/site-packages/emcee/ensemble.py:336: RuntimeWarning: invalid value encountered in greater\n",
      "  accept = (lnpdiff > np.log(self._random.rand(len(lnpdiff))))\n",
      "/Users/petigura/anaconda2/lib/python2.7/site-packages/emcee/ensemble.py:335: RuntimeWarning: invalid value encountered in subtract\n",
      "  lnpdiff = (self.dim - 1.) * np.log(zz) + newlnprob - lnprob0\n",
      "/Users/petigura/anaconda2/lib/python2.7/site-packages/emcee/ensemble.py:336: RuntimeWarning: invalid value encountered in greater\n",
      "  accept = (lnpdiff > np.log(self._random.rand(len(lnpdiff))))\n",
      "/Users/petigura/anaconda2/lib/python2.7/site-packages/emcee/ensemble.py:335: RuntimeWarning: invalid value encountered in subtract\n",
      "  lnpdiff = (self.dim - 1.) * np.log(zz) + newlnprob - lnprob0\n",
      "/Users/petigura/anaconda2/lib/python2.7/site-packages/emcee/ensemble.py:336: RuntimeWarning: invalid value encountered in greater\n",
      "  accept = (lnpdiff > np.log(self._random.rand(len(lnpdiff))))\n"
     ]
    },
    {
     "name": "stdout",
     "output_type": "stream",
     "text": [
      "7500/150000 (5.0%) steps complete; Running 250.49 steps/s; Mean acceptance rate = 1.1%; Min Tz = 128.9; Max G-R = 1.024      \n",
      "Discarding burn-in now that the chains are marginally well-mixed\n",
      "\n"
     ]
    },
    {
     "name": "stderr",
     "output_type": "stream",
     "text": [
      "/Users/petigura/anaconda2/lib/python2.7/site-packages/emcee/ensemble.py:335: RuntimeWarning: invalid value encountered in subtract\n",
      "  lnpdiff = (self.dim - 1.) * np.log(zz) + newlnprob - lnprob0\n",
      "/Users/petigura/anaconda2/lib/python2.7/site-packages/emcee/ensemble.py:336: RuntimeWarning: invalid value encountered in greater\n",
      "  accept = (lnpdiff > np.log(self._random.rand(len(lnpdiff))))\n",
      "/Users/petigura/anaconda2/lib/python2.7/site-packages/emcee/ensemble.py:335: RuntimeWarning: invalid value encountered in subtract\n",
      "  lnpdiff = (self.dim - 1.) * np.log(zz) + newlnprob - lnprob0\n",
      "/Users/petigura/anaconda2/lib/python2.7/site-packages/emcee/ensemble.py:336: RuntimeWarning: invalid value encountered in greater\n",
      "  accept = (lnpdiff > np.log(self._random.rand(len(lnpdiff))))\n",
      "/Users/petigura/anaconda2/lib/python2.7/site-packages/emcee/ensemble.py:335: RuntimeWarning: invalid value encountered in subtract\n",
      "  lnpdiff = (self.dim - 1.) * np.log(zz) + newlnprob - lnprob0\n",
      "/Users/petigura/anaconda2/lib/python2.7/site-packages/emcee/ensemble.py:336: RuntimeWarning: invalid value encountered in greater\n",
      "  accept = (lnpdiff > np.log(self._random.rand(len(lnpdiff))))\n"
     ]
    }
   ],
   "source": [
    "#chains = radvel.mcmc(gppost,nrun=1000,ensembles=3)"
   ]
  },
  {
   "cell_type": "code",
   "execution_count": null,
   "metadata": {
    "collapsed": true
   },
   "outputs": [],
   "source": [
    "print  chains.describe().ix[['mean','std']].T.to_string(float_format='%.6f')"
   ]
  },
  {
   "cell_type": "code",
   "execution_count": null,
   "metadata": {
    "collapsed": true
   },
   "outputs": [],
   "source": [
    "Corner = mcmc_plots.CornerPlot(gppost, chains) # posterior distributions\n",
    "Corner.plot()"
   ]
  }
 ],
 "metadata": {
  "kernelspec": {
   "display_name": "Python 2",
   "language": "python",
   "name": "python2"
  }
 },
 "nbformat": 4,
 "nbformat_minor": 2
}
