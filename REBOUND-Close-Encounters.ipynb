{
 "cells": [
  {
   "cell_type": "code",
   "execution_count": 4,
   "metadata": {},
   "outputs": [
    {
     "name": "stdout",
     "output_type": "stream",
     "text": [
      "read table photodyn-samples from load_table_cache.hdf\n",
      "---------------------------------\n",
      "REBOUND version:     \t3.6.6\n",
      "REBOUND built on:    \tAug 21 2018 09:37:11\n",
      "Number of particles: \t3\n",
      "Selected integrator: \tias15\n",
      "Simulation time:     \t2.0200000000000000e+03\n",
      "Current timestep:    \t0.001000\n",
      "---------------------------------\n",
      "<rebound.Particle object, m=0.88 x=1.13709053409e-07 y=3.77191875915e-07 z=-1.52991165489e-05 vx=7.05670599339e-06 vy=-1.84597952605e-07 vz=2.18638462787e-07>\n",
      "<rebound.Particle object, m=0.000101853402463 x=-0.000921608366485 y=-0.00245171301859 z=0.090938652729 vx=-0.0471822125355 vy=4.8314003928e-05 vz=-0.00179871171133>\n",
      "<rebound.Particle object, m=3.47956583174e-05 x=-0.000178040003687 y=-0.00236275276789 z=0.120728032471 vx=-0.0403565404315 vy=0.00452715253061 vz=-0.000264312843881>\n",
      "---------------------------------\n"
     ]
    }
   ],
   "source": [
    "import ktwo19.nbody\n",
    "reload(ktwo19.nbody)\n",
    "ktwo19.nbody.run_simulation(0)"
   ]
  },
  {
   "cell_type": "code",
   "execution_count": 1,
   "metadata": {
    "collapsed": true
   },
   "outputs": [],
   "source": [
    "import rebound\n",
    "import numpy as np\n",
    "def setupSimulation():\n",
    "    sim = rebound.Simulation()\n",
    "    sim.integrator = \"ias15\" # IAS15 is the default integrator, so we don't need this line\n",
    "    sim.add(m=1.)\n",
    "    sim.add(m=1e-3,a=1.)\n",
    "    sim.add(m=5e-3,a=1.25)\n",
    "    sim.move_to_com()\n",
    "    return sim"
   ]
  },
  {
   "cell_type": "code",
   "execution_count": 2,
   "metadata": {
    "collapsed": true
   },
   "outputs": [],
   "source": [
    "sim = setupSimulation()\n",
    "sim.integrate(100.*2.*np.pi)"
   ]
  },
  {
   "cell_type": "code",
   "execution_count": 3,
   "metadata": {},
   "outputs": [
    {
     "name": "stdout",
     "output_type": "stream",
     "text": [
      "<rebound.Orbit instance, a=4.79596389843 e=0.718624643677 inc=0.0 Omega=0.0 omega=2.73520208207 f=-2.06744745317>\n",
      "<rebound.Orbit instance, a=1.04238739677 e=0.122392957814 inc=0.0 Omega=0.0 omega=-0.355162818472 f=-1.45023075481>\n"
     ]
    }
   ],
   "source": [
    "for o in sim.calculate_orbits():\n",
    "    print(o)\n"
   ]
  },
  {
   "cell_type": "code",
   "execution_count": 4,
   "metadata": {},
   "outputs": [
    {
     "name": "stdout",
     "output_type": "stream",
     "text": [
      "Two particles had a close encounter (d<exit_min_distance).\n"
     ]
    }
   ],
   "source": [
    "sim = setupSimulation() # Resets everything\n",
    "sim.exit_min_distance = 0.15\n",
    "Noutputs = 1000\n",
    "times = np.linspace(0,100.*2.*np.pi,Noutputs)\n",
    "distances = np.zeros(Noutputs)\n",
    "ps = sim.particles # ps is now an array of pointers. It will update as the simulation runs.\n",
    "try:\n",
    "    for i,time in enumerate(times):\n",
    "        sim.integrate(time)\n",
    "        dp = ps[1] - ps[2]   # Calculates the coponentwise difference between particles\n",
    "        distances[i] = np.sqrt(dp.x*dp.x+dp.y*dp.y+dp.z*dp.z)\n",
    "except rebound.Encounter as error:\n",
    "    print(error)"
   ]
  },
  {
   "cell_type": "code",
   "execution_count": 5,
   "metadata": {},
   "outputs": [
    {
     "data": {
      "image/png": "[encoded data removed]",
      "text/plain": [
       "<matplotlib.figure.Figure at 0x1818a59e90>"
      ]
     },
     "metadata": {},
     "output_type": "display_data"
    }
   ],
   "source": [
    "%matplotlib inline\n",
    "import matplotlib.pyplot as plt\n",
    "fig = plt.figure(figsize=(10,5))\n",
    "ax = plt.subplot(111)\n",
    "ax.set_xlabel(\"time [orbits]\")\n",
    "ax.set_xlim([0,sim.t/(2.*np.pi)])\n",
    "ax.set_ylabel(\"distance\")\n",
    "plt.plot(times/(2.*np.pi), distances);\n",
    "plt.plot([0.0,12],[0.2,0.2]); # Plot our close encounter criteria;"
   ]
  },
  {
   "cell_type": "code",
   "execution_count": null,
   "metadata": {
    "collapsed": true
   },
   "outputs": [],
   "source": []
  }
 ],
 "metadata": {
  "kernelspec": {
   "display_name": "Python 2",
   "language": "python",
   "name": "python2"
  }
 },
 "nbformat": 4,
 "nbformat_minor": 2
}
