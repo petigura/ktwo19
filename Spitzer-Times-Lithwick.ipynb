{
 "cells": [
  {
   "cell_type": "code",
   "execution_count": 7,
   "metadata": {
    "collapsed": false
   },
   "outputs": [
    {
     "name": "stdout",
     "output_type": "stream",
     "text": [
      "Populating the interactive namespace from numpy and matplotlib\n"
     ]
    },
    {
     "name": "stderr",
     "output_type": "stream",
     "text": [
      "/Users/petigura/anaconda/lib/python2.7/site-packages/IPython/core/magics/pylab.py:161: UserWarning: pylab import has clobbered these variables: ['fix']\n",
      "`%matplotlib` prevents importing * from pylab and numpy\n",
      "  \"\\n`%matplotlib` prevents importing * from pylab and numpy\"\n"
     ]
    }
   ],
   "source": [
    "%reload_ext autoreload\n",
    "import ktwo19\n",
    "import ktwo19.io\n",
    "import ttv.lithwickmod\n",
    "import ttv.plotting\n",
    "import numpy as np\n",
    "%pylab inline"
   ]
  },
  {
   "cell_type": "code",
   "execution_count": 138,
   "metadata": {
    "collapsed": false
   },
   "outputs": [
    {
     "data": {
      "text/plain": [
       "1.0011563018450554e-05"
      ]
     },
     "execution_count": 138,
     "metadata": {},
     "output_type": "execute_result"
    }
   ],
   "source": [
    "mu2.value"
   ]
  },
  {
   "cell_type": "code",
   "execution_count": 153,
   "metadata": {
    "collapsed": false
   },
   "outputs": [
    {
     "name": "stdout",
     "output_type": "stream",
     "text": [
      "[    7.9  1980.     11.9  1984. ]\n",
      "[    7.92304367  1980.30697104    11.97481212  1984.42864496]\n"
     ]
    }
   ],
   "source": [
    "times = ktwo19.io.load_times()\n",
    "times = np.array(pd.DataFrame(times).to_records(index=False))\n",
    "\n",
    "mass1 = 26.91\n",
    "mass1_err = 5\n",
    "mass2 = 6\n",
    "mass2_err = 6\n",
    "from astropy import constants as c\n",
    "smass = 0.9 * c.M_sun/c.M_earth\n",
    "\n",
    "mu1 = (mass1 / smass).value\n",
    "mu2 = (mass2 / smass).value\n",
    "ReZfree = 0.1\n",
    "ImZfree = 0.1\n",
    "\n",
    "\n",
    "fix = np.array([False,False,True,False,False,True,True,True])\n",
    "fixval = np.array([np.nan,nan,mu1,nan,nan,mu2,ReZfree,ImZfree])\n",
    "\n",
    "basis='per1 tc1 mu1 per2 tc2 mu2 ReZfree ImZfree'\n",
    "ttvmod = ttv.lithwickmod.LithwickModel(3, fix, fixval, basis=basis)\n",
    "p0 = np.array([7.9,1980,11.9, 1984])\n",
    "\n",
    "def nresiduals(params, times):\n",
    "    _model = ttvmod.compute(params, times['i_planet'],times['i_epoch'])\n",
    "    resid = times['tc'] - _model\n",
    "    nresid = resid / times['tc_err']\n",
    "    return nresid\n",
    "\n",
    "def chisq(params):\n",
    "    _chisq = np.sum(nresiduals(params, times)**2)\n",
    "    return _chisq\n",
    "\n",
    "def logprob(params):\n",
    "    return -0.5 * chisq(params)\n",
    "\n",
    "# Need to perform global optimization first to get close to the\n",
    "# minimum\n",
    "\n",
    "from scipy import optimize\n",
    "opt_results = optimize.minimize(chisq, params0, method='Nelder-Mead')\n",
    "p1 = opt_results.x\n",
    "print p0\n",
    "print p1"
   ]
  },
  {
   "cell_type": "code",
   "execution_count": 154,
   "metadata": {
    "collapsed": false
   },
   "outputs": [
    {
     "data": {
      "text/plain": [
       "(-0.1, 0.1)"
      ]
     },
     "execution_count": 154,
     "metadata": {},
     "output_type": "execute_result"
    },
    {
     "data": {
      "image/png": "[encoded data removed]",
      "text/plain": [
       "<matplotlib.figure.Figure at 0x12ad07210>"
      ]
     },
     "metadata": {},
     "output_type": "display_data"
    }
   ],
   "source": [
    "times = pd.DataFrame(times)\n",
    "times.index = times.i_planet\n",
    "i_epoch = np.arange(100)\n",
    "i_planet = np.ones_like(i_epoch)\n",
    "tc = ttvmod.compute(p1,i_planet,i_epoch)\n",
    "timesmod = pd.DataFrame(dict(i_planet=i_planet,i_epoch=i_epoch,tc=tc))\n",
    "i_planet = np.ones_like(i_epoch)*2\n",
    "tc = ttvmod.compute(p1,i_planet,i_epoch)\n",
    "\n",
    "timesmod = timesmod.append(pd.DataFrame(dict(i_planet=i_planet,i_epoch=i_epoch,tc=tc)))\n",
    "timesmod = timesmod.sort_values(by='tc')\n",
    "timesmod.index = timesmod.i_planet\n",
    "ttv.plotting.plot_omc(times.ix[1,'i_epoch'], times.ix[1,'tc'], 7.92, 1980.38403, marker='o',color='b')\n",
    "ttv.plotting.plot_omc(times.ix[2,'i_epoch'], times.ix[2,'tc'], 11.907, 1984.27227,marker='o',color='r')\n",
    "ttv.plotting.plot_omc(timesmod.ix[1,'i_epoch'], timesmod.ix[1,'tc'], 7.92, 1980.38403, 'b')\n",
    "ttv.plotting.plot_omc(timesmod.ix[2,'i_epoch'], timesmod.ix[2,'tc'], 11.907, 1984.27227,color='r')\n",
    "xlim(1900,2400)\n",
    "ylim(-0.1,0.1)"
   ]
  },
  {
   "cell_type": "code",
   "execution_count": null,
   "metadata": {
    "collapsed": false
   },
   "outputs": [],
   "source": [
    "# Using the K2 transit times, fit for the per1, tc1, per2, and tc2 with different assumed values of mass1"
   ]
  }
 ],
 "metadata": {
  "kernelspec": {
   "display_name": "Python 2",
   "language": "python",
   "name": "python2"
  },
  "language_info": {
   "codemirror_mode": {
    "name": "ipython",
    "version": 2
   },
   "file_extension": ".py",
   "mimetype": "text/x-python",
   "name": "python",
   "nbconvert_exporter": "python",
   "pygments_lexer": "ipython2",
   "version": "2.7.12"
  }
 },
 "nbformat": 4,
 "nbformat_minor": 0
}
