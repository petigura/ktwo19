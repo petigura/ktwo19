{
 "cells": [
  {
   "cell_type": "code",
   "execution_count": 3,
   "metadata": {
    "collapsed": false
   },
   "outputs": [
    {
     "name": "stdout",
     "output_type": "stream",
     "text": [
      "2173\n",
      "4173\n",
      "0.1\n",
      "planets[0].argument      0.0\n",
      "planets[0].eccentricity  0.0\n",
      "planets[0].inclination   90\n",
      "planets[0].longnode      180\n",
      "planets[0].mass          2.76336943004e-05\n",
      "planets[0].mean_anomaly  171.469914401\n",
      "planets[0].period        0.789597\n",
      "planets[1].argument      0.0\n",
      "planets[1].eccentricity  0.0\n",
      "planets[1].inclination   90\n",
      "planets[1].longnode      180\n",
      "planets[1].mass          0.00107986774653\n",
      "planets[1].mean_anomaly  282.761336749\n",
      "planets[1].period        4.1591287\n",
      "planets[2].argument      0.0\n",
      "planets[2].eccentricity  0.0\n",
      "planets[2].inclination   90\n",
      "planets[2].longnode      180\n",
      "planets[2].mass          3.8675038675e-05\n",
      "planets[2].mean_anomaly  75.2795928548\n",
      "planets[2].period        9.03081\n",
      "3\n"
     ]
    },
    {
     "data": {
      "text/plain": [
       "<Container object of 3 artists>"
      ]
     },
     "execution_count": 3,
     "metadata": {},
     "output_type": "execute_result"
    }
   ],
   "source": [
    "import lmfit\n",
    "import pandas as pd\n",
    "from astropy.time import Time\n",
    "from astropy import units as u\n",
    "import ttv.ttvfastfit\n",
    "reload(ttv.ttvfastfit)\n",
    "\n",
    "bjd0 = 2454833\n",
    "\n",
    "params = ttv.ttvfastfit.Parameters(3,'mu per ecosw esinw inc longnode T')\n",
    "\n",
    "Mstar = 0.99\n",
    "params.add_many(\n",
    "    ('per1', 0.789597, True, None, None, None),\n",
    "    ('per2', 4.1591287, True, None, None, None),\n",
    "    ('per3', 9.03081, True, None, None, None),\n",
    "#    ('per4', 596.768, True, None, None, None),\n",
    "    ('T1', 2457011.348489-bjd0,True, None, None, None),\n",
    "    ('T2', 2457007.9321309-bjd0,True, None, None, None),\n",
    "    ('T3', 2457006.36927-bjd0,True, None, None, None),\n",
    "#    ('T4', 2455994.12114-bjd0,True, None, None, None),\n",
    "    ('mu1', 9.11 / (3.33e5*Mstar), True, 0, None, None),\n",
    "    ('mu2', 356 / (3.33e5*Mstar), True, 0, None, None),\n",
    "    ('mu3', 12.75 / (3.33e5*Mstar), True, 0, None, None),\n",
    "#    ('mu4', 411 / (3.33e5*Mstar), True, 0, None, None),\n",
    "    ('ecosw1', 0.0, True, -0.1,0.1, None),\n",
    "    ('ecosw2',0.0, True, -0.1,0.1, None),\n",
    "    ('ecosw3',0.0, True, -0.1,0.1, None),\n",
    "#    ('ecosw4',0.0, True, -0.1,0.1, None),\n",
    "    ('esinw1', 0.0, True, -0.1,0.1, None),\n",
    "    ('esinw2', 0.00, True, -0.1,0.1, None),\n",
    "    ('esinw3', 0.00, True, -0.1,0.1, None),\n",
    "#    ('esinw4', 0.00, True, -0.1,0.1, None),\n",
    "    ('inc1', 90, False, None, None, None),\n",
    "    ('inc2', 90, False, None, None, None),\n",
    "    ('inc3', 90, False, None, None, None),\n",
    "#    ('inc4', 90, False, None, None, None),\n",
    "    ('longnode1',  180, False, None, None, None),\n",
    "    ('longnode2',  180, False, None, None, None),\n",
    "    ('longnode3',  180, False, None, None, None),\n",
    "#    ('longnode4',  180, False, None, None, None),\n",
    ")\n",
    "t_start = 2173\n",
    "t_stop = t_start + 2000\n",
    "dt = 0.1\n",
    "mod = ttv.ttvfastfit.Model(t_start,t_stop,dt)\n",
    "df = mod(params)\n",
    "#times.index = [times.i_planet,times.i_epoch]\n",
    "df0 = pd.DataFrame(df)\n",
    "df0.index = [df0.i_planet,df0.i_epoch]\n",
    "\n",
    "clf()\n",
    "df = df0.copy().ix[1]\n",
    "import ttv.plotting\n",
    "\n",
    "\n",
    "#minutes = 24 * 60\n",
    "\n",
    "per1avg,T1avg, = polyfit(df.i_epoch, df.time,1)\n",
    "ttv.plotting.errorbar_omc(\n",
    "    df.i_epoch, df.time, per1avg, \n",
    "    T1avg,fmt='-',color='b',\n",
    "    zorder=10)\n",
    "\n",
    "df =df0.copy().ix[2]\n",
    "\n",
    "\n",
    "per1avg,T1avg, = polyfit(df.i_epoch, df.time,1)\n",
    "ttv.plotting.errorbar_omc(\n",
    "    df.i_epoch, df.time, per1avg, \n",
    "    T1avg,fmt='-',color='orange',\n",
    "    zorder=10)\n",
    "\n",
    "df =df0.copy().ix[3]\n",
    "per1avg,T1avg, = polyfit(df.i_epoch, df.time,1)\n",
    "ttv.plotting.errorbar_omc(\n",
    "    df.i_epoch, df.time, per1avg, \n",
    "    T1avg,fmt='-',color='r',\n",
    "    zorder=10)\n"
   ]
  },
  {
   "cell_type": "code",
   "execution_count": 6,
   "metadata": {
    "collapsed": false
   },
   "outputs": [],
   "source": [
    "df0.to_csv('/Users/petigura/Dropbox/ttvfast-erik-evan-nominal-params.csv')"
   ]
  },
  {
   "cell_type": "code",
   "execution_count": 14,
   "metadata": {
    "collapsed": false
   },
   "outputs": [
    {
     "name": "stdout",
     "output_type": "stream",
     "text": [
      "Populating the interactive namespace from numpy and matplotlib\n"
     ]
    },
    {
     "data": {
      "text/plain": [
       "[<matplotlib.lines.Line2D at 0x11874f390>]"
      ]
     },
     "execution_count": 14,
     "metadata": {},
     "output_type": "execute_result"
    }
   ],
   "source": [
    "%pylab osx\n",
    "plot(df.ix[1]['i_epoch'],df.ix[1]['time'])\n",
    "plot(df.ix[2]['i_epoch'],df.ix[2]['time'])"
   ]
  },
  {
   "cell_type": "code",
   "execution_count": 19,
   "metadata": {
    "collapsed": false
   },
   "outputs": [
    {
     "data": {
      "text/plain": [
       "<Container object of 3 artists>"
      ]
     },
     "execution_count": 19,
     "metadata": {},
     "output_type": "execute_result"
    }
   ],
   "source": [
    "\n"
   ]
  },
  {
   "cell_type": "code",
   "execution_count": null,
   "metadata": {
    "collapsed": true
   },
   "outputs": [],
   "source": []
  }
 ],
 "metadata": {
  "kernelspec": {
   "display_name": "Python 2",
   "language": "python",
   "name": "python2"
  }
 },
 "nbformat": 4,
 "nbformat_minor": 0
}
