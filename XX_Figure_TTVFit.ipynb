{
 "cells": [
  {
   "cell_type": "markdown",
   "metadata": {},
   "source": [
    "## Create the figure ttvfit_zoom"
   ]
  },
  {
   "cell_type": "markdown",
   "metadata": {
    "collapsed": true
   },
   "source": [
    "- Create draws from the MCMC outputs.\n",
    "- NOTE There is perhaps an easier way to do this (see message from Sean on Slack)"
   ]
  },
  {
   "cell_type": "code",
   "execution_count": null,
   "metadata": {
    "collapsed": true
   },
   "outputs": [],
   "source": [
    "def create_draws():\n",
    "    \"\"\"\n",
    "    Create a bunch of photodymm input parameters to run\n",
    "\n",
    "    \"\"\"\n",
    "    fname = 'analysis/photodyn/runs/K2-19_e-uniform_Omega-vary/k2-19.in'\n",
    "    demcmcfname = 'analysis/photodyn/runs/K2-19_e-uniform_Omega-vary/demcmc_k2-19_massprior.out'\n",
    "    p = ktwo19.plotting.phodymm.Plotter(fname,demcmcfname)\n",
    "    lines = []\n",
    "    draw = 0 \n",
    "    for i, row in p.chain_without_burnin().sample(100,seed=0).iterrows():\n",
    "        s = \"\"\"\\\n",
    "    planet         period (d)               T0 (d)                  e                   i (deg)                 Omega (deg)               omega(deg)               mp (mjup)              rpors           \n",
    "    0.1\\t{per1:}\\t{tc1:}\\t{e1:}\\t{inc1:}\\t{Omega1:}\\t{omega1:}\\t{mjup1:}\\t{ror1:}\n",
    "    0.2\\t{per2:}\\t{tc2:}\\t{e2:}\\t{inc2:}\\t{Omega2:}\\t{omega2:}\\t{mjup2:}\\t{ror2:}\n",
    "    0.3\\t{per3:}\\t{tc3:}\\t{e3:}\\t{inc3:}\\t{Omega3:}\\t{omega3:}\\t{mjup3:}\\t{ror3:}\n",
    "    {mstar:} ; Mstar (M_sol)\n",
    "    {rstar:} ; Rstar (R_sol)\n",
    "    {c1:} ; c1 (linear limb darkening) \n",
    "    {c2:} ; c2 (quadratic limb darkening) \n",
    "    {dilute:} ; dilution (frac light not from stars in system)\n",
    "    \"\"\"\n",
    "        s = s.format(**row)\n",
    "        with open('draws/draw{:04d}.aei'.format(draw),'w') as f:\n",
    "            f.write(s)\n",
    "        draw+=1\n",
    "\n"
   ]
  },
  {
   "cell_type": "markdown",
   "metadata": {},
   "source": [
    "- rsync the `draws` directory to cadence. \n",
    "- Run the following command to run the forward modeling code \n",
    "\n",
    "```\n",
    "for i in `find draws/ -type f `; \n",
    "do ./lcout k2-19.in $i; \n",
    "outdir=draws-results/$i/; \n",
    "mkdir -p $outdir; \n",
    "mv ttvmcmc00_* tbv00_* $outdir/ ;\n",
    "done \n",
    "```\n",
    "\n",
    "- rsync the results back to local machine\n"
   ]
  },
  {
   "cell_type": "code",
   "execution_count": 116,
   "metadata": {},
   "outputs": [
    {
     "name": "stdout",
     "output_type": "stream",
     "text": [
      "Populating the interactive namespace from numpy and matplotlib\n"
     ]
    }
   ],
   "source": [
    "%pylab osx\n",
    "import ktwo19.plotting.phodymm\n",
    "reload(ktwo19.plotting.phodymm)\n",
    "ktwo19.plotting.phodymm.fig_ttvfit()\n",
    "#ktwo19.plotting.phodymm.fig_ttvfit()"
   ]
  },
  {
   "cell_type": "code",
   "execution_count": null,
   "metadata": {
    "collapsed": true
   },
   "outputs": [],
   "source": []
  }
 ],
 "metadata": {
  "kernelspec": {
   "display_name": "Python 2",
   "language": "python",
   "name": "python2"
  },
  "language_info": {
   "codemirror_mode": {
    "name": "ipython",
    "version": 2
   },
   "file_extension": ".py",
   "mimetype": "text/x-python",
   "name": "python",
   "nbconvert_exporter": "python",
   "pygments_lexer": "ipython2",
   "version": "2.7.15"
  }
 },
 "nbformat": 4,
 "nbformat_minor": 2
}
