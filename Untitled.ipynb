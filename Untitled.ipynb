{
 "cells": [
  {
   "cell_type": "code",
   "execution_count": 15,
   "metadata": {},
   "outputs": [
    {
     "ename": "KeyError",
     "evalue": "'harps-n'",
     "output_type": "error",
     "traceback": [
      "\u001b[0;31m----------------------------------------------------------------------\u001b[0m",
      "\u001b[0;31mKeyError\u001b[0m                             Traceback (most recent call last)",
      "\u001b[0;32m<ipython-input-15-c6ef51529625>\u001b[0m in \u001b[0;36m<module>\u001b[0;34m()\u001b[0m\n\u001b[1;32m     95\u001b[0m \u001b[0;34m\u001b[0m\u001b[0m\n\u001b[1;32m     96\u001b[0m \u001b[0;32mfor\u001b[0m \u001b[0mtel\u001b[0m \u001b[0;32min\u001b[0m \u001b[0minstnames\u001b[0m\u001b[0;34m:\u001b[0m\u001b[0;34m\u001b[0m\u001b[0m\n\u001b[0;32m---> 97\u001b[0;31m     \u001b[0minitialize\u001b[0m\u001b[0;34m(\u001b[0m\u001b[0mtel\u001b[0m\u001b[0;34m)\u001b[0m\u001b[0;34m\u001b[0m\u001b[0m\n\u001b[0m",
      "\u001b[0;32m<ipython-input-15-c6ef51529625>\u001b[0m in \u001b[0;36minitialize\u001b[0;34m(tel_suffix)\u001b[0m\n\u001b[1;32m     86\u001b[0m     like = radvel.likelihood.GPLikelihood(gpmodel, t[indices], vel[indices],\n\u001b[1;32m     87\u001b[0m                                           \u001b[0merrvel\u001b[0m\u001b[0;34m[\u001b[0m\u001b[0mindices\u001b[0m\u001b[0;34m]\u001b[0m\u001b[0;34m,\u001b[0m \u001b[0mhnames\u001b[0m\u001b[0;34m,\u001b[0m \u001b[0msuffix\u001b[0m\u001b[0;34m=\u001b[0m\u001b[0;34m'_'\u001b[0m\u001b[0;34m+\u001b[0m\u001b[0mtel_suffix\u001b[0m\u001b[0;34m,\u001b[0m\u001b[0;34m\u001b[0m\u001b[0m\n\u001b[0;32m---> 88\u001b[0;31m                                           \u001b[0mkernel_name\u001b[0m\u001b[0;34m=\u001b[0m\u001b[0;34m\"Celerite\"\u001b[0m\u001b[0;34m\u001b[0m\u001b[0m\n\u001b[0m\u001b[1;32m     89\u001b[0m                                           )\n\u001b[1;32m     90\u001b[0m     \u001b[0;31m# Add in instrument parameters\u001b[0m\u001b[0;34m\u001b[0m\u001b[0;34m\u001b[0m\u001b[0m\n",
      "\u001b[0;32m/Users/petigura/anaconda2/lib/python2.7/site-packages/radvel/likelihood.pyc\u001b[0m in \u001b[0;36m__init__\u001b[0;34m(self, model, t, vel, errvel, hnames, suffix, kernel_name, **kwargs)\u001b[0m\n\u001b[1;32m    311\u001b[0m \u001b[0;34m\u001b[0m\u001b[0m\n\u001b[1;32m    312\u001b[0m         \u001b[0mself\u001b[0m\u001b[0;34m.\u001b[0m\u001b[0mhnames\u001b[0m \u001b[0;34m=\u001b[0m \u001b[0mhnames\u001b[0m  \u001b[0;31m# list of string names of hyperparameters\u001b[0m\u001b[0;34m\u001b[0m\u001b[0m\n\u001b[0;32m--> 313\u001b[0;31m         \u001b[0mself\u001b[0m\u001b[0;34m.\u001b[0m\u001b[0mhyperparams\u001b[0m \u001b[0;34m=\u001b[0m \u001b[0;34m{\u001b[0m\u001b[0mk\u001b[0m\u001b[0;34m:\u001b[0m \u001b[0mself\u001b[0m\u001b[0;34m.\u001b[0m\u001b[0mparams\u001b[0m\u001b[0;34m[\u001b[0m\u001b[0mk\u001b[0m\u001b[0;34m]\u001b[0m \u001b[0;32mfor\u001b[0m \u001b[0mk\u001b[0m \u001b[0;32min\u001b[0m \u001b[0mself\u001b[0m\u001b[0;34m.\u001b[0m\u001b[0mhnames\u001b[0m\u001b[0;34m}\u001b[0m\u001b[0;34m\u001b[0m\u001b[0m\n\u001b[0m\u001b[1;32m    314\u001b[0m \u001b[0;34m\u001b[0m\u001b[0m\n\u001b[1;32m    315\u001b[0m         \u001b[0mself\u001b[0m\u001b[0;34m.\u001b[0m\u001b[0mkernel_call\u001b[0m \u001b[0;34m=\u001b[0m \u001b[0mgetattr\u001b[0m\u001b[0;34m(\u001b[0m\u001b[0mgp\u001b[0m\u001b[0;34m,\u001b[0m \u001b[0mkernel_name\u001b[0m \u001b[0;34m+\u001b[0m \u001b[0;34m\"Kernel\"\u001b[0m\u001b[0;34m)\u001b[0m\u001b[0;34m\u001b[0m\u001b[0m\n",
      "\u001b[0;32m/Users/petigura/anaconda2/lib/python2.7/site-packages/radvel/likelihood.pyc\u001b[0m in \u001b[0;36m<dictcomp>\u001b[0;34m((k,))\u001b[0m\n\u001b[1;32m    311\u001b[0m \u001b[0;34m\u001b[0m\u001b[0m\n\u001b[1;32m    312\u001b[0m         \u001b[0mself\u001b[0m\u001b[0;34m.\u001b[0m\u001b[0mhnames\u001b[0m \u001b[0;34m=\u001b[0m \u001b[0mhnames\u001b[0m  \u001b[0;31m# list of string names of hyperparameters\u001b[0m\u001b[0;34m\u001b[0m\u001b[0m\n\u001b[0;32m--> 313\u001b[0;31m         \u001b[0mself\u001b[0m\u001b[0;34m.\u001b[0m\u001b[0mhyperparams\u001b[0m \u001b[0;34m=\u001b[0m \u001b[0;34m{\u001b[0m\u001b[0mk\u001b[0m\u001b[0;34m:\u001b[0m \u001b[0mself\u001b[0m\u001b[0;34m.\u001b[0m\u001b[0mparams\u001b[0m\u001b[0;34m[\u001b[0m\u001b[0mk\u001b[0m\u001b[0;34m]\u001b[0m \u001b[0;32mfor\u001b[0m \u001b[0mk\u001b[0m \u001b[0;32min\u001b[0m \u001b[0mself\u001b[0m\u001b[0;34m.\u001b[0m\u001b[0mhnames\u001b[0m\u001b[0;34m}\u001b[0m\u001b[0;34m\u001b[0m\u001b[0m\n\u001b[0m\u001b[1;32m    314\u001b[0m \u001b[0;34m\u001b[0m\u001b[0m\n\u001b[1;32m    315\u001b[0m         \u001b[0mself\u001b[0m\u001b[0;34m.\u001b[0m\u001b[0mkernel_call\u001b[0m \u001b[0;34m=\u001b[0m \u001b[0mgetattr\u001b[0m\u001b[0;34m(\u001b[0m\u001b[0mgp\u001b[0m\u001b[0;34m,\u001b[0m \u001b[0mkernel_name\u001b[0m \u001b[0;34m+\u001b[0m \u001b[0;34m\"Kernel\"\u001b[0m\u001b[0;34m)\u001b[0m\u001b[0;34m\u001b[0m\u001b[0m\n",
      "\u001b[0;31mKeyError\u001b[0m: 'harps-n'"
     ]
    }
   ],
   "source": [
    "import numpy as np\n",
    "import pandas as pd\n",
    "import os\n",
    "import radvel\n",
    "\n",
    "# This setup file is provided to illustrate how to set up\n",
    "# a config file for use with Dan Foreman-Mackey's `celerite`\n",
    "# package.\n",
    "\n",
    "# Data from Dai+ 2017\n",
    "instnames = ['harps-n','pfs'] \n",
    "data = pd.read_csv(os.path.join(radvel.DATADIR,'k2-131.txt'), sep=' ')\n",
    "t = np.array(data['time']) \n",
    "vel = np.array(data['mnvel'])\n",
    "errvel = np.array(data['errvel'])\n",
    "telgrps = data.groupby('tel').groups\n",
    "bjd = 0. \n",
    "\n",
    "# Constraints from transits\n",
    "Porb = 0.3693038 # [days]\n",
    "Porb_unc = 0.0000091 \n",
    "Tc = 2457582.9360 # [BJD]\n",
    "Tc_unc = 0.0011\n",
    "\n",
    "starname = 'k2-131'\n",
    "ntels = len(instnames)      \n",
    "planet_letters = {1: 'b'}   \n",
    "\n",
    "nplanets = 1\n",
    "fitting_basis = 'per tc secosw sesinw k'\n",
    "\n",
    "# Set initial parameter value guesses.\n",
    "params = radvel.Parameters(nplanets,basis=fitting_basis, planet_letters=planet_letters)\n",
    "\n",
    "params['per1'] = radvel.Parameter(value=Porb)\n",
    "params['tc1'] = radvel.Parameter(value=Tc)\n",
    "params['sesinw1'] = radvel.Parameter(value=0.,vary=False) # hold eccentricity fixed at 0\n",
    "params['secosw1'] = radvel.Parameter(value=0.,vary=False)\n",
    "params['k1'] = radvel.Parameter(value=6.55)\n",
    "params['dvdt'] = radvel.Parameter(value=0.,vary=False)\n",
    "params['curv'] = radvel.Parameter(value=0.,vary=False)\n",
    "time_base = np.median(t)\n",
    "\n",
    "# Define Celerite GP hyperparameters.\n",
    "params['gp_B'] = radvel.Parameter(value=30**2., vary=True)\n",
    "params['gp_C'] = radvel.Parameter(value=1., vary=True) \n",
    "params['gp_L'] = radvel.Parameter(value=9., vary=True)\n",
    "params['gp_Prot'] = radvel.Parameter(value=9., vary=True)\n",
    "\n",
    "hnames = {}\n",
    "for tel in instnames:\n",
    "    hnames[tel] = ['gp_B','gp_C','gp_L','gp_Prot']\n",
    "\n",
    "kernel_name = {'harps-n':\"Celerite\", 'pfs':\"Celerite\"}\n",
    "\n",
    "jit_guesses = {'harps-n':2.0, 'pfs':5.0}\n",
    "\n",
    "def initialize_instparams(tel_suffix):\n",
    "    indices = telgrps[tel_suffix]\n",
    "    params['gamma_'+tel_suffix] = radvel.Parameter(value=np.mean(vel[indices]))\n",
    "    params['jit_'+tel_suffix] = radvel.Parameter(value=jit_guesses[tel_suffix]) \n",
    "\n",
    "\n",
    "for tel in instnames:\n",
    "    initialize_instparams(tel)\n",
    "\n",
    "priors = [radvel.prior.Gaussian('per1', Porb, Porb_unc),\n",
    "          radvel.prior.Gaussian('tc1', Tc, Tc_unc),\n",
    "          radvel.prior.Jeffreys('k1', 0.01, 10.),\n",
    "          radvel.prior.Jeffreys('jit_pfs', 0.01, 10.),\n",
    "          radvel.prior.Jeffreys('jit_harps-n', 0.01,10.),\n",
    "          radvel.prior.Gaussian('gp_L',9.5,1.), # constraints from photometry (Dai et al. 2017)\n",
    "          radvel.prior.Gaussian('gp_Prot',9.64,0.12)\n",
    "          ]\n",
    "\n",
    "gpmodel = radvel.model.RVModel(params)\n",
    "\n",
    "jit_guesses = {'harps-n':0.5, 'pfs':5.0}\n",
    "\n",
    "likes = []\n",
    "def initialize(tel_suffix):\n",
    "\n",
    "    # Instantiate a separate likelihood object for each instrument.\n",
    "    # Each likelihood must use the same radvel.RVModel object.\n",
    "    indices = telgrps[tel_suffix]\n",
    "    like = radvel.likelihood.GPLikelihood(gpmodel, t[indices], vel[indices],\n",
    "                                          errvel[indices], hnames, suffix='_'+tel_suffix,\n",
    "                                          kernel_name=\"Celerite\"\n",
    "                                          )\n",
    "    # Add in instrument parameters\n",
    "    like.params['gamma_'+tel_suffix] = radvel.Parameter(value=np.mean(vel[indices]))\n",
    "    like.params['jit_'+tel_suffix] = radvel.Parameter(value=jit_guesses[tel_suffix])\n",
    "    likes.append(like)\n",
    "\n",
    "\n",
    "for tel in instnames:\n",
    "    initialize(tel)"
   ]
  },
  {
   "cell_type": "code",
   "execution_count": 14,
   "metadata": {},
   "outputs": [
    {
     "ename": "KeyError",
     "evalue": "'harps-n'",
     "output_type": "error",
     "traceback": [
      "\u001b[0;31m----------------------------------------------------------------------\u001b[0m",
      "\u001b[0;31mKeyError\u001b[0m                             Traceback (most recent call last)",
      "\u001b[0;32m<ipython-input-14-c3d2c8f0982d>\u001b[0m in \u001b[0;36m<module>\u001b[0;34m()\u001b[0m\n\u001b[1;32m     18\u001b[0m \u001b[0;34m\u001b[0m\u001b[0m\n\u001b[1;32m     19\u001b[0m \u001b[0;32mfor\u001b[0m \u001b[0mtel\u001b[0m \u001b[0;32min\u001b[0m \u001b[0minstnames\u001b[0m\u001b[0;34m:\u001b[0m\u001b[0;34m\u001b[0m\u001b[0m\n\u001b[0;32m---> 20\u001b[0;31m     \u001b[0minitialize\u001b[0m\u001b[0;34m(\u001b[0m\u001b[0mtel\u001b[0m\u001b[0;34m)\u001b[0m\u001b[0;34m\u001b[0m\u001b[0m\n\u001b[0m",
      "\u001b[0;32m<ipython-input-14-c3d2c8f0982d>\u001b[0m in \u001b[0;36minitialize\u001b[0;34m(tel_suffix)\u001b[0m\n\u001b[1;32m      9\u001b[0m     like = radvel.likelihood.GPLikelihood(gpmodel, t[indices], vel[indices],\n\u001b[1;32m     10\u001b[0m                                           \u001b[0merrvel\u001b[0m\u001b[0;34m[\u001b[0m\u001b[0mindices\u001b[0m\u001b[0;34m]\u001b[0m\u001b[0;34m,\u001b[0m \u001b[0mhnames\u001b[0m\u001b[0;34m,\u001b[0m \u001b[0msuffix\u001b[0m\u001b[0;34m=\u001b[0m\u001b[0;34m'_'\u001b[0m\u001b[0;34m+\u001b[0m\u001b[0mtel_suffix\u001b[0m\u001b[0;34m,\u001b[0m\u001b[0;34m\u001b[0m\u001b[0m\n\u001b[0;32m---> 11\u001b[0;31m                                           \u001b[0mkernel_name\u001b[0m\u001b[0;34m=\u001b[0m\u001b[0;34m\"Celerite\"\u001b[0m\u001b[0;34m\u001b[0m\u001b[0m\n\u001b[0m\u001b[1;32m     12\u001b[0m                                           )\n\u001b[1;32m     13\u001b[0m     \u001b[0;31m# Add in instrument parameters\u001b[0m\u001b[0;34m\u001b[0m\u001b[0;34m\u001b[0m\u001b[0m\n",
      "\u001b[0;32m/Users/petigura/anaconda2/lib/python2.7/site-packages/radvel/likelihood.pyc\u001b[0m in \u001b[0;36m__init__\u001b[0;34m(self, model, t, vel, errvel, hnames, suffix, kernel_name, **kwargs)\u001b[0m\n\u001b[1;32m    311\u001b[0m \u001b[0;34m\u001b[0m\u001b[0m\n\u001b[1;32m    312\u001b[0m         \u001b[0mself\u001b[0m\u001b[0;34m.\u001b[0m\u001b[0mhnames\u001b[0m \u001b[0;34m=\u001b[0m \u001b[0mhnames\u001b[0m  \u001b[0;31m# list of string names of hyperparameters\u001b[0m\u001b[0;34m\u001b[0m\u001b[0m\n\u001b[0;32m--> 313\u001b[0;31m         \u001b[0mself\u001b[0m\u001b[0;34m.\u001b[0m\u001b[0mhyperparams\u001b[0m \u001b[0;34m=\u001b[0m \u001b[0;34m{\u001b[0m\u001b[0mk\u001b[0m\u001b[0;34m:\u001b[0m \u001b[0mself\u001b[0m\u001b[0;34m.\u001b[0m\u001b[0mparams\u001b[0m\u001b[0;34m[\u001b[0m\u001b[0mk\u001b[0m\u001b[0;34m]\u001b[0m \u001b[0;32mfor\u001b[0m \u001b[0mk\u001b[0m \u001b[0;32min\u001b[0m \u001b[0mself\u001b[0m\u001b[0;34m.\u001b[0m\u001b[0mhnames\u001b[0m\u001b[0;34m}\u001b[0m\u001b[0;34m\u001b[0m\u001b[0m\n\u001b[0m\u001b[1;32m    314\u001b[0m \u001b[0;34m\u001b[0m\u001b[0m\n\u001b[1;32m    315\u001b[0m         \u001b[0mself\u001b[0m\u001b[0;34m.\u001b[0m\u001b[0mkernel_call\u001b[0m \u001b[0;34m=\u001b[0m \u001b[0mgetattr\u001b[0m\u001b[0;34m(\u001b[0m\u001b[0mgp\u001b[0m\u001b[0;34m,\u001b[0m \u001b[0mkernel_name\u001b[0m \u001b[0;34m+\u001b[0m \u001b[0;34m\"Kernel\"\u001b[0m\u001b[0;34m)\u001b[0m\u001b[0;34m\u001b[0m\u001b[0m\n",
      "\u001b[0;32m/Users/petigura/anaconda2/lib/python2.7/site-packages/radvel/likelihood.pyc\u001b[0m in \u001b[0;36m<dictcomp>\u001b[0;34m((k,))\u001b[0m\n\u001b[1;32m    311\u001b[0m \u001b[0;34m\u001b[0m\u001b[0m\n\u001b[1;32m    312\u001b[0m         \u001b[0mself\u001b[0m\u001b[0;34m.\u001b[0m\u001b[0mhnames\u001b[0m \u001b[0;34m=\u001b[0m \u001b[0mhnames\u001b[0m  \u001b[0;31m# list of string names of hyperparameters\u001b[0m\u001b[0;34m\u001b[0m\u001b[0m\n\u001b[0;32m--> 313\u001b[0;31m         \u001b[0mself\u001b[0m\u001b[0;34m.\u001b[0m\u001b[0mhyperparams\u001b[0m \u001b[0;34m=\u001b[0m \u001b[0;34m{\u001b[0m\u001b[0mk\u001b[0m\u001b[0;34m:\u001b[0m \u001b[0mself\u001b[0m\u001b[0;34m.\u001b[0m\u001b[0mparams\u001b[0m\u001b[0;34m[\u001b[0m\u001b[0mk\u001b[0m\u001b[0;34m]\u001b[0m \u001b[0;32mfor\u001b[0m \u001b[0mk\u001b[0m \u001b[0;32min\u001b[0m \u001b[0mself\u001b[0m\u001b[0;34m.\u001b[0m\u001b[0mhnames\u001b[0m\u001b[0;34m}\u001b[0m\u001b[0;34m\u001b[0m\u001b[0m\n\u001b[0m\u001b[1;32m    314\u001b[0m \u001b[0;34m\u001b[0m\u001b[0m\n\u001b[1;32m    315\u001b[0m         \u001b[0mself\u001b[0m\u001b[0;34m.\u001b[0m\u001b[0mkernel_call\u001b[0m \u001b[0;34m=\u001b[0m \u001b[0mgetattr\u001b[0m\u001b[0;34m(\u001b[0m\u001b[0mgp\u001b[0m\u001b[0;34m,\u001b[0m \u001b[0mkernel_name\u001b[0m \u001b[0;34m+\u001b[0m \u001b[0;34m\"Kernel\"\u001b[0m\u001b[0;34m)\u001b[0m\u001b[0;34m\u001b[0m\u001b[0m\n",
      "\u001b[0;31mKeyError\u001b[0m: 'harps-n'"
     ]
    }
   ],
   "source": []
  },
  {
   "cell_type": "code",
   "execution_count": 12,
   "metadata": {},
   "outputs": [
    {
     "name": "stderr",
     "output_type": "stream",
     "text": [
      "/Users/petigura/anaconda2/lib/python2.7/site-packages/IPython/core/debugger.py:243: DeprecationWarning: The `color_scheme` argument is deprecated since version 5.1\n",
      "  DeprecationWarning)\n"
     ]
    },
    {
     "name": "stdout",
     "output_type": "stream",
     "text": [
      "> \u001b[0;32m/Users/petigura/anaconda2/lib/python2.7/site-packages/radvel/likelihood.py\u001b[0m(313)\u001b[0;36m<dictcomp>\u001b[0;34m()\u001b[0m\n",
      "\u001b[0;32m    311 \u001b[0;31m\u001b[0;34m\u001b[0m\u001b[0m\n",
      "\u001b[0m\u001b[0;32m    312 \u001b[0;31m        \u001b[0mself\u001b[0m\u001b[0;34m.\u001b[0m\u001b[0mhnames\u001b[0m \u001b[0;34m=\u001b[0m \u001b[0mhnames\u001b[0m  \u001b[0;31m# list of string names of hyperparameters\u001b[0m\u001b[0;34m\u001b[0m\u001b[0m\n",
      "\u001b[0m\u001b[0;32m--> 313 \u001b[0;31m        \u001b[0mself\u001b[0m\u001b[0;34m.\u001b[0m\u001b[0mhyperparams\u001b[0m \u001b[0;34m=\u001b[0m \u001b[0;34m{\u001b[0m\u001b[0mk\u001b[0m\u001b[0;34m:\u001b[0m \u001b[0mself\u001b[0m\u001b[0;34m.\u001b[0m\u001b[0mparams\u001b[0m\u001b[0;34m[\u001b[0m\u001b[0mk\u001b[0m\u001b[0;34m]\u001b[0m \u001b[0;32mfor\u001b[0m \u001b[0mk\u001b[0m \u001b[0;32min\u001b[0m \u001b[0mself\u001b[0m\u001b[0;34m.\u001b[0m\u001b[0mhnames\u001b[0m\u001b[0;34m}\u001b[0m\u001b[0;34m\u001b[0m\u001b[0m\n",
      "\u001b[0m\u001b[0;32m    314 \u001b[0;31m\u001b[0;34m\u001b[0m\u001b[0m\n",
      "\u001b[0m\u001b[0;32m    315 \u001b[0;31m        \u001b[0mself\u001b[0m\u001b[0;34m.\u001b[0m\u001b[0mkernel_call\u001b[0m \u001b[0;34m=\u001b[0m \u001b[0mgetattr\u001b[0m\u001b[0;34m(\u001b[0m\u001b[0mgp\u001b[0m\u001b[0;34m,\u001b[0m \u001b[0mkernel_name\u001b[0m \u001b[0;34m+\u001b[0m \u001b[0;34m\"Kernel\"\u001b[0m\u001b[0;34m)\u001b[0m\u001b[0;34m\u001b[0m\u001b[0m\n",
      "\u001b[0m\n",
      "ipdb> up\n",
      "> \u001b[0;32m/Users/petigura/anaconda2/lib/python2.7/site-packages/radvel/likelihood.py\u001b[0m(313)\u001b[0;36m__init__\u001b[0;34m()\u001b[0m\n",
      "\u001b[0;32m    311 \u001b[0;31m\u001b[0;34m\u001b[0m\u001b[0m\n",
      "\u001b[0m\u001b[0;32m    312 \u001b[0;31m        \u001b[0mself\u001b[0m\u001b[0;34m.\u001b[0m\u001b[0mhnames\u001b[0m \u001b[0;34m=\u001b[0m \u001b[0mhnames\u001b[0m  \u001b[0;31m# list of string names of hyperparameters\u001b[0m\u001b[0;34m\u001b[0m\u001b[0m\n",
      "\u001b[0m\u001b[0;32m--> 313 \u001b[0;31m        \u001b[0mself\u001b[0m\u001b[0;34m.\u001b[0m\u001b[0mhyperparams\u001b[0m \u001b[0;34m=\u001b[0m \u001b[0;34m{\u001b[0m\u001b[0mk\u001b[0m\u001b[0;34m:\u001b[0m \u001b[0mself\u001b[0m\u001b[0;34m.\u001b[0m\u001b[0mparams\u001b[0m\u001b[0;34m[\u001b[0m\u001b[0mk\u001b[0m\u001b[0;34m]\u001b[0m \u001b[0;32mfor\u001b[0m \u001b[0mk\u001b[0m \u001b[0;32min\u001b[0m \u001b[0mself\u001b[0m\u001b[0;34m.\u001b[0m\u001b[0mhnames\u001b[0m\u001b[0;34m}\u001b[0m\u001b[0;34m\u001b[0m\u001b[0m\n",
      "\u001b[0m\u001b[0;32m    314 \u001b[0;31m\u001b[0;34m\u001b[0m\u001b[0m\n",
      "\u001b[0m\u001b[0;32m    315 \u001b[0;31m        \u001b[0mself\u001b[0m\u001b[0;34m.\u001b[0m\u001b[0mkernel_call\u001b[0m \u001b[0;34m=\u001b[0m \u001b[0mgetattr\u001b[0m\u001b[0;34m(\u001b[0m\u001b[0mgp\u001b[0m\u001b[0;34m,\u001b[0m \u001b[0mkernel_name\u001b[0m \u001b[0;34m+\u001b[0m \u001b[0;34m\"Kernel\"\u001b[0m\u001b[0;34m)\u001b[0m\u001b[0;34m\u001b[0m\u001b[0m\n",
      "\u001b[0m\n",
      "ipdb> self.hnames\n",
      "{'harps-n': ['gp_B', 'gp_C', 'gp_L', 'gp_Prot'], 'pfs': ['gp_B', 'gp_C', 'gp_L', 'gp_Prot']}\n",
      "ipdb>  self.params[k]\n",
      "*** NameError: name 'k' is not defined\n",
      "ipdb> self.params[k]\n",
      "*** NameError: name 'k' is not defined\n",
      "ipdb> exit\n"
     ]
    }
   ],
   "source": [
    "debug"
   ]
  },
  {
   "cell_type": "code",
   "execution_count": null,
   "metadata": {
    "collapsed": true
   },
   "outputs": [],
   "source": [
    "gplike = radvel.likelihood.CompositeLikelihood(likes)\n",
    "gppost = radvel.posterior.Posterior(gplike)\n"
   ]
  }
 ],
 "metadata": {
  "kernelspec": {
   "display_name": "Python 2",
   "language": "python",
   "name": "python2"
  },
  "language_info": {
   "codemirror_mode": {
    "name": "ipython",
    "version": 2
   },
   "file_extension": ".py",
   "mimetype": "text/x-python",
   "name": "python",
   "nbconvert_exporter": "python",
   "pygments_lexer": "ipython2",
   "version": "2.7.13"
  }
 },
 "nbformat": 4,
 "nbformat_minor": 2
}
