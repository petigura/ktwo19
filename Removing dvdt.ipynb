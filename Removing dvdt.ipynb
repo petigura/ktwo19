{
 "cells": [
  {
   "cell_type": "code",
   "execution_count": 32,
   "metadata": {},
   "outputs": [
    {
     "name": "stdout",
     "output_type": "stream",
     "text": [
      "Populating the interactive namespace from numpy and matplotlib\n"
     ]
    }
   ],
   "source": [
    "import ktwo19.io\n",
    "%reload_ext autoreload\n",
    "%autoreload 2\n",
    "%pylab osx\n",
    "from scipy import optimize"
   ]
  },
  {
   "cell_type": "code",
   "execution_count": 10,
   "metadata": {},
   "outputs": [
    {
     "name": "stdout",
     "output_type": "stream",
     "text": [
      "excluding obs: rj197.149\n",
      "MAP fit\n",
      "parameter                     value      vary\n",
      "per1                        7.91952      False\n",
      "k1                          9.04338       True\n",
      "per2                        11.9072      False\n",
      "k2                          1.21229       True\n",
      "tc1                         1980.38      False\n",
      "secosw1                           0      False\n",
      "sesinw1                           0      False\n",
      "tc2                         1984.28      False\n",
      "secosw2                           0      False\n",
      "sesinw2                           0      False\n",
      "dvdt                       0.015778       True\n",
      "curv                              0      False\n",
      "gamma_j                    -2.69249       True\n",
      "jit_j                       7.13192       True\n",
      "\n",
      "Priors\n",
      "------\n",
      "e1 constrained to be < 0.99\n",
      "e2 constrained to be < 0.99\n",
      "Bounded prior on jit_j, min=0.0, max=10.0\n",
      "\n",
      "Zeroing out dvdt and trend\n",
      "parameter                     value      vary\n",
      "per1                        7.91952      False\n",
      "k1                          9.04338       True\n",
      "per2                        11.9072      False\n",
      "k2                          1.21229       True\n",
      "tc1                         1980.38      False\n",
      "secosw1                           0      False\n",
      "sesinw1                           0      False\n",
      "tc2                         1984.28      False\n",
      "secosw2                           0      False\n",
      "sesinw2                           0      False\n",
      "dvdt                              0       True\n",
      "curv                              0      False\n",
      "gamma_j                           0       True\n",
      "jit_j                       7.13192       True\n",
      "\n",
      "Priors\n",
      "------\n",
      "e1 constrained to be < 0.99\n",
      "e2 constrained to be < 0.99\n",
      "Bounded prior on jit_j, min=0.0, max=10.0\n",
      "\n"
     ]
    },
    {
     "data": {
      "text/plain": [
       "[<matplotlib.lines.Line2D at 0x1c1e8d8a90>]"
      ]
     },
     "execution_count": 10,
     "metadata": {},
     "output_type": "execute_result"
    }
   ],
   "source": [
    "reload(ktwo19.io)\n",
    "df = ktwo19.io.load_table('rv-trend-removed')\n",
    "clf()\n",
    "plot(df.time,df.mnvel,'.')"
   ]
  },
  {
   "cell_type": "code",
   "execution_count": 8,
   "metadata": {},
   "outputs": [
    {
     "data": {
      "text/plain": [
       "[<matplotlib.lines.Line2D at 0x1c1f82a350>]"
      ]
     },
     "execution_count": 8,
     "metadata": {},
     "output_type": "execute_result"
    }
   ],
   "source": []
  },
  {
   "cell_type": "code",
   "execution_count": 22,
   "metadata": {},
   "outputs": [
    {
     "name": "stdout",
     "output_type": "stream",
     "text": [
      "excluding obs: rj197.149\n",
      "MAP fit\n",
      "parameter                     value      vary\n",
      "per1                        7.91952      False\n",
      "k1                          9.04338       True\n",
      "per2                        11.9072      False\n",
      "k2                          1.21229       True\n",
      "tc1                         1980.38      False\n",
      "secosw1                           0      False\n",
      "sesinw1                           0      False\n",
      "tc2                         1984.28      False\n",
      "secosw2                           0      False\n",
      "sesinw2                           0      False\n",
      "dvdt                       0.015778       True\n",
      "curv                              0      False\n",
      "gamma_j                    -2.69249       True\n",
      "jit_j                       7.13192       True\n",
      "\n",
      "Priors\n",
      "------\n",
      "e1 constrained to be < 0.99\n",
      "e2 constrained to be < 0.99\n",
      "Bounded prior on jit_j, min=0.0, max=10.0\n",
      "\n",
      "Zeroing out dvdt and trend\n",
      "parameter                     value      vary\n",
      "per1                        7.91952      False\n",
      "k1                          9.04338       True\n",
      "per2                        11.9072      False\n",
      "k2                          1.21229       True\n",
      "tc1                         1980.38      False\n",
      "secosw1                           0      False\n",
      "sesinw1                           0      False\n",
      "tc2                         1984.28      False\n",
      "secosw2                           0      False\n",
      "sesinw2                           0      False\n",
      "dvdt                              0       True\n",
      "curv                              0      False\n",
      "gamma_j                           0       True\n",
      "jit_j                       7.13192       True\n",
      "\n",
      "Priors\n",
      "------\n",
      "e1 constrained to be < 0.99\n",
      "e2 constrained to be < 0.99\n",
      "Bounded prior on jit_j, min=0.0, max=10.0\n",
      "\n",
      "          time         rv    rv_err      rv_dt  rv_dt_err inst\n",
      "0  2225.996346  -8.924812  2.691524  -8.924812   2.691524    j\n",
      "1  2229.058283 -14.533294  2.836654 -14.533294   2.836654    j\n",
      "2  2346.849965 -11.349306  1.983755 -11.349306   1.983755    j\n",
      "3  2366.792920  -0.214571  2.036685  -0.214571   2.036685    j\n",
      "4  2367.829151  -9.388593  3.371975  -9.388593   3.371975    j\n",
      "5  2368.814357 -14.072218  2.201017 -14.072218   2.201017    j\n",
      "6  2370.809676 -18.616965  2.129844 -18.616965   2.129844    j\n",
      "7  2374.805352   6.223953  3.153302   6.223953   3.153302    j\n",
      "8  2375.803685   2.943007  2.177207   2.943007   2.177207    j\n",
      "9  2376.797458 -14.342792  2.121848 -14.342792   2.121848    j\n",
      "12.9811406379\n"
     ]
    },
    {
     "data": {
      "text/html": [
       "<div>\n",
       "<style scoped>\n",
       "    .dataframe tbody tr th:only-of-type {\n",
       "        vertical-align: middle;\n",
       "    }\n",
       "\n",
       "    .dataframe tbody tr th {\n",
       "        vertical-align: top;\n",
       "    }\n",
       "\n",
       "    .dataframe thead th {\n",
       "        text-align: right;\n",
       "    }\n",
       "</style>\n",
       "<table border=\"1\" class=\"dataframe\">\n",
       "  <thead>\n",
       "    <tr style=\"text-align: right;\">\n",
       "      <th></th>\n",
       "      <th>time</th>\n",
       "      <th>rv</th>\n",
       "      <th>rv_err</th>\n",
       "      <th>rv_dt</th>\n",
       "      <th>rv_dt_err</th>\n",
       "      <th>inst</th>\n",
       "    </tr>\n",
       "  </thead>\n",
       "  <tbody>\n",
       "    <tr>\n",
       "      <th>46</th>\n",
       "      <td>3092.825866</td>\n",
       "      <td>-10.137460</td>\n",
       "      <td>2.283099</td>\n",
       "      <td>-10.137460</td>\n",
       "      <td>2.283099</td>\n",
       "      <td>j</td>\n",
       "    </tr>\n",
       "    <tr>\n",
       "      <th>47</th>\n",
       "      <td>3093.840536</td>\n",
       "      <td>8.498030</td>\n",
       "      <td>1.930745</td>\n",
       "      <td>8.498030</td>\n",
       "      <td>1.930745</td>\n",
       "      <td>j</td>\n",
       "    </tr>\n",
       "    <tr>\n",
       "      <th>48</th>\n",
       "      <td>3259.112368</td>\n",
       "      <td>15.107988</td>\n",
       "      <td>2.094515</td>\n",
       "      <td>15.107988</td>\n",
       "      <td>2.094515</td>\n",
       "      <td>j</td>\n",
       "    </tr>\n",
       "    <tr>\n",
       "      <th>49</th>\n",
       "      <td>3280.131860</td>\n",
       "      <td>14.551219</td>\n",
       "      <td>1.977589</td>\n",
       "      <td>14.551219</td>\n",
       "      <td>1.977589</td>\n",
       "      <td>j</td>\n",
       "    </tr>\n",
       "    <tr>\n",
       "      <th>50</th>\n",
       "      <td>3281.110002</td>\n",
       "      <td>12.981141</td>\n",
       "      <td>2.031842</td>\n",
       "      <td>12.981141</td>\n",
       "      <td>2.031842</td>\n",
       "      <td>j</td>\n",
       "    </tr>\n",
       "  </tbody>\n",
       "</table>\n",
       "</div>"
      ],
      "text/plain": [
       "           time         rv    rv_err      rv_dt  rv_dt_err inst\n",
       "46  3092.825866 -10.137460  2.283099 -10.137460   2.283099    j\n",
       "47  3093.840536   8.498030  1.930745   8.498030   1.930745    j\n",
       "48  3259.112368  15.107988  2.094515  15.107988   2.094515    j\n",
       "49  3280.131860  14.551219  1.977589  14.551219   1.977589    j\n",
       "50  3281.110002  12.981141  2.031842  12.981141   2.031842    j"
      ]
     },
     "execution_count": 22,
     "metadata": {},
     "output_type": "execute_result"
    }
   ],
   "source": [
    "import radvel.utils\n",
    "from scipy import optimize\n",
    "\n",
    "ti = linspace(1900,4000,10000)\n",
    "P, post = radvel.utils.initialize_posterior('analysis/radvel/ktwo19_npl=2-cc.py')\n",
    "res  = optimize.minimize(post.neglogprob_array, post.get_vary_params(), method='Nelder-Mead',) # MAP fit\n",
    "\n",
    "print \"MAP fit\"\n",
    "print post\n",
    "post.params['dvdt'].value = 0 \n",
    "post.params['gamma_j'].value = 0 \n",
    "\n",
    "print \"Zeroing out dvdt and trend\"\n",
    "print post\n",
    "model = post.likelihood.model\n",
    "rvtimes = post.likelihood.x # times where model is computed  \n",
    "rvmod = model(rvtimes) # \n",
    "rawresid = post.likelihood.residuals() # array\n",
    "rv_dt = rawresid + rvmod # residuals plus model without trend\n",
    "rv_dt_err = post.likelihood.yerr\n",
    "figure(figsize=(10,3) )\n",
    "grid()\n",
    "errorbar(rvtimes,rv_dt,yerr=rv_dt_err,fmt='.')\n",
    "plot(ti, model(ti))\n",
    "\n",
    "table = P.data.sort_values(by='time')\n",
    "sidx = np.argsort(rvtimes)\n",
    "\n",
    "assert np.allclose(table.time,rvtimes[sidx]), \"Times must be sorted\"\n",
    "\n",
    "table['rv_dt'] = rv_dt[sidx]\n",
    "table['rv_dt_err'] = rv_dt_err[sidx]\n",
    "table = table.rename(columns={'mnvel':'rv','errvel':'rv_err','tel':'inst'})\n",
    "\n",
    "#table = table.reset_index()\n",
    "#table = table.sort_values(by='time')\n",
    "table = table['time rv rv_err rv_dt rv_dt_err inst'.split()]\n",
    "print table.head(10)\n",
    "\n",
    "header = \"\"\"\\\n",
    "% time rv rv_err rv_dt rv_dt_err inst    \n",
    "% time: BJD - 2454833\n",
    "% rv: stellar radial velocity (m/s)\n",
    "% rv_err: uncertainty on (m/s)\n",
    "% rv_dt: rv after removing gamma offsets between instruments\n",
    "% rv_dt_err: uncertainty on rv_dt, jitter added in quadrature (m/s)\n",
    "\"\"\"\n",
    "\n",
    "csvfn = table.to_csv('paper/tab_rv.csv',index=False)\n",
    "f = open('paper/tab_rv.tex','w')\n",
    "g = open('paper/tab_rv.csv','w')\n",
    "h = open('paper/tab_rv_stub.tex','w')\n",
    "\n",
    "f.writelines(header)\n",
    "g.writelines(header.replace('%','#'))\n",
    "g.write(\"time,rv,rv_err,rv_dt,rv_dt_err,inst\\n\")\n",
    "for i, row in table.iterrows():\n",
    "    texstr = \"{time:.6f} & {rv:.2f} & {rv_err:.2f} & {rv_dt:.2f} & {rv_dt_err:.2f} & {inst:s} \\\\\\\\ \\n\"\n",
    "    f.write(texstr.format(**row))\n",
    "    g.write(\"{time:.6f},{rv:.2f},{rv_err:.2f},{rv_dt:.2f},{rv_dt_err:.2f},{inst:s}\\n\".format(**row))\n",
    "    if i < 10:\n",
    "        h.write(texstr.format(**row))\n",
    "\n",
    "f.close()\n",
    "g.close()\n",
    "h.close()\n",
    "\n",
    "print rv_dt[-1]\n",
    "table.tail()"
   ]
  },
  {
   "cell_type": "code",
   "execution_count": 13,
   "metadata": {},
   "outputs": [
    {
     "ename": "AssertionError",
     "evalue": "Table transit-times not valid table name",
     "output_type": "error",
     "traceback": [
      "\u001b[0;31m---------------------------------------------------------------------------\u001b[0m",
      "\u001b[0;31mAssertionError\u001b[0m                            Traceback (most recent call last)",
      "\u001b[0;32m<ipython-input-13-3ab48dfae141>\u001b[0m in \u001b[0;36m<module>\u001b[0;34m()\u001b[0m\n\u001b[0;32m----> 1\u001b[0;31m \u001b[0mktwo19\u001b[0m\u001b[0;34m.\u001b[0m\u001b[0mio\u001b[0m\u001b[0;34m.\u001b[0m\u001b[0mload_table\u001b[0m\u001b[0;34m(\u001b[0m\u001b[0;34m'transit-times'\u001b[0m\u001b[0;34m)\u001b[0m\u001b[0;34m\u001b[0m\u001b[0m\n\u001b[0m",
      "\u001b[0;32m/Users/petigura/Research/K2-19_TTV+RV/ktwo19/io.py\u001b[0m in \u001b[0;36mload_table\u001b[0;34m(table, cache, cachefn, verbose)\u001b[0m\n\u001b[1;32m    113\u001b[0m         )\n\u001b[1;32m    114\u001b[0m     \u001b[0;32melse\u001b[0m\u001b[0;34m:\u001b[0m\u001b[0;34m\u001b[0m\u001b[0m\n\u001b[0;32m--> 115\u001b[0;31m         \u001b[0;32massert\u001b[0m \u001b[0mFalse\u001b[0m\u001b[0;34m,\u001b[0m \u001b[0;34m\"Table {} not valid table name\"\u001b[0m\u001b[0;34m.\u001b[0m\u001b[0mformat\u001b[0m\u001b[0;34m(\u001b[0m\u001b[0mtable\u001b[0m\u001b[0;34m)\u001b[0m\u001b[0;34m\u001b[0m\u001b[0m\n\u001b[0m\u001b[1;32m    116\u001b[0m \u001b[0;34m\u001b[0m\u001b[0m\n\u001b[1;32m    117\u001b[0m     \u001b[0;32mreturn\u001b[0m \u001b[0mdf\u001b[0m\u001b[0;34m\u001b[0m\u001b[0m\n",
      "\u001b[0;31mAssertionError\u001b[0m: Table transit-times not valid table name"
     ]
    }
   ],
   "source": [
    "ktwo19.io.load_table('transit-times')"
   ]
  },
  {
   "cell_type": "code",
   "execution_count": 33,
   "metadata": {},
   "outputs": [
    {
     "name": "stdout",
     "output_type": "stream",
     "text": [
      "excluding obs: rj197.149\n",
      "MAP fit\n",
      "parameter                     value      vary\n",
      "per1                        7.91952      False\n",
      "k1                          9.04338       True\n",
      "per2                        11.9072      False\n",
      "k2                          1.21229       True\n",
      "tc1                         1980.38      False\n",
      "secosw1                           0      False\n",
      "sesinw1                           0      False\n",
      "tc2                         1984.28      False\n",
      "secosw2                           0      False\n",
      "sesinw2                           0      False\n",
      "dvdt                       0.015778       True\n",
      "curv                              0      False\n",
      "gamma_j                    -2.69249       True\n",
      "jit_j                       7.13192       True\n",
      "\n",
      "Priors\n",
      "------\n",
      "e1 constrained to be < 0.99\n",
      "e2 constrained to be < 0.99\n",
      "Bounded prior on jit_j, min=0.0, max=10.0\n",
      "\n"
     ]
    }
   ],
   "source": [
    "import radvel.utils\n",
    "ti = linspace(1900,4000,10000)\n",
    "P, post = radvel.utils.initialize_posterior('analysis/radvel/ktwo19_npl=2-cc.py')\n",
    "res  = optimize.minimize(post.neglogprob_array, post.get_vary_params(), method='Nelder-Mead',) # MAP fit\n",
    "\n",
    "print \"MAP fit\"\n",
    "print post\n",
    "post.params['dvdt'].value = 0 \n",
    "post.params['gamma_j'].value = 0 \n",
    "\n",
    "\n",
    "# Full ephem\n",
    "df = pd.read_excel('data/data.xlsx',sheet_name='transit-times')\n",
    "df = df.dropna(subset=['inst'])\n",
    "df[df.inst.str.contains('K2|Spitzer')]\n",
    "df1 = df[df.i_planet==1]\n",
    "df2 = df[df.i_planet==2]\n",
    "ephem1 = polyfit(df1.i_epoch,df1.tc,1)\n",
    "ephem2 = polyfit(df2.i_epoch,df2.tc,1)\n",
    "\n",
    "post.params['per1'].value = ephem1[0]\n",
    "post.params['tc1'].value = ephem1[1]\n",
    "post.params['per2'].value = ephem2[0]\n",
    "post.params['tc2'].value = ephem2[1]\n",
    "\n",
    "\n",
    "\n",
    "\n",
    "\n",
    "\n"
   ]
  },
  {
   "cell_type": "code",
   "execution_count": 31,
   "metadata": {},
   "outputs": [
    {
     "data": {
      "text/plain": [
       "key\n",
       "per1           7.91940\n",
       "per1_err       0.00005\n",
       "tc1         1980.38370\n",
       "tc1_err        0.00030\n",
       "dur1           3.50200\n",
       "dur1_err       0.06300\n",
       "per2          11.90715\n",
       "per2_err       0.00150\n",
       "tc2         1984.27550\n",
       "tc2_err        0.00510\n",
       "dur2           4.37100\n",
       "dur2_err       1.00000\n",
       "per3           2.50856\n",
       "per3_err       0.00041\n",
       "tc3         1975.92070\n",
       "tc3_err        0.00860\n",
       "dur3           2.17000\n",
       "dur3_err       0.32800\n",
       "Name: value , dtype: float64"
      ]
     },
     "execution_count": 31,
     "metadata": {},
     "output_type": "execute_result"
    }
   ],
   "source": [
    "ephem = ktwo19.io.load_table('ephem-sinukoff16')\n",
    "ephem\n"
   ]
  },
  {
   "cell_type": "code",
   "execution_count": 37,
   "metadata": {},
   "outputs": [
    {
     "data": {
      "text/plain": [
       "0.00092626281488872309"
      ]
     },
     "execution_count": 37,
     "metadata": {},
     "output_type": "execute_result"
    }
   ],
   "source": [
    "ephem1[0] - ephem.per1\n"
   ]
  },
  {
   "cell_type": "code",
   "execution_count": 38,
   "metadata": {},
   "outputs": [
    {
     "data": {
      "text/plain": [
       "-0.0091140789036305847"
      ]
     },
     "execution_count": 38,
     "metadata": {},
     "output_type": "execute_result"
    }
   ],
   "source": [
    "ephem2[0] - ephem.per2\n"
   ]
  },
  {
   "cell_type": "code",
   "execution_count": 39,
   "metadata": {},
   "outputs": [
    {
     "name": "stderr",
     "output_type": "stream",
     "text": [
      "[autoreload of radvel failed: Traceback (most recent call last):\n",
      "  File \"/Users/petigura/anaconda2/lib/python2.7/site-packages/IPython/extensions/autoreload.py\", line 247, in check\n",
      "    superreload(m, reload, self.old_objects)\n",
      "ImportError: cannot import name posterior\n",
      "]\n",
      "[autoreload of radvel failed: Traceback (most recent call last):\n",
      "  File \"/Users/petigura/anaconda2/lib/python2.7/site-packages/IPython/extensions/autoreload.py\", line 247, in check\n",
      "    superreload(m, reload, self.old_objects)\n",
      "ImportError: cannot import name posterior\n",
      "]\n",
      "[autoreload of radvel failed: Traceback (most recent call last):\n",
      "  File \"/Users/petigura/anaconda2/lib/python2.7/site-packages/IPython/extensions/autoreload.py\", line 247, in check\n",
      "    superreload(m, reload, self.old_objects)\n",
      "ImportError: cannot import name posterior\n",
      "]\n"
     ]
    }
   ],
   "source": [
    "import jinja2"
   ]
  },
  {
   "cell_type": "code",
   "execution_count": 66,
   "metadata": {},
   "outputs": [
    {
     "data": {
      "text/plain": [
       "u'\\\\includegraphics[height=8.0in,width=6.0in,keepaspectratio]{Hello Gist from GutHub}'"
      ]
     },
     "execution_count": 66,
     "metadata": {},
     "output_type": "execute_result"
    }
   ],
   "source": [
    "\n",
    "from jinja2 import Environment\n",
    "\n",
    "Environment().from_string(\"{{ '\\includegraphics[height=8.0in,width=6.0in,keepaspectratio]{'~title~'}' }}\").render(title='Hello Gist from GutHub')\n"
   ]
  },
  {
   "cell_type": "code",
   "execution_count": null,
   "metadata": {
    "collapsed": true
   },
   "outputs": [],
   "source": []
  }
 ],
 "metadata": {
  "kernelspec": {
   "display_name": "Python 2",
   "language": "python",
   "name": "python2"
  },
  "language_info": {
   "codemirror_mode": {
    "name": "ipython",
    "version": 2
   },
   "file_extension": ".py",
   "mimetype": "text/x-python",
   "name": "python",
   "nbconvert_exporter": "python",
   "pygments_lexer": "ipython2",
   "version": "2.7.13"
  }
 },
 "nbformat": 4,
 "nbformat_minor": 2
}
