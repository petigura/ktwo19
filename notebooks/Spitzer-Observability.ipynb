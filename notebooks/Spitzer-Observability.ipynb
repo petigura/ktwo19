{
 "cells": [
  {
   "cell_type": "code",
   "execution_count": 1,
   "metadata": {
    "collapsed": false
   },
   "outputs": [
    {
     "name": "stderr",
     "output_type": "stream",
     "text": [
      "ktwo19/io.py:40: ParserWarning: Falling back to the 'python' engine because the 'c' engine does not support regex separators (separators > 1 char and different from '\\s+' are interpreted as regex); you can avoid this warning by specifying engine='python'.\n",
      "  times = pd.read_csv(sio(s),sep='\\s*',comment='#')\n"
     ]
    },
    {
     "data": {
      "text/html": [
       "<div>\n",
       "<table border=\"1\" class=\"dataframe\">\n",
       "  <thead>\n",
       "    <tr style=\"text-align: right;\">\n",
       "      <th></th>\n",
       "      <th>i_planet</th>\n",
       "      <th>i_epoch</th>\n",
       "      <th>tc</th>\n",
       "      <th>tc_err</th>\n",
       "    </tr>\n",
       "  </thead>\n",
       "  <tbody>\n",
       "    <tr>\n",
       "      <th>0</th>\n",
       "      <td>1</td>\n",
       "      <td>0</td>\n",
       "      <td>1980.38403</td>\n",
       "      <td>0.00044</td>\n",
       "    </tr>\n",
       "    <tr>\n",
       "      <th>1</th>\n",
       "      <td>1</td>\n",
       "      <td>1</td>\n",
       "      <td>1988.30421</td>\n",
       "      <td>0.00061</td>\n",
       "    </tr>\n",
       "    <tr>\n",
       "      <th>2</th>\n",
       "      <td>1</td>\n",
       "      <td>2</td>\n",
       "      <td>1996.22197</td>\n",
       "      <td>0.00048</td>\n",
       "    </tr>\n",
       "    <tr>\n",
       "      <th>3</th>\n",
       "      <td>1</td>\n",
       "      <td>3</td>\n",
       "      <td>2004.13851</td>\n",
       "      <td>0.00066</td>\n",
       "    </tr>\n",
       "    <tr>\n",
       "      <th>4</th>\n",
       "      <td>1</td>\n",
       "      <td>4</td>\n",
       "      <td>2012.06161</td>\n",
       "      <td>0.00042</td>\n",
       "    </tr>\n",
       "    <tr>\n",
       "      <th>5</th>\n",
       "      <td>1</td>\n",
       "      <td>5</td>\n",
       "      <td>2019.97953</td>\n",
       "      <td>0.00066</td>\n",
       "    </tr>\n",
       "    <tr>\n",
       "      <th>6</th>\n",
       "      <td>1</td>\n",
       "      <td>6</td>\n",
       "      <td>2027.90124</td>\n",
       "      <td>0.00068</td>\n",
       "    </tr>\n",
       "    <tr>\n",
       "      <th>7</th>\n",
       "      <td>1</td>\n",
       "      <td>7</td>\n",
       "      <td>2035.82024</td>\n",
       "      <td>0.00041</td>\n",
       "    </tr>\n",
       "    <tr>\n",
       "      <th>8</th>\n",
       "      <td>1</td>\n",
       "      <td>8</td>\n",
       "      <td>2043.73925</td>\n",
       "      <td>0.00054</td>\n",
       "    </tr>\n",
       "    <tr>\n",
       "      <th>9</th>\n",
       "      <td>1</td>\n",
       "      <td>9</td>\n",
       "      <td>2051.65861</td>\n",
       "      <td>0.00059</td>\n",
       "    </tr>\n",
       "    <tr>\n",
       "      <th>10</th>\n",
       "      <td>2</td>\n",
       "      <td>0</td>\n",
       "      <td>1984.27227</td>\n",
       "      <td>0.00144</td>\n",
       "    </tr>\n",
       "    <tr>\n",
       "      <th>11</th>\n",
       "      <td>2</td>\n",
       "      <td>1</td>\n",
       "      <td>1996.18406</td>\n",
       "      <td>0.00170</td>\n",
       "    </tr>\n",
       "    <tr>\n",
       "      <th>12</th>\n",
       "      <td>2</td>\n",
       "      <td>2</td>\n",
       "      <td>2008.09346</td>\n",
       "      <td>0.00198</td>\n",
       "    </tr>\n",
       "    <tr>\n",
       "      <th>13</th>\n",
       "      <td>2</td>\n",
       "      <td>3</td>\n",
       "      <td>2020.00224</td>\n",
       "      <td>0.00214</td>\n",
       "    </tr>\n",
       "    <tr>\n",
       "      <th>14</th>\n",
       "      <td>2</td>\n",
       "      <td>4</td>\n",
       "      <td>2031.90713</td>\n",
       "      <td>0.00127</td>\n",
       "    </tr>\n",
       "    <tr>\n",
       "      <th>15</th>\n",
       "      <td>2</td>\n",
       "      <td>5</td>\n",
       "      <td>2043.81473</td>\n",
       "      <td>0.00135</td>\n",
       "    </tr>\n",
       "    <tr>\n",
       "      <th>16</th>\n",
       "      <td>2</td>\n",
       "      <td>6</td>\n",
       "      <td>2055.71247</td>\n",
       "      <td>0.00191</td>\n",
       "    </tr>\n",
       "    <tr>\n",
       "      <th>17</th>\n",
       "      <td>1</td>\n",
       "      <td>30</td>\n",
       "      <td>2218.00413</td>\n",
       "      <td>0.00218</td>\n",
       "    </tr>\n",
       "    <tr>\n",
       "      <th>18</th>\n",
       "      <td>1</td>\n",
       "      <td>34</td>\n",
       "      <td>2249.69550</td>\n",
       "      <td>0.00140</td>\n",
       "    </tr>\n",
       "    <tr>\n",
       "      <th>19</th>\n",
       "      <td>1</td>\n",
       "      <td>41</td>\n",
       "      <td>2305.15047</td>\n",
       "      <td>0.00145</td>\n",
       "    </tr>\n",
       "    <tr>\n",
       "      <th>20</th>\n",
       "      <td>1</td>\n",
       "      <td>131</td>\n",
       "      <td>3017.81121</td>\n",
       "      <td>0.00100</td>\n",
       "    </tr>\n",
       "  </tbody>\n",
       "</table>\n",
       "</div>"
      ],
      "text/plain": [
       "    i_planet  i_epoch          tc   tc_err\n",
       "0          1        0  1980.38403  0.00044\n",
       "1          1        1  1988.30421  0.00061\n",
       "2          1        2  1996.22197  0.00048\n",
       "3          1        3  2004.13851  0.00066\n",
       "4          1        4  2012.06161  0.00042\n",
       "5          1        5  2019.97953  0.00066\n",
       "6          1        6  2027.90124  0.00068\n",
       "7          1        7  2035.82024  0.00041\n",
       "8          1        8  2043.73925  0.00054\n",
       "9          1        9  2051.65861  0.00059\n",
       "10         2        0  1984.27227  0.00144\n",
       "11         2        1  1996.18406  0.00170\n",
       "12         2        2  2008.09346  0.00198\n",
       "13         2        3  2020.00224  0.00214\n",
       "14         2        4  2031.90713  0.00127\n",
       "15         2        5  2043.81473  0.00135\n",
       "16         2        6  2055.71247  0.00191\n",
       "17         1       30  2218.00413  0.00218\n",
       "18         1       34  2249.69550  0.00140\n",
       "19         1       41  2305.15047  0.00145\n",
       "20         1      131  3017.81121  0.00100"
      ]
     },
     "execution_count": 1,
     "metadata": {},
     "output_type": "execute_result"
    }
   ],
   "source": [
    "%reload_ext autoreload \n",
    "%autoreload 2\n",
    "\n",
    "import ktwo19.io\n",
    "ktwo19.io.load_times()"
   ]
  },
  {
   "cell_type": "code",
   "execution_count": null,
   "metadata": {
    "collapsed": true
   },
   "outputs": [],
   "source": []
  },
  {
   "cell_type": "code",
   "execution_count": 6,
   "metadata": {
    "collapsed": false
   },
   "outputs": [
    {
     "name": "stdout",
     "output_type": "stream",
     "text": [
      "Populating the interactive namespace from numpy and matplotlib\n"
     ]
    }
   ],
   "source": [
    "import lmfit\n",
    "import pandas as pd\n",
    "from astropy.time import Time\n",
    "from astropy import units as u\n",
    "#import ttv.ttvfastfit\n",
    "#reload(ttv.ttvfastfit)\n",
    "%pylab inline\n",
    "bjd0 = 2454833\n",
    "from cStringIO import StringIO as sio\n",
    "#times = pd.read_csv(sio(s),sep='\\s*',comment='#')\n",
    "#times['time'] -= bjd0\n",
    "\n",
    "run_mcmc=False"
   ]
  },
  {
   "cell_type": "code",
   "execution_count": 13,
   "metadata": {
    "collapsed": false
   },
   "outputs": [],
   "source": [
    "# Field 1 observability\n",
    "spitzer_tstart = Time('2017-03-21',format='iso')\n",
    "spitzer_tstop = Time('2017-04-28',format='iso')"
   ]
  },
  {
   "cell_type": "code",
   "execution_count": 14,
   "metadata": {
    "collapsed": false
   },
   "outputs": [],
   "source": [
    "#target = FixedTarget.from_name('K2-19')\n",
    "#target.name = 'K2-19b'\n",
    "#par = planets.ix['K2-19b']\n",
    "#T0 = Time(par.T0 + bjd0,format='jd')\n",
    "#T0_arr = future_transits(par.P,T0,tstart=tstart,tstop=tstop)"
   ]
  },
  {
   "cell_type": "code",
   "execution_count": 15,
   "metadata": {
    "collapsed": true
   },
   "outputs": [],
   "source": [
    "# Armstrong+15 lithwick exploration\n",
    "# per1 = 7.921 + 0.028 - 0.003 d\n",
    "# per2 = 11.91 + 0.12 - 0.12\n",
    "# tc1 = 813.38345 + 2456000 +/- 0.00036\n",
    "# tc2 = 817.2759 + 2456000 ± 0.0012\n",
    "\n",
    "# Nespral\n",
    "# Pb = 7.91923 ± 0.00020\n",
    "# Pc = 11.90829+0.00233\n",
    "\n",
    "# Narita\n",
    "# Pb 7.920994 ± 0.000071 # Narita\n",
    "# Pc 12.0028 ± 0.0092 # Nartia, however, they note two minima \n",
    "\n",
    "# Nartia second minimum\n",
    "# Pc 11.7748 ± 0.0142\n",
    "\n",
    "# Sinokoff/Dai\n",
    "# 7.91940 ± 0.00005\n",
    "# 11.90715 ± 0.00150\n",
    "\n",
    "# Barros+15 photo-dynamical model\n",
    "# tc1 = 7.921101(69) + Epoch + 2456813.3767(21)\n",
    "# tc2 = 11.90727(58) × Epoch + 2456817.2755(22)\n",
    "\n",
    "\n",
    "# C1 ~8 2014, so 2.5 years from observations\n",
    "# Plan: "
   ]
  },
  {
   "cell_type": "code",
   "execution_count": 16,
   "metadata": {
    "collapsed": false
   },
   "outputs": [],
   "source": [
    "params = ttv.ttvfastfit.Parameters(2,'mu per ecosw esinw inc longnode T')\n",
    "params.add_many(\n",
    "    ('per1', 7.91923, True, None, None, None),\n",
    "    ('per2', 11.90829, True, None, None, None),\n",
    "    ('T1', 2456813.38403-bjd0,True, None, None, None),\n",
    "    ('T2', 2456817.27227-bjd0,True, None, None, None),\n",
    "    ('mu1', 20.5 / (3.33e5*0.918), True, 0, None, None),\n",
    "    ('mu2', 21.4 / (3.33e5*0.918), True, 0, None, None),\n",
    "    ('ecosw1', -0.01, True, -0.1,0.1, None),\n",
    "    ('ecosw2',0.01, True, -0.1,0.1, None),\n",
    "    ('esinw1',0.01, True, -0.1,0.1, None),\n",
    "    ('esinw2', 0.00, True, -0.1,0.1, None),\n",
    "    ('inc1', 90, False, None, None, None),\n",
    "    ('inc2', 90, False, None, None, None),\n",
    "    ('longnode1',  180, False, None, None, None),\n",
    "    ('longnode2',  180, False, None, None, None),\n",
    ")\n",
    "t_start = times.time.min() - 1 \n",
    "t_stop = t_start + 2000 \n",
    "dt = 0.1\n",
    "mod = ttv.ttvfastfit.Model(t_start,t_stop,dt)\n",
    "df = mod(params)\n",
    "times.index = [times.i_planet,times.i_epoch]\n",
    "\n",
    "def resid(params):\n",
    "    times_mod = mod(params)\n",
    "    times_mod = pd.DataFrame(times_mod)\n",
    "    times_mod.index = [times_mod.i_planet,times_mod.i_epoch]\n",
    "    resid = (times_mod.time - times.time).dropna()\n",
    "    resid_err = times.ix[resid.index].time_err\n",
    "    nresid = resid / resid_err\n",
    "    nresid = np.array(nresid)\n",
    "    return nresid\n",
    "\n",
    "def logprob(params):\n",
    "    _logprob = -0.5 * np.sum(resid(params)**2)\n",
    "    e1 = np.sqrt(params['ecosw1']**2  + params['esinw1']**2 )\n",
    "    e2 = np.sqrt(params['ecosw2']**2  + params['esinw2']**2 )\n",
    "    if e1 > 0.05:\n",
    "        return -np.inf\n",
    "    if e2 > 0.05:\n",
    "        return -np.inf\n",
    "\n",
    "    mu_prior_mean = 25 / 3.33e5\n",
    "    mu_prior_sigma = 5 / 3.33e5\n",
    "    _logprob += -0.5 * (params['mu1'] - mu_prior_mean)**2/mu_prior_sigma**2\n",
    "    _logprob += -0.5 * (params['mu2'] - mu_prior_mean)**2/mu_prior_sigma**2\n",
    "    return _logprob    \n",
    "    \n",
    "    \n",
    "def neglogprob(params):\n",
    "    print params.pretty_print()\n",
    "    return -1.0 * logprob(params)\n",
    "\n",
    "nwalkers=50\n",
    "varykeys = [k for k in params.keys() if params[k].vary]\n",
    "pos = np.array([params[k].value for k in varykeys]) #\n",
    "pos = np.vstack([pos]*nwalkers) # nwalkers x nvarys\n",
    "pos[:,varykeys.index('per1')] += np.random.randn(nwalkers) * 1e-5\n",
    "pos[:,varykeys.index('per2')] += np.random.randn(nwalkers) * 1e-5\n",
    "pos[:,varykeys.index('mu1')] += np.random.randn(nwalkers) * 1e-5\n",
    "pos[:,varykeys.index('mu2')] += np.random.randn(nwalkers) * 1e-5\n",
    "pos[:,varykeys.index('T1')] += np.random.randn(nwalkers) * 1e-5\n",
    "pos[:,varykeys.index('T2')] += np.random.randn(nwalkers) * 1e-5\n",
    "pos[:,varykeys.index('ecosw1')] += np.random.randn(nwalkers) * 1e-2\n",
    "pos[:,varykeys.index('ecosw2')] += np.random.randn(nwalkers) * 1e-2\n",
    "pos[:,varykeys.index('esinw1')] += np.random.randn(nwalkers) * 1e-2\n",
    "pos[:,varykeys.index('esinw2')] += np.random.randn(nwalkers) * 1e-2\n",
    "\n",
    "mi = lmfit.minimize(resid, params, method='Nelder')\n",
    "mini = lmfit.Minimizer(logprob, mi.params)\n",
    "#res = mini.emcee(burn=300, steps=600, params=mi.params,nwalkers=nwalkers,pos=pos)"
   ]
  },
  {
   "cell_type": "code",
   "execution_count": 17,
   "metadata": {
    "collapsed": false
   },
   "outputs": [
    {
     "ename": "NameError",
     "evalue": "name 'res' is not defined",
     "output_type": "error",
     "traceback": [
      "\u001b[0;31m---------------------------------------------------------------------------\u001b[0m",
      "\u001b[0;31mNameError\u001b[0m                                 Traceback (most recent call last)",
      "\u001b[0;32m<ipython-input-17-8ff5afe14eaf>\u001b[0m in \u001b[0;36m<module>\u001b[0;34m()\u001b[0m\n\u001b[0;32m----> 1\u001b[0;31m \u001b[0mres\u001b[0m\u001b[0;34m.\u001b[0m\u001b[0mflatchain\u001b[0m\u001b[0;34m.\u001b[0m\u001b[0mto_hdf\u001b[0m\u001b[0;34m(\u001b[0m\u001b[0;34m'chain_K2-19.hdf'\u001b[0m\u001b[0;34m,\u001b[0m\u001b[0;34m'chain'\u001b[0m\u001b[0;34m)\u001b[0m\u001b[0;34m\u001b[0m\u001b[0m\n\u001b[0m",
      "\u001b[0;31mNameError\u001b[0m: name 'res' is not defined"
     ]
    }
   ],
   "source": [
    "res.flatchain.to_hdf('chain_K2-19.hdf','chain')"
   ]
  },
  {
   "cell_type": "code",
   "execution_count": 8,
   "metadata": {
    "collapsed": true
   },
   "outputs": [],
   "source": [
    "chain = pd.read_hdf('chain_K2-19.hdf','chain')"
   ]
  },
  {
   "cell_type": "code",
   "execution_count": 13,
   "metadata": {
    "collapsed": false
   },
   "outputs": [],
   "source": []
  },
  {
   "cell_type": "code",
   "execution_count": 7,
   "metadata": {
    "collapsed": false
   },
   "outputs": [
    {
     "ename": "NameError",
     "evalue": "name 'params' is not defined",
     "output_type": "error",
     "traceback": [
      "\u001b[0;31m---------------------------------------------------------------------------\u001b[0m",
      "\u001b[0;31mNameError\u001b[0m                                 Traceback (most recent call last)",
      "\u001b[0;32m<ipython-input-7-3e2554831b3c>\u001b[0m in \u001b[0;36m<module>\u001b[0;34m()\u001b[0m\n\u001b[1;32m      3\u001b[0m \u001b[0mephem_list\u001b[0m \u001b[0;34m=\u001b[0m \u001b[0;34m[\u001b[0m\u001b[0mdict\u001b[0m\u001b[0;34m(\u001b[0m\u001b[0mP\u001b[0m\u001b[0;34m=\u001b[0m\u001b[0;36m7.91940\u001b[0m\u001b[0;34m,\u001b[0m\u001b[0mt0\u001b[0m\u001b[0;34m=\u001b[0m\u001b[0;36m1913.3837\u001b[0m\u001b[0;34m+\u001b[0m\u001b[0;36m2454900\u001b[0m\u001b[0;34m-\u001b[0m\u001b[0mbjd0\u001b[0m\u001b[0;34m)\u001b[0m\u001b[0;34m,\u001b[0m \u001b[0mdict\u001b[0m\u001b[0;34m(\u001b[0m\u001b[0mP\u001b[0m\u001b[0;34m=\u001b[0m\u001b[0;36m11.90715\u001b[0m\u001b[0;34m,\u001b[0m \u001b[0mt0\u001b[0m\u001b[0;34m=\u001b[0m\u001b[0;36m1917.2755\u001b[0m\u001b[0;34m+\u001b[0m\u001b[0;36m2454900\u001b[0m\u001b[0;34m-\u001b[0m\u001b[0mbjd0\u001b[0m\u001b[0;34m)\u001b[0m\u001b[0;34m]\u001b[0m\u001b[0;34m\u001b[0m\u001b[0m\n\u001b[1;32m      4\u001b[0m \u001b[0mkwarg_list\u001b[0m \u001b[0;34m=\u001b[0m \u001b[0;34m[\u001b[0m\u001b[0mdict\u001b[0m\u001b[0;34m(\u001b[0m\u001b[0mcolor\u001b[0m\u001b[0;34m=\u001b[0m\u001b[0;34m'r'\u001b[0m\u001b[0;34m,\u001b[0m\u001b[0malpha\u001b[0m\u001b[0;34m=\u001b[0m\u001b[0;36m0.1\u001b[0m\u001b[0;34m)\u001b[0m\u001b[0;34m,\u001b[0m\u001b[0mdict\u001b[0m\u001b[0;34m(\u001b[0m\u001b[0mcolor\u001b[0m\u001b[0;34m=\u001b[0m\u001b[0;34m'b'\u001b[0m\u001b[0;34m,\u001b[0m\u001b[0malpha\u001b[0m\u001b[0;34m=\u001b[0m\u001b[0;36m0.1\u001b[0m\u001b[0;34m)\u001b[0m\u001b[0;34m]\u001b[0m\u001b[0;34m\u001b[0m\u001b[0m\n\u001b[0;32m----> 5\u001b[0;31m \u001b[0mtimes_mod_list\u001b[0m \u001b[0;34m=\u001b[0m \u001b[0mttv\u001b[0m\u001b[0;34m.\u001b[0m\u001b[0mplotting\u001b[0m\u001b[0;34m.\u001b[0m\u001b[0mttvfast_sample_chain\u001b[0m\u001b[0;34m(\u001b[0m\u001b[0mparams\u001b[0m\u001b[0;34m,\u001b[0m \u001b[0mmod\u001b[0m\u001b[0;34m,\u001b[0m \u001b[0mchain_samp\u001b[0m\u001b[0;34m)\u001b[0m\u001b[0;34m\u001b[0m\u001b[0m\n\u001b[0m\u001b[1;32m      6\u001b[0m \u001b[0;34m\u001b[0m\u001b[0m\n\u001b[1;32m      7\u001b[0m \u001b[0mttv\u001b[0m\u001b[0;34m.\u001b[0m\u001b[0mplotting\u001b[0m\u001b[0;34m.\u001b[0m\u001b[0mttvfast_plot_sample_chain\u001b[0m\u001b[0;34m(\u001b[0m\u001b[0mtimes_mod_list\u001b[0m\u001b[0;34m,\u001b[0m \u001b[0mephem_list\u001b[0m\u001b[0;34m,\u001b[0m \u001b[0mkwarg_list\u001b[0m\u001b[0;34m)\u001b[0m\u001b[0;34m\u001b[0m\u001b[0m\n",
      "\u001b[0;31mNameError\u001b[0m: name 'params' is not defined"
     ]
    }
   ],
   "source": [
    "import ttv.plotting\n",
    "reload(ttv.plotting)\n",
    "ephem_list = [dict(P=7.91940,t0=1913.3837+2454900-bjd0), dict(P=11.90715, t0=1917.2755+2454900-bjd0)]\n",
    "kwarg_list = [dict(color='r',alpha=0.1),dict(color='b',alpha=0.1)]\n",
    "times_mod_list = ttv.plotting.ttvfast_sample_chain(params, mod, chain_samp)\n",
    "\n",
    "ttv.plotting.ttvfast_plot_sample_chain(times_mod_list, ephem_list, kwarg_list)\n",
    "\n",
    "g = times_mod_list.groupby(['i_planet','i_epoch'],as_index=False)\n",
    "times_per = g.first()\n",
    "times_per = times_per.drop(['index','sample'],axis=1)\n",
    "times_per['time95'] = g.apply(lambda x: np.percentile(x['time'],95)).tolist()\n",
    "times_per['time05'] = g.apply(lambda x: np.percentile(x['time'],5)).tolist()\n",
    "\n",
    "i = 0\n",
    "for i_planet in [1,2]:\n",
    "    times_per_i = times_per[times_per.i_planet==i_planet]\n",
    "    ttv.plotting.errorbar_omc(times_per_i.i_epoch,times_per_i.time05, ephem_list[i]['P'], ephem_list[i]['t0'],lw=2,color='k')\n",
    "    ttv.plotting.errorbar_omc(times_per_i.i_epoch,times_per_i.time95, ephem_list[i]['P'], ephem_list[i]['t0'],lw=2,color='k')\n",
    "    i+=1\n",
    "    \n",
    "ylim( -0.4, 0.4)\n",
    "xlabel('BJD - 2454833')\n",
    "ylabel('O-C (days)') \n"
   ]
  },
  {
   "cell_type": "code",
   "execution_count": 108,
   "metadata": {
    "collapsed": false
   },
   "outputs": [
    {
     "data": {
      "text/html": [
       "<div>\n",
       "<table border=\"1\" class=\"dataframe\">\n",
       "  <thead>\n",
       "    <tr style=\"text-align: right;\">\n",
       "      <th></th>\n",
       "      <th>i_planet</th>\n",
       "      <th>i_epoch</th>\n",
       "      <th>time</th>\n",
       "      <th>time95</th>\n",
       "      <th>time05</th>\n",
       "      <th>time05_iso</th>\n",
       "      <th>time05_jd</th>\n",
       "      <th>time95_iso</th>\n",
       "      <th>time95_jd</th>\n",
       "    </tr>\n",
       "  </thead>\n",
       "  <tbody>\n",
       "    <tr>\n",
       "      <th>132</th>\n",
       "      <td>1</td>\n",
       "      <td>132</td>\n",
       "      <td>3026.050002</td>\n",
       "      <td>3026.050302</td>\n",
       "      <td>3025.815073</td>\n",
       "      <td>2017-04-15 07:33:42.280</td>\n",
       "      <td>2.457859e+06</td>\n",
       "      <td>2017-04-15 13:12:26.102</td>\n",
       "      <td>2.457859e+06</td>\n",
       "    </tr>\n",
       "    <tr>\n",
       "      <th>133</th>\n",
       "      <td>1</td>\n",
       "      <td>133</td>\n",
       "      <td>3033.973119</td>\n",
       "      <td>3033.973167</td>\n",
       "      <td>3033.734256</td>\n",
       "      <td>2017-04-23 05:37:19.729</td>\n",
       "      <td>2.457867e+06</td>\n",
       "      <td>2017-04-23 11:21:21.653</td>\n",
       "      <td>2.457867e+06</td>\n",
       "    </tr>\n",
       "    <tr>\n",
       "      <th>134</th>\n",
       "      <td>1</td>\n",
       "      <td>134</td>\n",
       "      <td>3041.902660</td>\n",
       "      <td>3041.903881</td>\n",
       "      <td>3041.660013</td>\n",
       "      <td>2017-05-01 03:50:25.102</td>\n",
       "      <td>2.457875e+06</td>\n",
       "      <td>2017-05-01 09:41:35.338</td>\n",
       "      <td>2.457875e+06</td>\n",
       "    </tr>\n",
       "    <tr>\n",
       "      <th>135</th>\n",
       "      <td>1</td>\n",
       "      <td>135</td>\n",
       "      <td>3049.825090</td>\n",
       "      <td>3049.826377</td>\n",
       "      <td>3049.580398</td>\n",
       "      <td>2017-05-09 01:55:46.358</td>\n",
       "      <td>2.457883e+06</td>\n",
       "      <td>2017-05-09 07:49:58.952</td>\n",
       "      <td>2.457883e+06</td>\n",
       "    </tr>\n",
       "    <tr>\n",
       "      <th>136</th>\n",
       "      <td>1</td>\n",
       "      <td>136</td>\n",
       "      <td>3057.748166</td>\n",
       "      <td>3057.749538</td>\n",
       "      <td>3057.500264</td>\n",
       "      <td>2017-05-17 00:00:22.801</td>\n",
       "      <td>2.457891e+06</td>\n",
       "      <td>2017-05-17 05:59:20.068</td>\n",
       "      <td>2.457891e+06</td>\n",
       "    </tr>\n",
       "    <tr>\n",
       "      <th>137</th>\n",
       "      <td>1</td>\n",
       "      <td>137</td>\n",
       "      <td>3065.677748</td>\n",
       "      <td>3065.680053</td>\n",
       "      <td>3065.427954</td>\n",
       "      <td>2017-05-24 22:16:15.231</td>\n",
       "      <td>2.457898e+06</td>\n",
       "      <td>2017-05-25 04:19:16.591</td>\n",
       "      <td>2.457899e+06</td>\n",
       "    </tr>\n",
       "  </tbody>\n",
       "</table>\n",
       "</div>"
      ],
      "text/plain": [
       "     i_planet  i_epoch         time       time95       time05  \\\n",
       "132         1      132  3026.050002  3026.050302  3025.815073   \n",
       "133         1      133  3033.973119  3033.973167  3033.734256   \n",
       "134         1      134  3041.902660  3041.903881  3041.660013   \n",
       "135         1      135  3049.825090  3049.826377  3049.580398   \n",
       "136         1      136  3057.748166  3057.749538  3057.500264   \n",
       "137         1      137  3065.677748  3065.680053  3065.427954   \n",
       "\n",
       "                  time05_iso     time05_jd               time95_iso  \\\n",
       "132  2017-04-15 07:33:42.280  2.457859e+06  2017-04-15 13:12:26.102   \n",
       "133  2017-04-23 05:37:19.729  2.457867e+06  2017-04-23 11:21:21.653   \n",
       "134  2017-05-01 03:50:25.102  2.457875e+06  2017-05-01 09:41:35.338   \n",
       "135  2017-05-09 01:55:46.358  2.457883e+06  2017-05-09 07:49:58.952   \n",
       "136  2017-05-17 00:00:22.801  2.457891e+06  2017-05-17 05:59:20.068   \n",
       "137  2017-05-24 22:16:15.231  2.457898e+06  2017-05-25 04:19:16.591   \n",
       "\n",
       "        time95_jd  \n",
       "132  2.457859e+06  \n",
       "133  2.457867e+06  \n",
       "134  2.457875e+06  \n",
       "135  2.457883e+06  \n",
       "136  2.457891e+06  \n",
       "137  2.457899e+06  "
      ]
     },
     "execution_count": 108,
     "metadata": {},
     "output_type": "execute_result"
    }
   ],
   "source": [
    "from astropy.time import Time\n",
    "times_per['time05_iso'] = Time(times_per.time05 + 2454833,format='jd').iso\n",
    "times_per['time05_jd'] = Time(times_per.time05 + 2454833,format='jd').jd\n",
    "times_per['time95_iso'] = Time(times_per.time95 + 2454833,format='jd').iso\n",
    "times_per['time95_jd'] = Time(times_per.time95 + 2454833,format='jd').jd\n",
    "\n",
    "start_time =  Time(datetime.datetime(2017,4,13)).jd\n",
    "stop_time = Time(datetime.datetime(2017,5,30)).jd\n",
    "\n",
    "times_per[(times_per.i_planet==1) & (times_per['time05_jd'].between(start_time,stop_time))]"
   ]
  },
  {
   "cell_type": "code",
   "execution_count": 33,
   "metadata": {
    "collapsed": false
   },
   "outputs": [
    {
     "data": {
      "text/plain": [
       "'2017-04-21 16:05:49.171'"
      ]
     },
     "execution_count": 33,
     "metadata": {},
     "output_type": "execute_result"
    }
   ],
   "source": [
    "from astropy.time import Time\n",
    "Time(2457865.170708,format='jd').iso"
   ]
  },
  {
   "cell_type": "code",
   "execution_count": 103,
   "metadata": {
    "collapsed": false
   },
   "outputs": [
    {
     "data": {
      "text/plain": [
       "2457866.5"
      ]
     },
     "execution_count": 103,
     "metadata": {},
     "output_type": "execute_result"
    }
   ],
   "source": [
    "# Based on the best available data, K2-19b the mid tranist time is between \n",
    "\n",
    "# 2017-04-15: 07:33--13:12 -> T1 = 06:03--11:42, T4=09:03--14:42\n",
    "# 2017-04-23: 05:37--11:21 -> T1 = 04:07--09:51, T4=07:07--12:51\n",
    "# 2017-05-01: 03:50--09:41 -> T1 = 02:20--08:11, T4=05:20--11:11"
   ]
  }
 ],
 "metadata": {
  "kernelspec": {
   "display_name": "Python 2",
   "language": "python",
   "name": "python2"
  },
  "language_info": {
   "codemirror_mode": {
    "name": "ipython",
    "version": 2
   },
   "file_extension": ".py",
   "mimetype": "text/x-python",
   "name": "python",
   "nbconvert_exporter": "python",
   "pygments_lexer": "ipython2",
   "version": "2.7.12"
  }
 },
 "nbformat": 4,
 "nbformat_minor": 0
}
