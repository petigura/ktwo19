{
 "cells": [
  {
   "cell_type": "code",
   "execution_count": 1,
   "metadata": {
    "collapsed": true
   },
   "outputs": [],
   "source": [
    "import pandas as pd"
   ]
  },
  {
   "cell_type": "code",
   "execution_count": 118,
   "metadata": {
    "collapsed": false
   },
   "outputs": [],
   "source": [
    "#df = pd.read_csv('data/lcogt-photometry/Measurements.csv')\n",
    "df = pd.read_csv('observations/LCOGT/K2-19_photometry-25.csv')\n",
    "\n",
    "outputdir = 'observations/LCOGT/fits2/'\n",
    "\n",
    "KW = \"\"\"\n",
    "SITEID FRAMENUM MOLTYPE MOLNUM MOLFRNUM FILTER INSSTATE GAIN RDNOISE DARKCURR \n",
    "SATURATE MAXLIN TRACKNUM REQNUM MOLUID WMSSKYBR AIRMASS MOONDIST FOCPOSN\n",
    "\"\"\".split()\n",
    "\n",
    "def scrape_headers(outputdir, label):\n",
    "    d = {}\n",
    "    f = os.path.join(outputdir,row.Label)\n",
    "    with fits.open(f) as hduL:  \n",
    "        for _KW in KW:\n",
    "            d[_KW] = hduL[0].header[_KW]\n",
    "            d['Label'] = row.Label\n",
    "    return d\n",
    "\n",
    "import os\n",
    "dL = []\n",
    "for i,row in df.iterrows():\n",
    "    dL.append(scrape_headers(outputdir,df.Label))\n",
    "\n",
    "dL = pd.DataFrame(dL)\n",
    "\n",
    "df = pd.merge(df,dL,on='Label')"
   ]
  },
  {
   "cell_type": "code",
   "execution_count": 132,
   "metadata": {
    "collapsed": false
   },
   "outputs": [
    {
     "data": {
      "text/plain": [
       "<matplotlib.legend.Legend at 0x1252b34d0>"
      ]
     },
     "execution_count": 132,
     "metadata": {},
     "output_type": "execute_result"
    },
    {
     "data": {
      "image/png": "[encoded data removed]",
      "text/plain": [
       "<matplotlib.figure.Figure at 0x125683450>"
      ]
     },
     "metadata": {},
     "output_type": "display_data"
    }
   ],
   "source": [
    "cut = df.query('FILTER==\"gp\"')\n",
    "#ratio = cut['Source-Sky_T1']/cut['Source-Sky_C3']\n",
    "#plot(cut.JD_UTC,ratio/ratio.median(),'.')\n",
    "plot(cut.JD_UTC,cut.rel_flux_T1/cut.rel_flux_T1.median(),'.')\n",
    "g = cut.groupby('MOLUID')\n",
    "g_T1 = g['rel_flux_T1']\n",
    "norm = cut.rel_flux_T1.mean()\n",
    "t = g['JD_UTC'].mean()\n",
    "y = g['rel_flux_T1'].mean()/norm\n",
    "y_std = g['rel_flux_T1'].std()/norm\n",
    "y_count = g['rel_flux_T1'].count()\n",
    "y_stderr = y_std / np.sqrt(y_count)\n",
    "\n",
    "\n",
    "plot(t,y,'.')\n",
    "errorbar(t,y,yerr=y_stderr,label='group mean',fmt='.')\n",
    "legend(loc='best')"
   ]
  },
  {
   "cell_type": "code",
   "execution_count": 139,
   "metadata": {
    "collapsed": false
   },
   "outputs": [
    {
     "data": {
      "text/plain": [
       "<matplotlib.legend.Legend at 0x1227056d0>"
      ]
     },
     "execution_count": 139,
     "metadata": {},
     "output_type": "execute_result"
    },
    {
     "data": {
      "image/png": "[encoded data removed]",
      "text/plain": [
       "<matplotlib.figure.Figure at 0x1224782d0>"
      ]
     },
     "metadata": {},
     "output_type": "display_data"
    }
   ],
   "source": [
    "cut = df.query('FILTER==\"ip\"')\n",
    "#ratio = cut['Source-Sky_T1']/cut['Source-Sky_C3']\n",
    "#plot(cut.JD_UTC,ratio/ratio.median(),'.')\n",
    "g = cut.groupby('MOLUID')\n",
    "g_T1 = g['rel_flux_T1']\n",
    "norm = cut.rel_flux_T1.mean()\n",
    "t = g['JD_UTC'].mean()\n",
    "y = g['rel_flux_T1'].mean()/norm\n",
    "y_std = g['rel_flux_T1'].std()/norm\n",
    "y_count = g['rel_flux_T1'].count()\n",
    "y_stderr = y_std / np.sqrt(y_count)\n",
    "\n",
    "plot(cut.JD_UTC, cut.rel_flux_T1/norm,'.')\n",
    "errorbar(t,y,yerr=y_stderr,label='group mean',fmt='.')\n",
    "legend(loc='best')"
   ]
  },
  {
   "cell_type": "code",
   "execution_count": 72,
   "metadata": {
    "collapsed": false
   },
   "outputs": [
    {
     "data": {
      "text/plain": [
       "[<matplotlib.lines.Line2D at 0x123ed39d0>]"
      ]
     },
     "execution_count": 72,
     "metadata": {},
     "output_type": "execute_result"
    },
    {
     "data": {
      "image/png": "[encoded data removed]",
      "text/plain": [
       "<matplotlib.figure.Figure at 0x123e5a3d0>"
      ]
     },
     "metadata": {},
     "output_type": "display_data"
    }
   ],
   "source": [
    "g = df.groupby(['Label','filt'])\n",
    "df2 = g.first()\n",
    "df2_gp = df2.query('filt==\"gp\"') \n",
    "df2_ip = df2.query('filt==\"ip\"') \n",
    "\n",
    "plot(df2_gp.JD_UTC,df2_gp.rel_flux_T1,'.')\n",
    "\n",
    "#df2 = g.last()\n",
    "#df2_gp = df2.query('filt==\"gp\"') \n",
    "#plot(df2_gp.JD_UTC,df2_gp.rel_flux_T1,'.')"
   ]
  }
 ],
 "metadata": {
  "kernelspec": {
   "display_name": "Python 2",
   "language": "python",
   "name": "python2"
  },
  "language_info": {
   "codemirror_mode": {
    "name": "ipython",
    "version": 2
   },
   "file_extension": ".py",
   "mimetype": "text/x-python",
   "name": "python",
   "nbconvert_exporter": "python",
   "pygments_lexer": "ipython2",
   "version": "2.7.12"
  }
 },
 "nbformat": 4,
 "nbformat_minor": 0
}
