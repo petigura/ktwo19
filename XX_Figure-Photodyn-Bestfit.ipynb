{
 "cells": [
  {
   "cell_type": "markdown",
   "metadata": {},
   "source": [
    "## Create the Figure photodyn-bestfit"
   ]
  },
  {
   "cell_type": "markdown",
   "metadata": {},
   "source": [
    "- Generate a bunch of short cadnece times"
   ]
  },
  {
   "cell_type": "code",
   "execution_count": null,
   "metadata": {
    "collapsed": true
   },
   "outputs": [],
   "source": [
    "def generate_sctimes():\n",
    "    df = pd.read_csv('analysis/photodyn/inputs/photometry-ktwo.tsv',sep='\\t')\n",
    "    tmin = df.t.min()\n",
    "    tmax = df.t.max()\n",
    "    sc = 1. / 60 / 24.\n",
    "    t = arange(tmin,tmax+1e-9,sc)\n",
    "    df = pd.DataFrame(dict(t=t))\n",
    "    df['line'] = 0 \n",
    "    df['line t line line line line'.split()].to_csv('sctimes.tsv',header=None,index=None,sep='\\t')\n"
   ]
  },
  {
   "cell_type": "markdown",
   "metadata": {},
   "source": [
    "- Push sctimes.tsv to cadence\n",
    "- Update the k2-19.in file so that it reads from this array of times\n",
    "- Run ./locout k2-19.in <bestfit file>\n",
    "- Copy data to local machine\n",
    "- `run_ktwo19.py create-plot photodyn-bestfit`"
   ]
  }
 ],
 "metadata": {
  "kernelspec": {
   "display_name": "Python 2",
   "language": "python",
   "name": "python2"
  },
  "language_info": {
   "codemirror_mode": {
    "name": "ipython",
    "version": 2
   },
   "file_extension": ".py",
   "mimetype": "text/x-python",
   "name": "python",
   "nbconvert_exporter": "python",
   "pygments_lexer": "ipython2",
   "version": "2.7.15"
  }
 },
 "nbformat": 4,
 "nbformat_minor": 2
}
