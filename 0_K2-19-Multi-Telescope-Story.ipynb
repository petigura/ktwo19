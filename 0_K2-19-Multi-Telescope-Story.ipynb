{
 "cells": [
  {
   "cell_type": "code",
   "execution_count": 12,
   "metadata": {
    "collapsed": true
   },
   "outputs": [],
   "source": [
    "## Range of times for K2-19b at MC Donald\n",
    "import ktwo19.io"
   ]
  },
  {
   "cell_type": "code",
   "execution_count": 13,
   "metadata": {},
   "outputs": [
    {
     "name": "stdout",
     "output_type": "stream",
     "text": [
      "LCO McDonald Photometry start=2457858.635390 stop=2457858.877540\n"
     ]
    },
    {
     "data": {
      "text/plain": [
       "131.98846995294525"
      ]
     },
     "execution_count": 13,
     "metadata": {},
     "output_type": "execute_result"
    }
   ],
   "source": [
    "df = pd.read_table('data/201505350b_McDonald.dat',skiprows=1,names=['t','f','f_err'])\n",
    "start = df.iloc[0]['t']\n",
    "stop = df.iloc[-1]['t']\n",
    "mid = 0.5*(start+stop)\n",
    "err = 0.5*(stop-start)\n",
    "print \"LCO McDonald Photometry start={:.6f} stop={:.6f}\".format(start,stop)\n",
    "t0 = 2456813.38403\n",
    "per = -2456813.38403 + 2456821.30421\n",
    "(2457858.75647 - t0)/per"
   ]
  },
  {
   "cell_type": "code",
   "execution_count": 14,
   "metadata": {},
   "outputs": [
    {
     "data": {
      "text/plain": [
       "2457850.08"
      ]
     },
     "execution_count": 14,
     "metadata": {},
     "output_type": "execute_result"
    }
   ],
   "source": [
    "0.5 *(2457850.070 + 2457850.090)"
   ]
  },
  {
   "cell_type": "code",
   "execution_count": 15,
   "metadata": {},
   "outputs": [
    {
     "data": {
      "text/plain": [
       "2457852.712513"
      ]
     },
     "execution_count": 15,
     "metadata": {},
     "output_type": "execute_result"
    }
   ],
   "source": [
    "0.5*(2457852.156379+2457853.268647 )"
   ]
  },
  {
   "cell_type": "code",
   "execution_count": 16,
   "metadata": {},
   "outputs": [
    {
     "data": {
      "text/html": [
       "<div>\n",
       "<table border=\"1\" class=\"dataframe\">\n",
       "  <thead>\n",
       "    <tr style=\"text-align: right;\">\n",
       "      <th></th>\n",
       "      <th>name</th>\n",
       "      <th>kmag</th>\n",
       "      <th>P</th>\n",
       "      <th>T0</th>\n",
       "      <th>T14 [hrs]</th>\n",
       "      <th>rprstar</th>\n",
       "      <th>tau</th>\n",
       "      <th>phot_prec</th>\n",
       "      <th>depth</th>\n",
       "      <th>depth_prec</th>\n",
       "      <th>TC_prec</th>\n",
       "    </tr>\n",
       "    <tr>\n",
       "      <th>name</th>\n",
       "      <th></th>\n",
       "      <th></th>\n",
       "      <th></th>\n",
       "      <th></th>\n",
       "      <th></th>\n",
       "      <th></th>\n",
       "      <th></th>\n",
       "      <th></th>\n",
       "      <th></th>\n",
       "      <th></th>\n",
       "      <th></th>\n",
       "    </tr>\n",
       "  </thead>\n",
       "  <tbody>\n",
       "    <tr>\n",
       "      <th>K2-19b</th>\n",
       "      <td>K2-19b</td>\n",
       "      <td>11.16</td>\n",
       "      <td>7.91952</td>\n",
       "      <td>1980.38319</td>\n",
       "      <td>3.237</td>\n",
       "      <td>7.446</td>\n",
       "      <td>0.24</td>\n",
       "      <td>548</td>\n",
       "      <td>5544</td>\n",
       "      <td>39.30</td>\n",
       "      <td>0.27</td>\n",
       "    </tr>\n",
       "    <tr>\n",
       "      <th>K2-19c</th>\n",
       "      <td>K2-19c</td>\n",
       "      <td>11.16</td>\n",
       "      <td>11.90724</td>\n",
       "      <td>1984.27545</td>\n",
       "      <td>3.823</td>\n",
       "      <td>4.440</td>\n",
       "      <td>0.17</td>\n",
       "      <td>548</td>\n",
       "      <td>1971</td>\n",
       "      <td>36.16</td>\n",
       "      <td>0.63</td>\n",
       "    </tr>\n",
       "  </tbody>\n",
       "</table>\n",
       "</div>"
      ],
      "text/plain": [
       "          name   kmag         P          T0  T14 [hrs]  rprstar   tau  \\\n",
       "name                                                                    \n",
       "K2-19b  K2-19b  11.16   7.91952  1980.38319      3.237    7.446  0.24   \n",
       "K2-19c  K2-19c  11.16  11.90724  1984.27545      3.823    4.440  0.17   \n",
       "\n",
       "        phot_prec  depth  depth_prec  TC_prec  \n",
       "name                                           \n",
       "K2-19b        548   5544       39.30     0.27  \n",
       "K2-19c        548   1971       36.16     0.63  "
      ]
     },
     "execution_count": 16,
     "metadata": {},
     "output_type": "execute_result"
    }
   ],
   "source": [
    "planets = pd.read_excel('./observations/wircpol/WIRCPOL Transit Observations.xlsx',skiprows=[0])\n",
    "planets.index=planets.name\n",
    "planets.ix[['K2-19b','K2-19c']]"
   ]
  },
  {
   "cell_type": "code",
   "execution_count": 38,
   "metadata": {},
   "outputs": [
    {
     "name": "stdout",
     "output_type": "stream",
     "text": [
      "Populating the interactive namespace from numpy and matplotlib\n"
     ]
    },
    {
     "name": "stderr",
     "output_type": "stream",
     "text": [
      "/Users/petigura/anaconda/lib/python2.7/site-packages/ipykernel/__main__.py:21: SettingWithCopyWarning: \n",
      "A value is trying to be set on a copy of a slice from a DataFrame.\n",
      "Try using .loc[row_indexer,col_indexer] = value instead\n",
      "\n",
      "See the caveats in the documentation: http://pandas.pydata.org/pandas-docs/stable/indexing.html#indexing-view-versus-copy\n"
     ]
    },
    {
     "data": {
      "image/png": "[encoded data removed]",
      "text/plain": [
       "<matplotlib.figure.Figure at 0x114c94990>"
      ]
     },
     "metadata": {},
     "output_type": "display_data"
    }
   ],
   "source": [
    "%pylab inline\n",
    "import seaborn as sns\n",
    "sns.set_style('whitegrid')\n",
    "times = ktwo19.io.load_times()\n",
    "times.index = times.i_planet\n",
    "times = times.ix[1]\n",
    "planet = planets.ix['K2-19b']\n",
    "times['omc'] = times['tc'] - planet.T0 - planet.P * times.i_epoch\n",
    "rc('savefig',dpi=120)\n",
    "cut = times.query('inst==\"K2\"')\n",
    "errorbar(cut.tc,cut.omc,yerr=cut.tc_err,fmt='.',label='K2')\n",
    "cut = times[times.notes.str.contains('Narita')]\n",
    "errorbar(cut.tc,cut.omc,yerr=cut.tc_err,fmt='.',label='Narita+15')\n",
    "\n",
    "cut = times[times.notes.str.contains('Spitzer')]\n",
    "errorbar(cut.tc,cut.omc,yerr=cut.tc_err,fmt='.',label='Spitzer')\n",
    "\n",
    "\n",
    "T14 = planet.ix['T14 [hrs]']/24\n",
    "cut = times[times.notes.str.contains('Barros')]\n",
    "cut['tc_err'] += 0.5 * T14\n",
    "'''\n",
    "errorbar(cut.tc,cut.omc,yerr=cut.tc_err,fmt=',',label='Barros+15 Pred.')\n",
    "'''\n",
    "rng = pd.read_excel('data/transit-times.xlsx',sheetname='Sheet2')\n",
    "rng.index = rng.i_planet\n",
    "rng = rng.ix[1]\n",
    "from ktwo19.io import bjd0\n",
    "rng['start'] -= bjd0\n",
    "rng['stop'] -= bjd0\n",
    "rng['start_omc'] = rng['start'] - planet.T0 - planet.P * rng.i_epoch\n",
    "rng['stop_omc'] = rng['stop'] - planet.T0 - planet.P * rng.i_epoch\n",
    "\n",
    "kw = dict(lw=1,ls='-',marker='_',ms=10)\n",
    "cut = rng[rng.notes.str.contains('WIRC')].iloc[0]\n",
    "plot([cut.start,cut.start],[cut.start_omc,cut.stop_omc],label='WIRC',color='r',**kw)\n",
    "\n",
    "#cut = rng[rng.notes.str.contains('Spitzer')].iloc[0]\n",
    "#plot([cut.start,cut.start],[cut.start_omc,cut.stop_omc],label='Spitzer',color='b',**kw)\n",
    "\n",
    "cut = rng[rng.notes.str.contains('LCO')].iloc[0]\n",
    "plot([cut.start,cut.start],[cut.start_omc,cut.stop_omc],label='LCO',color='m',**kw)\n",
    "\n",
    "\n",
    "plot([4e3,4e3],[0,T14],lw=2,label='Transit Duration')\n",
    "xlim(1900,4100)\n",
    "#xlim(2700,3300)\n",
    "\n",
    "legend(loc='lower right')\n",
    "xlabel('BJD - %i' % bjd0)\n",
    "ylabel('O - C [Sinukoff+15 Ephem]')\n",
    "gcf().savefig('fig_K2-19-Observations.pdf') "
   ]
  },
  {
   "cell_type": "code",
   "execution_count": 36,
   "metadata": {},
   "outputs": [
    {
     "name": "stdout",
     "output_type": "stream",
     "text": [
      "Populating the interactive namespace from numpy and matplotlib\n"
     ]
    },
    {
     "name": "stderr",
     "output_type": "stream",
     "text": [
      "/Users/petigura/anaconda/lib/python2.7/site-packages/ipykernel/__main__.py:22: SettingWithCopyWarning: \n",
      "A value is trying to be set on a copy of a slice from a DataFrame.\n",
      "Try using .loc[row_indexer,col_indexer] = value instead\n",
      "\n",
      "See the caveats in the documentation: http://pandas.pydata.org/pandas-docs/stable/indexing.html#indexing-view-versus-copy\n"
     ]
    },
    {
     "data": {
      "image/png": "[encoded data removed]",
      "text/plain": [
       "<matplotlib.figure.Figure at 0x11e6f4bd0>"
      ]
     },
     "metadata": {},
     "output_type": "display_data"
    }
   ],
   "source": [
    "%pylab inline\n",
    "import seaborn as sns\n",
    "sns.set_style('whitegrid')\n",
    "times = ktwo19.io.load_times()\n",
    "times.index = times.i_planet\n",
    "times = times.ix[2]\n",
    "planet = planets.ix['K2-19c']\n",
    "times['omc'] = times['tc'] - planet.T0 - planet.P * times.i_epoch\n",
    "rc('savefig',dpi=120)\n",
    "cut = times.query('inst==\"K2\"')\n",
    "errorbar(cut.tc,cut.omc,yerr=cut.tc_err,fmt='.',label='K2')\n",
    "\n",
    "#cut = times[times.notes.str.contains('Narita')]\n",
    "#errorbar(cut.tc,cut.omc,yerr=cut.tc_err,fmt='.',label='Narita+15')\n",
    "\n",
    "cut = times[times.notes.str.contains('Spitzer')]\n",
    "errorbar(cut.tc,cut.omc,yerr=cut.tc_err,fmt='.',label='Spitzer')\n",
    "\n",
    "\n",
    "T14 = planet.ix['T14 [hrs]']/24\n",
    "cut = times[times.notes.str.contains('Barros')]\n",
    "cut['tc_err'] += 0.5 * T14\n",
    "\n",
    "'''\n",
    "errorbar(cut.tc,cut.omc,yerr=cut.tc_err,fmt=',',label='Barros+15 Pred.')\n",
    "'''\n",
    "\n",
    "rng = pd.read_excel('data/transit-times.xlsx',sheetname='Sheet2')\n",
    "rng.index = rng.i_planet\n",
    "rng = rng.ix[[2]]\n",
    "from ktwo19.io import bjd0\n",
    "rng['start'] -= bjd0\n",
    "rng['stop'] -= bjd0\n",
    "rng['start_omc'] = rng['start'] - planet.T0 - planet.P * rng.i_epoch\n",
    "rng['stop_omc'] = rng['stop'] - planet.T0 - planet.P * rng.i_epoch\n",
    "\n",
    "kw = dict(lw=1,ls='-',marker='_',ms=10)\n",
    "\n",
    "#cut = rng[rng.notes.str.contains('Spitzer')].iloc[0]\n",
    "#plot([cut.start,cut.start],[cut.start_omc,cut.stop_omc],label='Spitzer',color='b',**kw)\n",
    "\n",
    "\n",
    "plot([4e3,4e3],[0,T14],lw=2,label='Transit Duration')\n",
    "xlim(1900,4100)\n",
    "#xlim(2700,3300)\n",
    "plt.legend()\n",
    "\n",
    "xlabel('BJD - %i' % bjd0)\n",
    "ylabel('O - C [Sinukoff+15 Ephem]')\n",
    "gcf().savefig('fig_K2-19-Observations.pdf') "
   ]
  },
  {
   "cell_type": "code",
   "execution_count": 28,
   "metadata": {},
   "outputs": [
    {
     "name": "stdout",
     "output_type": "stream",
     "text": [
      "> \u001b[0;32m/Users/petigura/anaconda/lib/python2.7/site-packages/matplotlib/legend_handler.py\u001b[0m(477)\u001b[0;36mcreate_artists\u001b[0;34m()\u001b[0m\n",
      "\u001b[0;32m    475 \u001b[0;31m                      for x, y in zip(xdata_marker, ydata_marker)]\n",
      "\u001b[0m\u001b[0;32m    476 \u001b[0;31m            \u001b[0mcoll\u001b[0m \u001b[0;34m=\u001b[0m \u001b[0mmcoll\u001b[0m\u001b[0;34m.\u001b[0m\u001b[0mLineCollection\u001b[0m\u001b[0;34m(\u001b[0m\u001b[0mverts\u001b[0m\u001b[0;34m)\u001b[0m\u001b[0;34m\u001b[0m\u001b[0m\n",
      "\u001b[0m\u001b[0;32m--> 477 \u001b[0;31m            \u001b[0mself\u001b[0m\u001b[0;34m.\u001b[0m\u001b[0mupdate_prop\u001b[0m\u001b[0;34m(\u001b[0m\u001b[0mcoll\u001b[0m\u001b[0;34m,\u001b[0m \u001b[0mbarlinecols\u001b[0m\u001b[0;34m[\u001b[0m\u001b[0;36m0\u001b[0m\u001b[0;34m]\u001b[0m\u001b[0;34m,\u001b[0m \u001b[0mlegend\u001b[0m\u001b[0;34m)\u001b[0m\u001b[0;34m\u001b[0m\u001b[0m\n",
      "\u001b[0m\u001b[0;32m    478 \u001b[0;31m            \u001b[0mhandle_barlinecols\u001b[0m\u001b[0;34m.\u001b[0m\u001b[0mappend\u001b[0m\u001b[0;34m(\u001b[0m\u001b[0mcoll\u001b[0m\u001b[0;34m)\u001b[0m\u001b[0;34m\u001b[0m\u001b[0m\n",
      "\u001b[0m\u001b[0;32m    479 \u001b[0;31m\u001b[0;34m\u001b[0m\u001b[0m\n",
      "\u001b[0m\n",
      "ipdb> up\n",
      "> \u001b[0;32m/Users/petigura/anaconda/lib/python2.7/site-packages/matplotlib/legend_handler.py\u001b[0m(119)\u001b[0;36mlegend_artist\u001b[0;34m()\u001b[0m\n",
      "\u001b[0;32m    117 \u001b[0;31m        artists = self.create_artists(legend, orig_handle,\n",
      "\u001b[0m\u001b[0;32m    118 \u001b[0;31m                                      \u001b[0mxdescent\u001b[0m\u001b[0;34m,\u001b[0m \u001b[0mydescent\u001b[0m\u001b[0;34m,\u001b[0m \u001b[0mwidth\u001b[0m\u001b[0;34m,\u001b[0m \u001b[0mheight\u001b[0m\u001b[0;34m,\u001b[0m\u001b[0;34m\u001b[0m\u001b[0m\n",
      "\u001b[0m\u001b[0;32m--> 119 \u001b[0;31m                                      fontsize, handlebox.get_transform())\n",
      "\u001b[0m\u001b[0;32m    120 \u001b[0;31m\u001b[0;34m\u001b[0m\u001b[0m\n",
      "\u001b[0m\u001b[0;32m    121 \u001b[0;31m        \u001b[0;31m# create_artists will return a list of artists.\u001b[0m\u001b[0;34m\u001b[0m\u001b[0;34m\u001b[0m\u001b[0m\n",
      "\u001b[0m\n",
      "ipdb> \n",
      "> \u001b[0;32m/Users/petigura/anaconda/lib/python2.7/site-packages/matplotlib/legend.py\u001b[0m(654)\u001b[0;36m_init_legend_box\u001b[0;34m()\u001b[0m\n",
      "\u001b[0;32m    652 \u001b[0;31m                \u001b[0;31m# original artist/handle.\u001b[0m\u001b[0;34m\u001b[0m\u001b[0;34m\u001b[0m\u001b[0m\n",
      "\u001b[0m\u001b[0;32m    653 \u001b[0;31m                handle_list.append(handler.legend_artist(self, orig_handle,\n",
      "\u001b[0m\u001b[0;32m--> 654 \u001b[0;31m                                                         fontsize, handlebox))\n",
      "\u001b[0m\u001b[0;32m    655 \u001b[0;31m\u001b[0;34m\u001b[0m\u001b[0m\n",
      "\u001b[0m\u001b[0;32m    656 \u001b[0;31m        \u001b[0;32mif\u001b[0m \u001b[0mlen\u001b[0m\u001b[0;34m(\u001b[0m\u001b[0mhandleboxes\u001b[0m\u001b[0;34m)\u001b[0m \u001b[0;34m>\u001b[0m \u001b[0;36m0\u001b[0m\u001b[0;34m:\u001b[0m\u001b[0;34m\u001b[0m\u001b[0m\n",
      "\u001b[0m\n",
      "ipdb> \n",
      "> \u001b[0;32m/Users/petigura/anaconda/lib/python2.7/site-packages/matplotlib/legend.py\u001b[0m(385)\u001b[0;36m__init__\u001b[0;34m()\u001b[0m\n",
      "\u001b[0;32m    383 \u001b[0;31m\u001b[0;34m\u001b[0m\u001b[0m\n",
      "\u001b[0m\u001b[0;32m    384 \u001b[0;31m        \u001b[0;31m# init with null renderer\u001b[0m\u001b[0;34m\u001b[0m\u001b[0;34m\u001b[0m\u001b[0m\n",
      "\u001b[0m\u001b[0;32m--> 385 \u001b[0;31m        \u001b[0mself\u001b[0m\u001b[0;34m.\u001b[0m\u001b[0m_init_legend_box\u001b[0m\u001b[0;34m(\u001b[0m\u001b[0mhandles\u001b[0m\u001b[0;34m,\u001b[0m \u001b[0mlabels\u001b[0m\u001b[0;34m,\u001b[0m \u001b[0mmarkerfirst\u001b[0m\u001b[0;34m)\u001b[0m\u001b[0;34m\u001b[0m\u001b[0m\n",
      "\u001b[0m\u001b[0;32m    386 \u001b[0;31m\u001b[0;34m\u001b[0m\u001b[0m\n",
      "\u001b[0m\u001b[0;32m    387 \u001b[0;31m        \u001b[0;32mif\u001b[0m \u001b[0mframealpha\u001b[0m \u001b[0;32mis\u001b[0m \u001b[0mNone\u001b[0m\u001b[0;34m:\u001b[0m\u001b[0;34m\u001b[0m\u001b[0m\n",
      "\u001b[0m\n",
      "ipdb> \n",
      "> \u001b[0;32m/Users/petigura/anaconda/lib/python2.7/site-packages/matplotlib/axes/_axes.py\u001b[0m(550)\u001b[0;36mlegend\u001b[0;34m()\u001b[0m\n",
      "\u001b[0;32m    548 \u001b[0;31m            \u001b[0;32mraise\u001b[0m \u001b[0mTypeError\u001b[0m\u001b[0;34m(\u001b[0m\u001b[0;34m'Invalid arguments to legend.'\u001b[0m\u001b[0;34m)\u001b[0m\u001b[0;34m\u001b[0m\u001b[0m\n",
      "\u001b[0m\u001b[0;32m    549 \u001b[0;31m\u001b[0;34m\u001b[0m\u001b[0m\n",
      "\u001b[0m\u001b[0;32m--> 550 \u001b[0;31m        \u001b[0mself\u001b[0m\u001b[0;34m.\u001b[0m\u001b[0mlegend_\u001b[0m \u001b[0;34m=\u001b[0m \u001b[0mmlegend\u001b[0m\u001b[0;34m.\u001b[0m\u001b[0mLegend\u001b[0m\u001b[0;34m(\u001b[0m\u001b[0mself\u001b[0m\u001b[0;34m,\u001b[0m \u001b[0mhandles\u001b[0m\u001b[0;34m,\u001b[0m \u001b[0mlabels\u001b[0m\u001b[0;34m,\u001b[0m \u001b[0;34m**\u001b[0m\u001b[0mkwargs\u001b[0m\u001b[0;34m)\u001b[0m\u001b[0;34m\u001b[0m\u001b[0m\n",
      "\u001b[0m\u001b[0;32m    551 \u001b[0;31m        \u001b[0mself\u001b[0m\u001b[0;34m.\u001b[0m\u001b[0mlegend_\u001b[0m\u001b[0;34m.\u001b[0m\u001b[0m_remove_method\u001b[0m \u001b[0;34m=\u001b[0m \u001b[0;32mlambda\u001b[0m \u001b[0mh\u001b[0m\u001b[0;34m:\u001b[0m \u001b[0msetattr\u001b[0m\u001b[0;34m(\u001b[0m\u001b[0mself\u001b[0m\u001b[0;34m,\u001b[0m \u001b[0;34m'legend_'\u001b[0m\u001b[0;34m,\u001b[0m \u001b[0mNone\u001b[0m\u001b[0;34m)\u001b[0m\u001b[0;34m\u001b[0m\u001b[0m\n",
      "\u001b[0m\u001b[0;32m    552 \u001b[0;31m        \u001b[0;32mreturn\u001b[0m \u001b[0mself\u001b[0m\u001b[0;34m.\u001b[0m\u001b[0mlegend_\u001b[0m\u001b[0;34m\u001b[0m\u001b[0m\n",
      "\u001b[0m\n",
      "ipdb> \n",
      "> \u001b[0;32m/Users/petigura/anaconda/lib/python2.7/site-packages/matplotlib/pyplot.py\u001b[0m(3560)\u001b[0;36mlegend\u001b[0;34m()\u001b[0m\n",
      "\u001b[0;32m   3558 \u001b[0;31m\u001b[0;34m@\u001b[0m\u001b[0mdocstring\u001b[0m\u001b[0;34m.\u001b[0m\u001b[0mcopy_dedent\u001b[0m\u001b[0;34m(\u001b[0m\u001b[0mAxes\u001b[0m\u001b[0;34m.\u001b[0m\u001b[0mlegend\u001b[0m\u001b[0;34m)\u001b[0m\u001b[0;34m\u001b[0m\u001b[0m\n",
      "\u001b[0m\u001b[0;32m   3559 \u001b[0;31m\u001b[0;32mdef\u001b[0m \u001b[0mlegend\u001b[0m\u001b[0;34m(\u001b[0m\u001b[0;34m*\u001b[0m\u001b[0margs\u001b[0m\u001b[0;34m,\u001b[0m \u001b[0;34m**\u001b[0m\u001b[0mkwargs\u001b[0m\u001b[0;34m)\u001b[0m\u001b[0;34m:\u001b[0m\u001b[0;34m\u001b[0m\u001b[0m\n",
      "\u001b[0m\u001b[0;32m-> 3560 \u001b[0;31m    \u001b[0mret\u001b[0m \u001b[0;34m=\u001b[0m \u001b[0mgca\u001b[0m\u001b[0;34m(\u001b[0m\u001b[0;34m)\u001b[0m\u001b[0;34m.\u001b[0m\u001b[0mlegend\u001b[0m\u001b[0;34m(\u001b[0m\u001b[0;34m*\u001b[0m\u001b[0margs\u001b[0m\u001b[0;34m,\u001b[0m \u001b[0;34m**\u001b[0m\u001b[0mkwargs\u001b[0m\u001b[0;34m)\u001b[0m\u001b[0;34m\u001b[0m\u001b[0m\n",
      "\u001b[0m\u001b[0;32m   3561 \u001b[0;31m    \u001b[0;32mreturn\u001b[0m \u001b[0mret\u001b[0m\u001b[0;34m\u001b[0m\u001b[0m\n",
      "\u001b[0m\u001b[0;32m   3562 \u001b[0;31m\u001b[0;34m\u001b[0m\u001b[0m\n",
      "\u001b[0m\n",
      "ipdb> \n",
      "> \u001b[0;32m<ipython-input-27-5cdaf6b68a6e>\u001b[0m(47)\u001b[0;36m<module>\u001b[0;34m()\u001b[0m\n",
      "\u001b[0;32m     45 \u001b[0;31m\u001b[0;31m#xlim(2700,3300)\u001b[0m\u001b[0;34m\u001b[0m\u001b[0;34m\u001b[0m\u001b[0m\n",
      "\u001b[0m\u001b[0;32m     46 \u001b[0;31m\u001b[0;34m\u001b[0m\u001b[0m\n",
      "\u001b[0m\u001b[0;32m---> 47 \u001b[0;31m\u001b[0mlegend\u001b[0m\u001b[0;34m(\u001b[0m\u001b[0;34m)\u001b[0m\u001b[0;34m\u001b[0m\u001b[0m\n",
      "\u001b[0m\u001b[0;32m     48 \u001b[0;31m\u001b[0mxlabel\u001b[0m\u001b[0;34m(\u001b[0m\u001b[0;34m'BJD - %i'\u001b[0m \u001b[0;34m%\u001b[0m \u001b[0mbjd0\u001b[0m\u001b[0;34m)\u001b[0m\u001b[0;34m\u001b[0m\u001b[0m\n",
      "\u001b[0m\u001b[0;32m     49 \u001b[0;31m\u001b[0mylabel\u001b[0m\u001b[0;34m(\u001b[0m\u001b[0;34m'O - C [Sinukoff+15 Ephem]'\u001b[0m\u001b[0;34m)\u001b[0m\u001b[0;34m\u001b[0m\u001b[0m\n",
      "\u001b[0m\n",
      "ipdb> l\n",
      "\u001b[1;32m     42 \u001b[0m\u001b[0;34m\u001b[0m\u001b[0m\n",
      "\u001b[1;32m     43 \u001b[0m\u001b[0mplot\u001b[0m\u001b[0;34m(\u001b[0m\u001b[0;34m[\u001b[0m\u001b[0;36m4e3\u001b[0m\u001b[0;34m,\u001b[0m\u001b[0;36m4e3\u001b[0m\u001b[0;34m]\u001b[0m\u001b[0;34m,\u001b[0m\u001b[0;34m[\u001b[0m\u001b[0;36m0\u001b[0m\u001b[0;34m,\u001b[0m\u001b[0mT14\u001b[0m\u001b[0;34m]\u001b[0m\u001b[0;34m,\u001b[0m\u001b[0mlw\u001b[0m\u001b[0;34m=\u001b[0m\u001b[0;36m2\u001b[0m\u001b[0;34m,\u001b[0m\u001b[0mlabel\u001b[0m\u001b[0;34m=\u001b[0m\u001b[0;34m'Transit Duration'\u001b[0m\u001b[0;34m)\u001b[0m\u001b[0;34m\u001b[0m\u001b[0m\n",
      "\u001b[1;32m     44 \u001b[0m\u001b[0mxlim\u001b[0m\u001b[0;34m(\u001b[0m\u001b[0;36m1900\u001b[0m\u001b[0;34m,\u001b[0m\u001b[0;36m4100\u001b[0m\u001b[0;34m)\u001b[0m\u001b[0;34m\u001b[0m\u001b[0m\n",
      "\u001b[1;32m     45 \u001b[0m\u001b[0;31m#xlim(2700,3300)\u001b[0m\u001b[0;34m\u001b[0m\u001b[0;34m\u001b[0m\u001b[0m\n",
      "\u001b[1;32m     46 \u001b[0m\u001b[0;34m\u001b[0m\u001b[0m\n",
      "\u001b[0;32m---> 47 \u001b[0;31m\u001b[0mlegend\u001b[0m\u001b[0;34m(\u001b[0m\u001b[0;34m)\u001b[0m\u001b[0;34m\u001b[0m\u001b[0m\n",
      "\u001b[0m\u001b[1;32m     48 \u001b[0m\u001b[0mxlabel\u001b[0m\u001b[0;34m(\u001b[0m\u001b[0;34m'BJD - %i'\u001b[0m \u001b[0;34m%\u001b[0m \u001b[0mbjd0\u001b[0m\u001b[0;34m)\u001b[0m\u001b[0;34m\u001b[0m\u001b[0m\n",
      "\u001b[1;32m     49 \u001b[0m\u001b[0mylabel\u001b[0m\u001b[0;34m(\u001b[0m\u001b[0;34m'O - C [Sinukoff+15 Ephem]'\u001b[0m\u001b[0;34m)\u001b[0m\u001b[0;34m\u001b[0m\u001b[0m\n",
      "\u001b[1;32m     50 \u001b[0m\u001b[0mgcf\u001b[0m\u001b[0;34m(\u001b[0m\u001b[0;34m)\u001b[0m\u001b[0;34m.\u001b[0m\u001b[0msavefig\u001b[0m\u001b[0;34m(\u001b[0m\u001b[0;34m'fig_K2-19-Observations.pdf'\u001b[0m\u001b[0;34m)\u001b[0m\u001b[0;34m\u001b[0m\u001b[0m\n",
      "\n",
      "ipdb> exit\n"
     ]
    }
   ],
   "source": [
    "debug"
   ]
  },
  {
   "cell_type": "code",
   "execution_count": 173,
   "metadata": {},
   "outputs": [
    {
     "data": {
      "text/plain": [
       "i_planet                   2\n",
       "i_epoch                   87\n",
       "start            2.45785e+06\n",
       "stop             2.45785e+06\n",
       "Unnamed: 4               NaN\n",
       "notes         Spitzer K2-19c\n",
       "Name: 2, dtype: object"
      ]
     },
     "execution_count": 173,
     "metadata": {},
     "output_type": "execute_result"
    }
   ],
   "source": [
    "rng = pd.read_excel('data/transit-times.xlsx',sheetname='Sheet2')\n",
    "rng.index = rng.i_planet\n",
    "rng = rng.ix[2]\n",
    "rng"
   ]
  }
 ],
 "metadata": {
  "kernelspec": {
   "display_name": "Python 2",
   "language": "python",
   "name": "python2"
  },
  "language_info": {
   "codemirror_mode": {
    "name": "ipython",
    "version": 2
   },
   "file_extension": ".py",
   "mimetype": "text/x-python",
   "name": "python",
   "nbconvert_exporter": "python",
   "pygments_lexer": "ipython2",
   "version": "2.7.13"
  }
 },
 "nbformat": 4,
 "nbformat_minor": 1
}
