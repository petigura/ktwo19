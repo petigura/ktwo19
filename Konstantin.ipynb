{
 "cells": [
  {
   "cell_type": "code",
   "execution_count": 4,
   "metadata": {},
   "outputs": [
    {
     "name": "stdout",
     "output_type": "stream",
     "text": [
      "Populating the interactive namespace from numpy and matplotlib\n"
     ]
    }
   ],
   "source": [
    "%reload_ext autoreload\n",
    "%autoreload 2 \n",
    "%pylab osx\n",
    "from astropy import constants as c\n",
    "from astropy import units as u\n",
    "G = c.G.to(u.AU**3 / u.M_sun / u.day**2).value"
   ]
  },
  {
   "cell_type": "markdown",
   "metadata": {},
   "source": [
    "## Test if delta pomega is invarient "
   ]
  },
  {
   "cell_type": "code",
   "execution_count": 5,
   "metadata": {},
   "outputs": [
    {
     "name": "stdout",
     "output_type": "stream",
     "text": [
      "a=5.203320, e=0.048401, inc=0.022783, Omega=1.754667, omega=-1.497419, f=-2.990930 pomega=0.257248\n",
      "a=5.204636, e=0.048139, inc=0.022783, Omega=1.754667, omega=4.784899, f=-2.990063 pomega=6.539566\n"
     ]
    }
   ],
   "source": [
    "import ktwo19.conversion     \n",
    "reload(ktwo19.conversion)\n",
    "from astropy import constants as c\n",
    "\n",
    "# Jupiter\n",
    "t = -0.06266423\n",
    "\n",
    "e = 0.0484007\n",
    "a = 5.20332\n",
    "Omega = 1.754667 # p51 MD (radians)\n",
    "inc = 0.022783 # p51 MD (radians) (radians)\n",
    "pomega = 0.25724756910994823 # p51 MD\n",
    "E = 3.2997020305279596 # p51 MD\n",
    "omega = pomega - Omega \n",
    "msys = (c.M_sun + c.M_jup).to(u.Msun).value\n",
    "per = sqrt(4 * pi**2 / G / msys * a**3) # Kepler's third law\n",
    "f = 2 * np.arctan(np.sqrt((1+e)/(1-e))*tan(E/2)) # true anomally\n",
    "\n",
    "\n",
    "kep1 = a, e, inc, Omega, omega, f\n",
    "kep2 = a, e, inc, Omega, omega + 0.5*pi/2, f\n",
    "\n",
    "car1 = ktwo19.conversion.keplerian_to_cartesian(*((per,)+kep1))\n",
    "car2 = ktwo19.conversion.keplerian_to_cartesian(*((per,)+kep2))\n",
    "\n",
    "rcar1 = ktwo19.conversion.rotate_cartesian(car1,pi/2,0,0)\n",
    "rcar1 = ktwo19.conversion.rotate_cartesian(rcar1,-pi/2,0,0)\n",
    "rcar2 = ktwo19.conversion.rotate_cartesian(car2,-pi/2,-pi/2,-pi/2)\n",
    "\n",
    "rkep1 = ktwo19.conversion.cartesian_to_keplerian(rcar1, msys)\n",
    "rkep2 = ktwo19.conversion.cartesian_to_keplerian(rcar2, msys)\n",
    "def print_keplerian(kep):\n",
    "    s = \"\"\n",
    "    s+=\"a={:f}, e={:f}, inc={:f}, Omega={:f}, omega={:f}, f={:f} \".format( *kep)\n",
    "    s+=\"pomega={:f}\".format(kep[3]+kep[4])\n",
    "    print s\n",
    "\n",
    "    \n",
    "print_keplerian(kep1)\n",
    "#print_keplerian(kep2)\n",
    "\n",
    "print_keplerian(rkep1)\n",
    "#print_keplerian(rkep2)"
   ]
  },
  {
   "cell_type": "markdown",
   "metadata": {},
   "source": [
    "## Is delta pomega conserved under rotation"
   ]
  },
  {
   "cell_type": "code",
   "execution_count": 34,
   "metadata": {},
   "outputs": [
    {
     "name": "stdout",
     "output_type": "stream",
     "text": [
      "a=5.203320, e=0.048401, inc=0.022783, Omega=1.754667, omega=-1.497419, f=-2.990930 pomega=0.257248\n",
      "a=5.203320, e=0.048401, inc=0.422783, Omega=2.540065, omega=-0.712021, f=-2.990930 pomega=1.828044\n",
      "a=5.204636, e=0.048139, inc=0.022783, Omega=2.754667, omega=4.784899, f=-2.990063 pomega=7.539566\n",
      "a=5.204636, e=0.048139, inc=0.422783, Omega=-2.743120, omega=5.570297, f=-2.990063 pomega=2.827177\n",
      "-0.785398163397 -0.785398163397\n",
      "-1.57079632679 4.71238898039\n"
     ]
    }
   ],
   "source": [
    "Omega = np.deg2rad(100.535) # p51 MD\n",
    "inc = np.deg2rad(1.30537) # p51 MD\n",
    "pomega = np.deg2rad(14.7392) # p51 MD\n",
    "omega = pomega - Omega \n",
    "E = np.deg2rad(189.059) # p51 MD\n",
    "msys = (c.M_sun + c.M_jup).to(u.Msun).value\n",
    "e = 0.0484007\n",
    "a = 5.20332\n",
    "per = sqrt(4 * pi**2 / G / msys * a**3) # Kepler's third law\n",
    "f = 2 * np.arctan(np.sqrt((1+e)/(1-e)) * tan(E/2) ) # true anomally\n",
    "\n",
    "kep1 = a, e, inc, Omega, omega, f\n",
    "kep2 = a, e, inc+0.4, Omega + 0.5*pi/2, omega + 0.5*pi/2, f\n",
    "\n",
    "car1 = ktwo19.conversion.keplerian_to_cartesian(*((per,)+kep1))\n",
    "car2 = ktwo19.conversion.keplerian_to_cartesian(*((per,)+kep2))\n",
    "\n",
    "rcar1 = ktwo19.conversion.rotate_cartesian(car1,0,0,1)\n",
    "rcar2 = ktwo19.conversion.rotate_cartesian(car2,0,0,1)\n",
    "\n",
    "\n",
    "rkep1 = ktwo19.conversion.cartesian_to_keplerian(rcar1, msys)\n",
    "rkep2 = ktwo19.conversion.cartesian_to_keplerian(rcar2, msys)\n",
    "def print_keplerian(kep):\n",
    "    s = \"\"\n",
    "    s+=\"a={:f}, e={:f}, inc={:f}, Omega={:f}, omega={:f}, f={:f} \".format( *kep)\n",
    "    s+=\"pomega={:f}\".format(kep[3]+kep[4])\n",
    "    print s\n",
    "\n",
    "print_keplerian(kep1)\n",
    "print_keplerian(kep2)\n",
    "print_keplerian(rkep1)\n",
    "print_keplerian(rkep2)\n",
    "\n",
    "dpomega = (kep1[3]+kep1[4]) - (kep2[3]+kep2[4])\n",
    "rdpomega = (rkep1[3]+rkep1[4]) - (rkep2[3]+rkep2[4])\n",
    "\n",
    "domega = kep1[4] -kep2[4]\n",
    "rdomega = rkep1[4] - rkep2[4]\n",
    "\n",
    "\n",
    "print domega,rdomega\n",
    "print dpomega,rdpomega"
   ]
  },
  {
   "cell_type": "code",
   "execution_count": 30,
   "metadata": {},
   "outputs": [
    {
     "data": {
      "text/plain": [
       "-0.78539816339744806"
      ]
     },
     "execution_count": 30,
     "metadata": {},
     "output_type": "execute_result"
    }
   ],
   "source": [
    "kep1[3]-kep2[3]"
   ]
  },
  {
   "cell_type": "code",
   "execution_count": 29,
   "metadata": {},
   "outputs": [
    {
     "data": {
      "text/plain": [
       "5.4977871437821388"
      ]
     },
     "execution_count": 29,
     "metadata": {},
     "output_type": "execute_result"
    }
   ],
   "source": [
    "rkep1[3] - rkep2[3]"
   ]
  },
  {
   "cell_type": "code",
   "execution_count": 18,
   "metadata": {},
   "outputs": [
    {
     "name": "stdout",
     "output_type": "stream",
     "text": [
      "Populating the interactive namespace from numpy and matplotlib\n",
      "writing table photodyn-samples to cache\n",
      "a2              0.075178\n",
      "e2              0.178566\n",
      "incrad2         1.597806\n",
      "Omegarad2       0.000000\n",
      "w2             -1.694048\n",
      "tp2          2031.644783\n",
      "Name: 3, dtype: float64\n"
     ]
    },
    {
     "name": "stderr",
     "output_type": "stream",
     "text": [
      "/Users/petigura/anaconda2/lib/python2.7/site-packages/ipykernel_launcher.py:33: SettingWithCopyWarning: \n",
      "A value is trying to be set on a copy of a slice from a DataFrame\n",
      "\n",
      "See the caveats in the documentation: http://pandas.pydata.org/pandas-docs/stable/indexing.html#indexing-view-versus-copy\n"
     ]
    },
    {
     "name": "stdout",
     "output_type": "stream",
     "text": [
      "a2           7.519263e-02\n",
      "e2           1.783398e-01\n",
      "incrad2      2.700934e-02\n",
      "Omegarad2    1.422308e-17\n",
      "w2           4.588929e+00\n",
      "tp2          2.031645e+03\n",
      "Name: 3, dtype: float64\n",
      "---------------------------------\n",
      "REBOUND version:     \t3.6.6\n",
      "REBOUND built on:    \tAug 21 2018 09:37:11\n",
      "Number of particles: \t3\n",
      "Selected integrator: \tias15\n",
      "Simulation time:     \t2.0200000000000000e+03\n",
      "Current timestep:    \t0.001000\n",
      "---------------------------------\n",
      "<rebound.Particle object, m=0.903066707684 x=1.13859110711e-07 y=-1.42890813616e-05 z=-3.52250676086e-07 vx=7.1296450306e-06 vy=2.34559404714e-07 vz=1.92659212801e-07>\n",
      "<rebound.Particle object, m=9.93754130041e-05 x=-0.000956473925384 y=0.0883605215951 z=0.00238717340321 vx=-0.0498603404777 vy=-0.0019854503883 vz=-5.3452420385e-05>\n",
      "<rebound.Particle object, m=3.49772980871e-05 x=-0.000222212157949 y=0.117880183998 z=0.00231234314539 vx=-0.0424176027992 vy=-0.000415064565572 vz=-0.00482233545419>\n",
      "---------------------------------\n",
      "12022.0\n",
      "22024.0\n"
     ]
    }
   ],
   "source": [
    "%pylab osx\n",
    "\n",
    "import rebound\n",
    "import numpy as np\n",
    "from astropy import constants as c\n",
    "import radvel.orbit\n",
    "import ktwo19.io\n",
    "from matplotlib import pylab as plt\n",
    "import ktwo19.conversion\n",
    "def setupSimulation(i):\n",
    "    df = ktwo19.io.load_table('photodyn-samples',cache=2)\n",
    "    row = df.iloc[i]\n",
    "    sim = rebound.Simulation()\n",
    "    t0 = 2020.0 \n",
    "\n",
    "    print row['a2 e2 incrad2 Omegarad2 w2 tp2'.split()]\n",
    "    for i in range(1,4):\n",
    "        a = row['a%i' %i]\n",
    "        e = row['e%i' %i]\n",
    "        inc = row['incrad%i' %i]\n",
    "\n",
    "        Omega = row['Omegarad%i' %i]\n",
    "        omega = row['w%i' %i]\n",
    "        per = row['per%i' %i]\n",
    "        tp = row['tp%i' %i]\n",
    "        f = ktwo19.conversion.compute_true_anomaly(t0, per, a, e, tp)\n",
    "\n",
    "        car = ktwo19.conversion.keplerian_to_cartesian(per, a, e, inc, Omega, omega, f)\n",
    "        rcar = ktwo19.conversion.rotate_cartesian(car,-pi/2,0,0)\n",
    "        msys = 4 * pi**2 * a**3 / per**2 / G\n",
    "        a, e, inc, Omega, omega, f = ktwo19.conversion.cartesian_to_keplerian(rcar, msys)\n",
    " \n",
    "        row.loc['a%i' %i] = a\n",
    "        row.loc['e%i' %i] =  e\n",
    "        row.loc['incrad%i' %i] = inc\n",
    "        row.loc['Omegarad%i' %i] = Omega\n",
    "        row.loc['w%i' %i] = omega\n",
    "    print row['a2 e2 incrad2 Omegarad2 w2 tp2'.split()]\n",
    "    sim.t = t0\n",
    "    sim.G = 2.9591220363e-4 # in Msun-AU-day units\n",
    "    sim.integrator = \"ias15\" \n",
    "    Mstar = row['Mstar']\n",
    "    sim.add(m=Mstar)\n",
    "    \n",
    "    # Add K2-19b\n",
    "    m = row.masse2 * c.M_earth / c.M_sun # Solar masses\n",
    "    P = row.per2\n",
    "    e = row.e2\n",
    "    omega = row.w2\n",
    "    Omega = row.Omegarad2\n",
    "#    inc = pi - row.incrad2\n",
    "    inc = row.incrad2\n",
    "    T = row.tp2 # Time of periastron\n",
    "    sim.add(m=m, P=P, e=e, omega=omega, Omega=Omega, inc=inc, T=T)\n",
    "\n",
    "    # Add K2-19c\n",
    "    m = row.masse3 * c.M_earth / c.M_sun # Solar masses\n",
    "    P = row.per3\n",
    "    e = row.e3\n",
    "    omega = row.w3\n",
    "    Omega = row.Omegarad3 \n",
    "    inc = row.incrad3\n",
    "    T = row.tp3 # Time of periastron\n",
    "    sim.add(m=m, P=P, e=e, omega=omega, Omega=Omega, inc=inc, T=T)\n",
    "    sim.move_to_com()\n",
    "    return sim\n",
    "\n",
    "def run_simulation(irow):\n",
    "    sim = setupSimulation(irow)\n",
    "    sim.status()\n",
    "    sim.exit_min_distance = 0.01\n",
    "    sim.automateSimulationArchive(\"archive.bin\",interval=10,deletefile=True)\n",
    "    tstart = sim.t\n",
    "    tstop = tstart + 30000\n",
    "    dt_out = 1\n",
    "\n",
    "    times = np.arange(tstart, tstop, dt_out)\n",
    "\n",
    "    ps = sim.particles # ps is now an array of pointers. It will update as the simulation runs.\n",
    "    t_print = tstart\n",
    "    t_since_print = 0\n",
    "    t_print_step = 10000\n",
    "    df = []\n",
    "    try:\n",
    "        for i, time in enumerate(times):\n",
    "            d = {}\n",
    "            sim.integrate(time, exact_finish_time=0)\n",
    "            for element in 'P a e M n omega pomega Omega inc l'.split():\n",
    "                \n",
    "                for i_planet,s_planet in zip([1,2],'bc'):\n",
    "                    d[\"%s_%s\" % (element,s_planet)] = getattr(ps[i_planet],element)\n",
    "                dp = ps[1] - ps[2]   # Calculates the coponentwise difference between particles\n",
    "                d['dist'] = np.sqrt(dp.x*dp.x + dp.y*dp.y + dp.z*dp.z)\n",
    "\n",
    "            d['time'] =time\n",
    "            df.append(d)\n",
    "            if t_since_print > t_print_step:\n",
    "                t_print = time\n",
    "                t_since_print = 0\n",
    "                print time\n",
    "            else:\n",
    "                t_since_print = time - t_print\n",
    "\n",
    "    except rebound.Encounter as error:\n",
    "        print(error)\n",
    "\n",
    "    df = pd.DataFrame(df)\n",
    "    return df \n",
    "\n",
    "df = run_simulation(3)"
   ]
  },
  {
   "cell_type": "code",
   "execution_count": 22,
   "metadata": {},
   "outputs": [
    {
     "data": {
      "text/plain": [
       "<matplotlib.text.Text at 0x1c28bb0ad0>"
      ]
     },
     "execution_count": 22,
     "metadata": {},
     "output_type": "execute_result"
    }
   ],
   "source": [
    "from cycler import cycler\n",
    "new_colors = ['#1f77b4', '#ff7f0e', '#2ca02c', '#d62728',\n",
    "              '#9467bd', '#8c564b', '#e377c2', '#7f7f7f',\n",
    "              '#bcbd22', '#17becf']\n",
    "\n",
    "mpl.rcParams['axes.prop_cycle'] = cycler(color=new_colors)\n",
    "\n",
    "\n",
    ",close all\n",
    "fig,axL = subplots(nrows=2,sharex=True)\n",
    "sca(axL[0])\n",
    "\n",
    "d = {\n",
    "   r'$4 \\lambda_b - 6 \\lambda_c + 2 \\varpi_c$':'4 * l_b - 6 * l_c + 2 * pomega_c',\n",
    "   r'$4 \\lambda_b - 6 \\lambda_c + 2 \\varpi_b$':'4 * l_b - 6 * l_c + 2 * pomega_b',\n",
    "   r'$2 \\lambda_b - 3 \\lambda_c + \\varpi_c$':'2 * l_b - 3 * l_c + pomega_c',\n",
    "   r'$2 \\lambda_b - 3 \\lambda_c + \\varpi_b$':'2 * l_b - 3 * l_c + pomega_b',\n",
    "   r'$2 \\lambda_b - 3 \\lambda_c + \\varpi_b$':'2 * l_b - 3 * l_c + pomega_b',\n",
    "   r'dist':'dist'\n",
    "}\n",
    "k = r'$4 \\lambda_b - 6 \\lambda_c + 2 \\varpi_c$'\n",
    "#k = r'$4 \\lambda_b - 6 \\lambda_c + 2 \\varpi_b$'\n",
    "#k = r'$2 \\lambda_b - 3 \\lambda_c + \\varpi_c$'\n",
    "#k = r'$2 \\lambda_b - 3 \\lambda_c + \\varpi_b$'\n",
    "\n",
    "fig,axL = subplots(nrows=2,sharex=True)\n",
    "sca(axL[0])\n",
    "_eval = d[k]\n",
    "plot(df.time,np.mod(df.eval(_eval),2*pi))\n",
    "grid()\n",
    "xlabel('time')\n",
    "ylabel(k)\n",
    "sca(axL[1])\n",
    "#plot(df.time,df.pomega_b)\n",
    "grid()\n",
    "\n",
    "#plot(df.time,df.omega_b)\n",
    "#plot(df.time,df.Omega_b)\n",
    "plot(df.time,df.inc_b,label=r'$i_b$')\n",
    "plot(df.time,df.omega_b,label=r'$\\omega_b$')\n",
    "plot(df.time,df.Omega_b,label=r'$\\Omega_b$')\n",
    "plot(df.time,df.inc_c,label=r'$i_c$')\n",
    "plot(df.time,df.omega_c,label=r'$\\omega_c$')\n",
    "plot(df.time,df.Omega_c,label=r'$\\Omega_c$')\n",
    "#plot(df.time,df.omega_c + df.Omega_c,label=r'$\\omega_c + \\Omega_c$')\n",
    "#plot(df.time,df.pomega_c,label=r'$\\varpi_c$')\n",
    "syt = ['-$\\pi$','-$\\pi/2$','0','$\\pi$/2','$\\pi$']\n",
    "yt = [-pi, -pi/2,0,pi/2,pi]\n",
    "yticks(yt,syt) \n",
    "\n",
    "legend()\n",
    "xlabel('time (days)')"
   ]
  },
  {
   "cell_type": "code",
   "execution_count": 164,
   "metadata": {},
   "outputs": [
    {
     "name": "stdout",
     "output_type": "stream",
     "text": [
      "read table photodyn-samples from load_table_cache.hdf\n"
     ]
    },
    {
     "ename": "KeyError",
     "evalue": "'Omegarad1'",
     "output_type": "error",
     "traceback": [
      "\u001b[0;31m---------------------------------------------------------------------------\u001b[0m",
      "\u001b[0;31mKeyError\u001b[0m                                  Traceback (most recent call last)",
      "\u001b[0;32m<ipython-input-164-db64a3b84b6c>\u001b[0m in \u001b[0;36m<module>\u001b[0;34m()\u001b[0m\n\u001b[1;32m      5\u001b[0m \u001b[0mtimes\u001b[0m \u001b[0;34m=\u001b[0m \u001b[0mktwo19\u001b[0m\u001b[0;34m.\u001b[0m\u001b[0mio\u001b[0m\u001b[0;34m.\u001b[0m\u001b[0mload_table\u001b[0m\u001b[0;34m(\u001b[0m\u001b[0;34m'times'\u001b[0m\u001b[0;34m)\u001b[0m\u001b[0;34m\u001b[0m\u001b[0m\n\u001b[1;32m      6\u001b[0m \u001b[0;32mfor\u001b[0m \u001b[0mi\u001b[0m \u001b[0;32min\u001b[0m \u001b[0mrange\u001b[0m\u001b[0;34m(\u001b[0m\u001b[0mnsim\u001b[0m\u001b[0;34m)\u001b[0m\u001b[0;34m:\u001b[0m\u001b[0;34m\u001b[0m\u001b[0m\n\u001b[0;32m----> 7\u001b[0;31m     \u001b[0mdf\u001b[0m \u001b[0;34m=\u001b[0m \u001b[0mrun_simulation\u001b[0m\u001b[0;34m(\u001b[0m\u001b[0mi\u001b[0m\u001b[0;34m)\u001b[0m\u001b[0;34m\u001b[0m\u001b[0m\n\u001b[0m\u001b[1;32m      8\u001b[0m     \u001b[0;32mif\u001b[0m \u001b[0mnsim\u001b[0m\u001b[0;34m!=\u001b[0m\u001b[0;36m1\u001b[0m\u001b[0;34m:\u001b[0m\u001b[0;34m\u001b[0m\u001b[0m\n\u001b[1;32m      9\u001b[0m         \u001b[0max\u001b[0m\u001b[0;34m=\u001b[0m\u001b[0maxL\u001b[0m\u001b[0;34m[\u001b[0m\u001b[0mi\u001b[0m\u001b[0;34m]\u001b[0m\u001b[0;34m\u001b[0m\u001b[0m\n",
      "\u001b[0;32m<ipython-input-161-e51af9487e94>\u001b[0m in \u001b[0;36mrun_simulation\u001b[0;34m(irow)\u001b[0m\n\u001b[1;32m     44\u001b[0m \u001b[0;34m\u001b[0m\u001b[0m\n\u001b[1;32m     45\u001b[0m \u001b[0;32mdef\u001b[0m \u001b[0mrun_simulation\u001b[0m\u001b[0;34m(\u001b[0m\u001b[0mirow\u001b[0m\u001b[0;34m)\u001b[0m\u001b[0;34m:\u001b[0m\u001b[0;34m\u001b[0m\u001b[0m\n\u001b[0;32m---> 46\u001b[0;31m     \u001b[0msim\u001b[0m \u001b[0;34m=\u001b[0m \u001b[0msetupSimulation\u001b[0m\u001b[0;34m(\u001b[0m\u001b[0mirow\u001b[0m\u001b[0;34m)\u001b[0m\u001b[0;34m\u001b[0m\u001b[0m\n\u001b[0m\u001b[1;32m     47\u001b[0m     \u001b[0msim\u001b[0m\u001b[0;34m.\u001b[0m\u001b[0mstatus\u001b[0m\u001b[0;34m(\u001b[0m\u001b[0;34m)\u001b[0m\u001b[0;34m\u001b[0m\u001b[0m\n\u001b[1;32m     48\u001b[0m     \u001b[0msim\u001b[0m\u001b[0;34m.\u001b[0m\u001b[0mexit_min_distance\u001b[0m \u001b[0;34m=\u001b[0m \u001b[0;36m0.01\u001b[0m\u001b[0;34m\u001b[0m\u001b[0m\n",
      "\u001b[0;32m<ipython-input-161-e51af9487e94>\u001b[0m in \u001b[0;36msetupSimulation\u001b[0;34m(i)\u001b[0m\n\u001b[1;32m     10\u001b[0m \u001b[0;32mdef\u001b[0m \u001b[0msetupSimulation\u001b[0m\u001b[0;34m(\u001b[0m\u001b[0mi\u001b[0m\u001b[0;34m)\u001b[0m\u001b[0;34m:\u001b[0m\u001b[0;34m\u001b[0m\u001b[0m\n\u001b[1;32m     11\u001b[0m     \u001b[0mdf\u001b[0m \u001b[0;34m=\u001b[0m \u001b[0mktwo19\u001b[0m\u001b[0;34m.\u001b[0m\u001b[0mio\u001b[0m\u001b[0;34m.\u001b[0m\u001b[0mload_table\u001b[0m\u001b[0;34m(\u001b[0m\u001b[0;34m'photodyn-samples'\u001b[0m\u001b[0;34m,\u001b[0m\u001b[0mcache\u001b[0m\u001b[0;34m=\u001b[0m\u001b[0;36m1\u001b[0m\u001b[0;34m)\u001b[0m\u001b[0;34m\u001b[0m\u001b[0m\n\u001b[0;32m---> 12\u001b[0;31m     \u001b[0mdf\u001b[0m \u001b[0;34m=\u001b[0m \u001b[0mrotate_frame\u001b[0m\u001b[0;34m(\u001b[0m\u001b[0mdf\u001b[0m\u001b[0;34m,\u001b[0m\u001b[0;36m0.7\u001b[0m\u001b[0;34m,\u001b[0m\u001b[0;36m0\u001b[0m\u001b[0;34m)\u001b[0m\u001b[0;34m\u001b[0m\u001b[0m\n\u001b[0m\u001b[1;32m     13\u001b[0m     \u001b[0mrow\u001b[0m \u001b[0;34m=\u001b[0m \u001b[0mdf\u001b[0m\u001b[0;34m.\u001b[0m\u001b[0miloc\u001b[0m\u001b[0;34m[\u001b[0m\u001b[0mi\u001b[0m\u001b[0;34m]\u001b[0m\u001b[0;34m\u001b[0m\u001b[0m\n\u001b[1;32m     14\u001b[0m     \u001b[0msim\u001b[0m \u001b[0;34m=\u001b[0m \u001b[0mrebound\u001b[0m\u001b[0;34m.\u001b[0m\u001b[0mSimulation\u001b[0m\u001b[0;34m(\u001b[0m\u001b[0;34m)\u001b[0m\u001b[0;34m\u001b[0m\u001b[0m\n",
      "\u001b[0;32m<ipython-input-160-d3607a787305>\u001b[0m in \u001b[0;36mrotate_frame\u001b[0;34m(df, p, q)\u001b[0m\n\u001b[1;32m     33\u001b[0m     \"\"\"\n\u001b[1;32m     34\u001b[0m     \u001b[0;32mfor\u001b[0m \u001b[0mi\u001b[0m \u001b[0;32min\u001b[0m \u001b[0mrange\u001b[0m\u001b[0;34m(\u001b[0m\u001b[0;36m1\u001b[0m\u001b[0;34m,\u001b[0m\u001b[0;36m4\u001b[0m\u001b[0;34m)\u001b[0m\u001b[0;34m:\u001b[0m\u001b[0;34m\u001b[0m\u001b[0m\n\u001b[0;32m---> 35\u001b[0;31m         \u001b[0mOmega0\u001b[0m \u001b[0;34m=\u001b[0m \u001b[0mrow\u001b[0m\u001b[0;34m[\u001b[0m\u001b[0;34m'Omegarad%i'\u001b[0m\u001b[0;34m%\u001b[0m\u001b[0mi\u001b[0m\u001b[0;34m]\u001b[0m\u001b[0;34m\u001b[0m\u001b[0m\n\u001b[0m\u001b[1;32m     36\u001b[0m         \u001b[0minc0\u001b[0m \u001b[0;34m=\u001b[0m \u001b[0mdf\u001b[0m\u001b[0;34m[\u001b[0m\u001b[0;34m'incrad%i'\u001b[0m\u001b[0;34m%\u001b[0m\u001b[0mi\u001b[0m\u001b[0;34m]\u001b[0m\u001b[0;34m\u001b[0m\u001b[0m\n\u001b[1;32m     37\u001b[0m         \u001b[0mp0\u001b[0m \u001b[0;34m=\u001b[0m \u001b[0mnp\u001b[0m\u001b[0;34m.\u001b[0m\u001b[0msin\u001b[0m\u001b[0;34m(\u001b[0m\u001b[0minc0\u001b[0m\u001b[0;34m/\u001b[0m\u001b[0;36m2\u001b[0m\u001b[0;34m)\u001b[0m\u001b[0;34m*\u001b[0m\u001b[0mnp\u001b[0m\u001b[0;34m.\u001b[0m\u001b[0mcos\u001b[0m\u001b[0;34m(\u001b[0m\u001b[0mOmega0\u001b[0m\u001b[0;34m)\u001b[0m\u001b[0;34m\u001b[0m\u001b[0m\n",
      "\u001b[0;32m/Users/petigura/anaconda2/lib/python2.7/site-packages/pandas/core/series.pyc\u001b[0m in \u001b[0;36m__getitem__\u001b[0;34m(self, key)\u001b[0m\n\u001b[1;32m    621\u001b[0m         \u001b[0mkey\u001b[0m \u001b[0;34m=\u001b[0m \u001b[0mcom\u001b[0m\u001b[0;34m.\u001b[0m\u001b[0m_apply_if_callable\u001b[0m\u001b[0;34m(\u001b[0m\u001b[0mkey\u001b[0m\u001b[0;34m,\u001b[0m \u001b[0mself\u001b[0m\u001b[0;34m)\u001b[0m\u001b[0;34m\u001b[0m\u001b[0m\n\u001b[1;32m    622\u001b[0m         \u001b[0;32mtry\u001b[0m\u001b[0;34m:\u001b[0m\u001b[0;34m\u001b[0m\u001b[0m\n\u001b[0;32m--> 623\u001b[0;31m             \u001b[0mresult\u001b[0m \u001b[0;34m=\u001b[0m \u001b[0mself\u001b[0m\u001b[0;34m.\u001b[0m\u001b[0mindex\u001b[0m\u001b[0;34m.\u001b[0m\u001b[0mget_value\u001b[0m\u001b[0;34m(\u001b[0m\u001b[0mself\u001b[0m\u001b[0;34m,\u001b[0m \u001b[0mkey\u001b[0m\u001b[0;34m)\u001b[0m\u001b[0;34m\u001b[0m\u001b[0m\n\u001b[0m\u001b[1;32m    624\u001b[0m \u001b[0;34m\u001b[0m\u001b[0m\n\u001b[1;32m    625\u001b[0m             \u001b[0;32mif\u001b[0m \u001b[0;32mnot\u001b[0m \u001b[0mis_scalar\u001b[0m\u001b[0;34m(\u001b[0m\u001b[0mresult\u001b[0m\u001b[0;34m)\u001b[0m\u001b[0;34m:\u001b[0m\u001b[0;34m\u001b[0m\u001b[0m\n",
      "\u001b[0;32m/Users/petigura/anaconda2/lib/python2.7/site-packages/pandas/core/indexes/base.pyc\u001b[0m in \u001b[0;36mget_value\u001b[0;34m(self, series, key)\u001b[0m\n\u001b[1;32m   2572\u001b[0m                     \u001b[0;32mraise\u001b[0m \u001b[0mInvalidIndexError\u001b[0m\u001b[0;34m(\u001b[0m\u001b[0mkey\u001b[0m\u001b[0;34m)\u001b[0m\u001b[0;34m\u001b[0m\u001b[0m\n\u001b[1;32m   2573\u001b[0m                 \u001b[0;32melse\u001b[0m\u001b[0;34m:\u001b[0m\u001b[0;34m\u001b[0m\u001b[0m\n\u001b[0;32m-> 2574\u001b[0;31m                     \u001b[0;32mraise\u001b[0m \u001b[0me1\u001b[0m\u001b[0;34m\u001b[0m\u001b[0m\n\u001b[0m\u001b[1;32m   2575\u001b[0m             \u001b[0;32mexcept\u001b[0m \u001b[0mException\u001b[0m\u001b[0;34m:\u001b[0m  \u001b[0;31m# pragma: no cover\u001b[0m\u001b[0;34m\u001b[0m\u001b[0m\n\u001b[1;32m   2576\u001b[0m                 \u001b[0;32mraise\u001b[0m \u001b[0me1\u001b[0m\u001b[0;34m\u001b[0m\u001b[0m\n",
      "\u001b[0;31mKeyError\u001b[0m: 'Omegarad1'"
     ]
    }
   ],
   "source": [
    ",close all\n",
    "nsim = 1\n",
    "fig,axL = subplots(nrows=nsim,figsize=(10,8),sharex=True,sharey=True)\n",
    "\n",
    "times = ktwo19.io.load_table('times')\n",
    "for i in range(nsim):\n",
    "    df = run_simulation(i)\n",
    "    if nsim!=1:\n",
    "        ax=axL[i]\n",
    "        sca(ax)\n",
    "    ax = gca()\n",
    "    _eval = d[k]\n",
    "    phi = df.eval(_eval)\n",
    "    phi = np.mod(phi,2*pi)\n",
    "    plot(df.time,phi)\n",
    "    text(0.99,0.99,\"draw {}\".format(i),transform=ax.transAxes,ha='right',va='top',color='red')\n",
    "\n",
    "    for i,row in times.iterrows():\n",
    "        axvline(row.tc,alpha=0.3,color='red')\n",
    "ylabel(k)\n",
    "xlabel('time (days)')\n",
    "tight_layout()"
   ]
  },
  {
   "cell_type": "code",
   "execution_count": 50,
   "metadata": {},
   "outputs": [
    {
     "data": {
      "text/plain": [
       "[<matplotlib.lines.Line2D at 0x1c27e6dad0>]"
      ]
     },
     "execution_count": 50,
     "metadata": {},
     "output_type": "execute_result"
    }
   ],
   "source": [
    "bigG = 0.0002959\n",
    "mstar = 0.88\n",
    "mb = 9.93754130041e-05\n",
    "mc = 3.47956583174e-05\n",
    "\n",
    "clf()\n",
    "Lb =  mb * sqrt(bigG * mstar * df.a_b)\n",
    "Gb =  Lb * sqrt(1 - df.e_b**2)\n",
    "Hb =  Gb * cos(df.inc_c)\n",
    "plot(df.time,Hb)\n",
    "clf()\n",
    "C = 0.0000003\n",
    "plot(df.time,arccos((Hb+C)/Gb))"
   ]
  },
  {
   "cell_type": "code",
   "execution_count": 44,
   "metadata": {},
   "outputs": [
    {
     "data": {
      "text/plain": [
       "0       0.917574\n",
       "1       0.917658\n",
       "2       0.917731\n",
       "3       0.917759\n",
       "4       0.917758\n",
       "5       0.917748\n",
       "6       0.917729\n",
       "7       0.917704\n",
       "8       0.917683\n",
       "9       0.917672\n",
       "10      0.917665\n",
       "11      0.917660\n",
       "12      0.917659\n",
       "13      0.917664\n",
       "14      0.917672\n",
       "15      0.917685\n",
       "16      0.917700\n",
       "17      0.917719\n",
       "18      0.917741\n",
       "19      0.917759\n",
       "20      0.917766\n",
       "21      0.917757\n",
       "22      0.917731\n",
       "23      0.917677\n",
       "24      0.917669\n",
       "25      0.917767\n",
       "26      0.917822\n",
       "27      0.917841\n",
       "28      0.917837\n",
       "29      0.917825\n",
       "          ...   \n",
       "9970    0.984567\n",
       "9971    0.984504\n",
       "9972    0.984409\n",
       "9973    0.984442\n",
       "9974    0.984561\n",
       "9975    0.984619\n",
       "9976    0.984629\n",
       "9977    0.984623\n",
       "9978    0.984606\n",
       "9979    0.984585\n",
       "9980    0.984567\n",
       "9981    0.984557\n",
       "9982    0.984549\n",
       "9983    0.984543\n",
       "9984    0.984539\n",
       "9985    0.984541\n",
       "9986    0.984547\n",
       "9987    0.984555\n",
       "9988    0.984566\n",
       "9989    0.984580\n",
       "9990    0.984600\n",
       "9991    0.984621\n",
       "9992    0.984631\n",
       "9993    0.984630\n",
       "9994    0.984607\n",
       "9995    0.984527\n",
       "9996    0.984448\n",
       "9997    0.984526\n",
       "9998    0.984631\n",
       "9999    0.984666\n",
       "Length: 10000, dtype: float64"
      ]
     },
     "execution_count": 44,
     "metadata": {},
     "output_type": "execute_result"
    }
   ],
   "source": [
    "(Hb+ 0.0000004)/Gb"
   ]
  },
  {
   "cell_type": "code",
   "execution_count": 36,
   "metadata": {},
   "outputs": [
    {
     "name": "stderr",
     "output_type": "stream",
     "text": [
      "/Users/petigura/anaconda2/lib/python2.7/site-packages/ipykernel_launcher.py:1: RuntimeWarning: invalid value encountered in arccos\n",
      "  \"\"\"Entry point for launching an IPython kernel.\n"
     ]
    },
    {
     "data": {
      "text/plain": [
       "0      NaN\n",
       "1      NaN\n",
       "2      NaN\n",
       "3      NaN\n",
       "4      NaN\n",
       "5      NaN\n",
       "6      NaN\n",
       "7      NaN\n",
       "8      NaN\n",
       "9      NaN\n",
       "10     NaN\n",
       "11     NaN\n",
       "12     NaN\n",
       "13     NaN\n",
       "14     NaN\n",
       "15     NaN\n",
       "16     NaN\n",
       "17     NaN\n",
       "18     NaN\n",
       "19     NaN\n",
       "20     NaN\n",
       "21     NaN\n",
       "22     NaN\n",
       "23     NaN\n",
       "24     NaN\n",
       "25     NaN\n",
       "26     NaN\n",
       "27     NaN\n",
       "28     NaN\n",
       "29     NaN\n",
       "        ..\n",
       "9970   NaN\n",
       "9971   NaN\n",
       "9972   NaN\n",
       "9973   NaN\n",
       "9974   NaN\n",
       "9975   NaN\n",
       "9976   NaN\n",
       "9977   NaN\n",
       "9978   NaN\n",
       "9979   NaN\n",
       "9980   NaN\n",
       "9981   NaN\n",
       "9982   NaN\n",
       "9983   NaN\n",
       "9984   NaN\n",
       "9985   NaN\n",
       "9986   NaN\n",
       "9987   NaN\n",
       "9988   NaN\n",
       "9989   NaN\n",
       "9990   NaN\n",
       "9991   NaN\n",
       "9992   NaN\n",
       "9993   NaN\n",
       "9994   NaN\n",
       "9995   NaN\n",
       "9996   NaN\n",
       "9997   NaN\n",
       "9998   NaN\n",
       "9999   NaN\n",
       "Length: 10000, dtype: float64"
      ]
     },
     "execution_count": 36,
     "metadata": {},
     "output_type": "execute_result"
    }
   ],
   "source": [
    "arccos((Hb-1)/Gb)"
   ]
  },
  {
   "cell_type": "code",
   "execution_count": 21,
   "metadata": {},
   "outputs": [
    {
     "data": {
      "text/latex": [
       "$0.00029599451 \\; \\mathrm{\\frac{AU^{3}}{M_{\\odot}\\,d^{2}}}$"
      ],
      "text/plain": [
       "<Quantity 0.0002959945105423167 AU3 / (d2 solMass)>"
      ]
     },
     "execution_count": 21,
     "metadata": {},
     "output_type": "execute_result"
    }
   ],
   "source": []
  },
  {
   "cell_type": "code",
   "execution_count": 21,
   "metadata": {},
   "outputs": [
    {
     "name": "stdout",
     "output_type": "stream",
     "text": [
      "6.21615981301\n"
     ]
    }
   ],
   "source": [
    "%config InlineBackend.figure_format = 'retina'\n",
    "\n",
    "df['Delta']  = df.eval('P2/P1 * 2 / 3 -1')\n",
    "#df['Psuper']  = df.eval('P2 / 3 / abs(Delta)')\n",
    "plot(df.time,df['Delta'])\n",
    "xlabel('Time (days)')\n",
    "ylabel('Delta')\n",
    "print (12 / 3 / df['Delta'].mean()) / 365"
   ]
  },
  {
   "cell_type": "code",
   "execution_count": 40,
   "metadata": {},
   "outputs": [
    {
     "data": {
      "text/plain": [
       "6.217072607245211"
      ]
     },
     "execution_count": 40,
     "metadata": {},
     "output_type": "execute_result"
    }
   ],
   "source": [
    "Delta = df.P2.mean() / df.P1.mean() * 2 / 3. -1 \n",
    "(12 / 3 / Delta ) / 365"
   ]
  },
  {
   "cell_type": "code",
   "execution_count": 2,
   "metadata": {},
   "outputs": [
    {
     "name": "stdout",
     "output_type": "stream",
     "text": [
      "read table photodyn-samples from load_table_cache.hdf\n"
     ]
    },
    {
     "data": {
      "text/plain": [
       "Mstar           0.878166\n",
       "Omega1          0.000000\n",
       "Omega2          0.000000\n",
       "Omega3         -6.393305\n",
       "Rstar           0.820442\n",
       "c1              0.413735\n",
       "c2              0.166753\n",
       "dilution        0.000000\n",
       "inc1           91.402291\n",
       "inc2           91.544302\n",
       "inc3           91.123619\n",
       "massjup1        0.013357\n",
       "massjup2        0.106703\n",
       "massjup3        0.036452\n",
       "per1            2.508205\n",
       "per2            7.922153\n",
       "per3           11.899904\n",
       "rrat1           0.012573\n",
       "rrat2           0.078550\n",
       "rrat3           0.046276\n",
       "secosw1         0.000000\n",
       "secosw2        -0.041444\n",
       "secosw3        -0.011732\n",
       "sesinw1         0.000000\n",
       "sesinw2        -0.469902\n",
       "sesinw3        -0.485013\n",
       "tc1          2021.072836\n",
       "tc2          2027.902621\n",
       "tc3          2020.002122\n",
       "masse1          4.245180\n",
       "e1              0.000000\n",
       "w1              0.000000\n",
       "wdeg1           0.000000\n",
       "ecosw1          0.000000\n",
       "esinw1          0.000000\n",
       "tp1          2020.445785\n",
       "Omegarad1       0.000000\n",
       "incrad1         1.595271\n",
       "prad1           1.124866\n",
       "masse2         33.911922\n",
       "e2              0.222526\n",
       "w2             -1.658767\n",
       "wdeg2         -95.040334\n",
       "ecosw2         -0.019550\n",
       "esinw2         -0.221665\n",
       "tp2          2031.693786\n",
       "Omegarad2       0.000000\n",
       "incrad2         1.597749\n",
       "prad2           7.027496\n",
       "masse3         11.585157\n",
       "e3              0.235376\n",
       "w3             -1.594980\n",
       "wdeg3         -91.385609\n",
       "ecosw3         -0.005692\n",
       "esinw3         -0.235307\n",
       "tp3          2025.880157\n",
       "Omegarad3      -0.111584\n",
       "incrad3         1.590407\n",
       "prad3           4.140074\n",
       "wdiffdeg        3.654725\n",
       "Name: 0, dtype: float64"
      ]
     },
     "execution_count": 2,
     "metadata": {},
     "output_type": "execute_result"
    }
   ],
   "source": [
    "df = ktwo19.io.load_table('photodyn-samples',cache=1)\n",
    "df.iloc[0]"
   ]
  },
  {
   "cell_type": "code",
   "execution_count": 3,
   "metadata": {},
   "outputs": [
    {
     "name": "stdout",
     "output_type": "stream",
     "text": [
      "read table photodyn-samples from load_table_cache.hdf\n"
     ]
    }
   ],
   "source": [
    "i = 0 \n",
    "df = ktwo19.io.load_table('photodyn-samples',cache=1)\n",
    "row = df.iloc[i]\n",
    "sim = rebound.Simulation()\n",
    "sim.t = 2020.0 \n",
    "sim.G = 2.9591220363e-4 # in Msun-AU-day units\n",
    "sim.integrator = \"ias15\" \n",
    "Mstar = 0.88\n",
    "sim.add(m=0.88) # K2-19 \n",
    "   \n",
    "# Add K2-19b\n",
    "m = row.masse2 * c.M_earth / c.M_sun # Solar masses\n",
    "P = row.per2\n",
    "e = row.e2\n",
    "omega = row.w2\n",
    "Omega = row.Omegarad2\n",
    "inc = row.incrad2\n",
    "T = row.tp2 # Time of periastron\n",
    "sim.add(m=m, P=P, e=e, omega=omega, Omega=Omega, inc=inc, T=T)\n",
    "\n",
    "# Add K2-19c\n",
    "m = row.masse3 * c.M_earth / c.M_sun # Solar masses\n",
    "P = row.per3\n",
    "e = row.e3\n",
    "omega = row.w3\n",
    "Omega = row.Omegarad3\n",
    "inc = row.incrad3\n",
    "T = row.tp3 # Time of periastron\n",
    "sim.add(m=m, P=P, e=e, omega=omega, Omega=Omega, inc=inc, T=T)\n",
    "sim.move_to_com()\n",
    "ps = sim.particles # ps is now an array of pointers. It will update as the simulation runs.\n"
   ]
  },
  {
   "cell_type": "code",
   "execution_count": null,
   "metadata": {
    "collapsed": true
   },
   "outputs": [],
   "source": []
  },
  {
   "cell_type": "code",
   "execution_count": 65,
   "metadata": {},
   "outputs": [
    {
     "name": "stdout",
     "output_type": "stream",
     "text": [
      "mass 0.000101853402463\n",
      "mass 3.47956583174e-05\n",
      "semi b 0.0745316682104\n",
      "semi c 0.0977567433034\n",
      "e b 0.222525753132\n",
      "e c 0.235375581212\n",
      "w b -95.0403341993\n",
      "w c -91.3856092935\n",
      "M b -171.391273182\n",
      "M c -177.888539318\n",
      "inc b 91.5443022953\n",
      "inc c 91.1236194224\n",
      "Omega b 0.0\n",
      "Omega c -6.3933045006\n"
     ]
    }
   ],
   "source": [
    "print \"mass\", ps[1].m\n",
    "print \"mass\", ps[2].m\n",
    "\n",
    "print \"semi b\", ps[1].a\n",
    "print \"semi c\", ps[2].a\n",
    "\n",
    "print \"e b\", ps[1].e\n",
    "print \"e c\", ps[2].e\n",
    "\n",
    "print \"w b\", ps[1].omega * 360 / 2 / np.pi\n",
    "print \"w c\", ps[2].omega * 360 / 2 / np.pi\n",
    "\n",
    "print \"M b\", ps[1].M * 360 / 2 / np.pi\n",
    "print \"M c\", ps[2].M* 360 / 2 / np.pi\n",
    "\n",
    "\n",
    "print \"inc b\", ps[1].inc * 360 / 2 / np.pi\n",
    "print \"inc c\", ps[2].inc* 360 / 2 / np.pi\n",
    "\n",
    "print \"Omega b\", ps[1].Omega * 360 / 2 / np.pi\n",
    "print \"Omega c\", ps[2].Omega* 360 / 2 / np.pi\n"
   ]
  },
  {
   "cell_type": "code",
   "execution_count": 79,
   "metadata": {},
   "outputs": [
    {
     "name": "stdout",
     "output_type": "stream",
     "text": [
      "read table photodyn-samples from load_table_cache.hdf\n"
     ]
    }
   ],
   "source": [
    "df = ktwo19.io.load_table('photodyn-samples',cache=1)"
   ]
  },
  {
   "cell_type": "code",
   "execution_count": 85,
   "metadata": {},
   "outputs": [
    {
     "data": {
      "image/png": "[encoded data removed]",
      "text/plain": [
       "<matplotlib.figure.Figure at 0x18115ce7d0>"
      ]
     },
     "metadata": {},
     "output_type": "display_data"
    }
   ],
   "source": [
    "\n",
    "plot(df.ecosw2,df.ecosw3,',')\n",
    "plot(df.esinw2,df.esinw3,',')\n",
    "grid()"
   ]
  },
  {
   "cell_type": "code",
   "execution_count": 87,
   "metadata": {},
   "outputs": [
    {
     "name": "stdout",
     "output_type": "stream",
     "text": [
      "read table photodyn-samples from load_table_cache.hdf\n"
     ]
    },
    {
     "data": {
      "text/plain": [
       "[<matplotlib.lines.Line2D at 0x1c20e158d0>]"
      ]
     },
     "execution_count": 87,
     "metadata": {},
     "output_type": "execute_result"
    },
    {
     "data": {
      "image/png": "[encoded data removed]",
      "text/plain": [
       "<matplotlib.figure.Figure at 0x1c20a70e90>"
      ]
     },
     "metadata": {},
     "output_type": "display_data"
    }
   ],
   "source": [
    "df = ktwo19.io.load_table('photodyn-samples',cache=1)\n",
    "df = df.query('')\n",
    "plot(df.ecosw2,df.esinw2,',')\n",
    "plot(df.ecosw3,df.esinw3,',')\n"
   ]
  },
  {
   "cell_type": "code",
   "execution_count": null,
   "metadata": {
    "collapsed": true
   },
   "outputs": [],
   "source": [
    "sim = rebound.Simulation()\n",
    "sim.t = 0\n",
    "sim.G = 2.9591220363e-4 # in Msun-AU-day units\n",
    "sim.integrator = \"ias15\" \n",
    "sim.add(m=1) # K2-19 \n",
    "    \n",
    "\n",
    "sim.add(m=0.5, P=100, e=0, omega=0, Omega=0, inc=0, T=0)\n",
    "sim.add(m=m, P=, e=0, omega=0, Omega=0, inc=0, T=0)\n",
    "sim.move_to_com()\n",
    "\n"
   ]
  }
 ],
 "metadata": {
  "kernelspec": {
   "display_name": "Python 2",
   "language": "python",
   "name": "python2"
  }
 },
 "nbformat": 4,
 "nbformat_minor": 2
}
